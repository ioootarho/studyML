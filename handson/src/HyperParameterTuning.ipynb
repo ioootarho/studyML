{
 "cells": [
  {
   "cell_type": "markdown",
   "metadata": {},
   "source": [
    "# ハイパーパラメータのチューニング"
   ]
  },
  {
   "cell_type": "markdown",
   "metadata": {},
   "source": [
    "## Data Load"
   ]
  },
  {
   "cell_type": "code",
   "execution_count": 1,
   "metadata": {},
   "outputs": [],
   "source": [
    "import os\n",
    "import pandas as pd\n",
    "import matplotlib.pyplot as plt\n",
    "import matplotlib as mlp\n",
    "import seaborn as sns\n",
    "import numpy as np\n",
    "\n",
    "pd.set_option('display.max_columns', 200)\n",
    "plt.style.use('ggplot')"
   ]
  },
  {
   "cell_type": "markdown",
   "metadata": {},
   "source": [
    "電気通信事業者の解約データを読み込む  \n",
    "(https://www.kaggle.com/blastchar/telco-customer-churn)"
   ]
  },
  {
   "cell_type": "code",
   "execution_count": 2,
   "metadata": {},
   "outputs": [
    {
     "data": {
      "text/html": [
       "<div>\n",
       "<style scoped>\n",
       "    .dataframe tbody tr th:only-of-type {\n",
       "        vertical-align: middle;\n",
       "    }\n",
       "\n",
       "    .dataframe tbody tr th {\n",
       "        vertical-align: top;\n",
       "    }\n",
       "\n",
       "    .dataframe thead th {\n",
       "        text-align: right;\n",
       "    }\n",
       "</style>\n",
       "<table border=\"1\" class=\"dataframe\">\n",
       "  <thead>\n",
       "    <tr style=\"text-align: right;\">\n",
       "      <th></th>\n",
       "      <th>customerID</th>\n",
       "      <th>gender</th>\n",
       "      <th>SeniorCitizen</th>\n",
       "      <th>Partner</th>\n",
       "      <th>Dependents</th>\n",
       "      <th>tenure</th>\n",
       "      <th>PhoneService</th>\n",
       "      <th>MultipleLines</th>\n",
       "      <th>InternetService</th>\n",
       "      <th>OnlineSecurity</th>\n",
       "      <th>OnlineBackup</th>\n",
       "      <th>DeviceProtection</th>\n",
       "      <th>TechSupport</th>\n",
       "      <th>StreamingTV</th>\n",
       "      <th>StreamingMovies</th>\n",
       "      <th>Contract</th>\n",
       "      <th>PaperlessBilling</th>\n",
       "      <th>PaymentMethod</th>\n",
       "      <th>MonthlyCharges</th>\n",
       "      <th>TotalCharges</th>\n",
       "      <th>Churn</th>\n",
       "    </tr>\n",
       "  </thead>\n",
       "  <tbody>\n",
       "    <tr>\n",
       "      <th>0</th>\n",
       "      <td>7590-VHVEG</td>\n",
       "      <td>Female</td>\n",
       "      <td>0</td>\n",
       "      <td>Yes</td>\n",
       "      <td>No</td>\n",
       "      <td>1</td>\n",
       "      <td>No</td>\n",
       "      <td>No phone service</td>\n",
       "      <td>DSL</td>\n",
       "      <td>No</td>\n",
       "      <td>Yes</td>\n",
       "      <td>No</td>\n",
       "      <td>No</td>\n",
       "      <td>No</td>\n",
       "      <td>No</td>\n",
       "      <td>Month-to-month</td>\n",
       "      <td>Yes</td>\n",
       "      <td>Electronic check</td>\n",
       "      <td>29.85</td>\n",
       "      <td>29.85</td>\n",
       "      <td>No</td>\n",
       "    </tr>\n",
       "    <tr>\n",
       "      <th>1</th>\n",
       "      <td>5575-GNVDE</td>\n",
       "      <td>Male</td>\n",
       "      <td>0</td>\n",
       "      <td>No</td>\n",
       "      <td>No</td>\n",
       "      <td>34</td>\n",
       "      <td>Yes</td>\n",
       "      <td>No</td>\n",
       "      <td>DSL</td>\n",
       "      <td>Yes</td>\n",
       "      <td>No</td>\n",
       "      <td>Yes</td>\n",
       "      <td>No</td>\n",
       "      <td>No</td>\n",
       "      <td>No</td>\n",
       "      <td>One year</td>\n",
       "      <td>No</td>\n",
       "      <td>Mailed check</td>\n",
       "      <td>56.95</td>\n",
       "      <td>1889.50</td>\n",
       "      <td>No</td>\n",
       "    </tr>\n",
       "    <tr>\n",
       "      <th>2</th>\n",
       "      <td>3668-QPYBK</td>\n",
       "      <td>Male</td>\n",
       "      <td>0</td>\n",
       "      <td>No</td>\n",
       "      <td>No</td>\n",
       "      <td>2</td>\n",
       "      <td>Yes</td>\n",
       "      <td>No</td>\n",
       "      <td>DSL</td>\n",
       "      <td>Yes</td>\n",
       "      <td>Yes</td>\n",
       "      <td>No</td>\n",
       "      <td>No</td>\n",
       "      <td>No</td>\n",
       "      <td>No</td>\n",
       "      <td>Month-to-month</td>\n",
       "      <td>Yes</td>\n",
       "      <td>Mailed check</td>\n",
       "      <td>53.85</td>\n",
       "      <td>108.15</td>\n",
       "      <td>Yes</td>\n",
       "    </tr>\n",
       "    <tr>\n",
       "      <th>3</th>\n",
       "      <td>7795-CFOCW</td>\n",
       "      <td>Male</td>\n",
       "      <td>0</td>\n",
       "      <td>No</td>\n",
       "      <td>No</td>\n",
       "      <td>45</td>\n",
       "      <td>No</td>\n",
       "      <td>No phone service</td>\n",
       "      <td>DSL</td>\n",
       "      <td>Yes</td>\n",
       "      <td>No</td>\n",
       "      <td>Yes</td>\n",
       "      <td>Yes</td>\n",
       "      <td>No</td>\n",
       "      <td>No</td>\n",
       "      <td>One year</td>\n",
       "      <td>No</td>\n",
       "      <td>Bank transfer (automatic)</td>\n",
       "      <td>42.30</td>\n",
       "      <td>1840.75</td>\n",
       "      <td>No</td>\n",
       "    </tr>\n",
       "    <tr>\n",
       "      <th>4</th>\n",
       "      <td>9237-HQITU</td>\n",
       "      <td>Female</td>\n",
       "      <td>0</td>\n",
       "      <td>No</td>\n",
       "      <td>No</td>\n",
       "      <td>2</td>\n",
       "      <td>Yes</td>\n",
       "      <td>No</td>\n",
       "      <td>Fiber optic</td>\n",
       "      <td>No</td>\n",
       "      <td>No</td>\n",
       "      <td>No</td>\n",
       "      <td>No</td>\n",
       "      <td>No</td>\n",
       "      <td>No</td>\n",
       "      <td>Month-to-month</td>\n",
       "      <td>Yes</td>\n",
       "      <td>Electronic check</td>\n",
       "      <td>70.70</td>\n",
       "      <td>151.65</td>\n",
       "      <td>Yes</td>\n",
       "    </tr>\n",
       "  </tbody>\n",
       "</table>\n",
       "</div>"
      ],
      "text/plain": [
       "   customerID  gender  SeniorCitizen Partner Dependents  tenure PhoneService  \\\n",
       "0  7590-VHVEG  Female              0     Yes         No       1           No   \n",
       "1  5575-GNVDE    Male              0      No         No      34          Yes   \n",
       "2  3668-QPYBK    Male              0      No         No       2          Yes   \n",
       "3  7795-CFOCW    Male              0      No         No      45           No   \n",
       "4  9237-HQITU  Female              0      No         No       2          Yes   \n",
       "\n",
       "      MultipleLines InternetService OnlineSecurity OnlineBackup  \\\n",
       "0  No phone service             DSL             No          Yes   \n",
       "1                No             DSL            Yes           No   \n",
       "2                No             DSL            Yes          Yes   \n",
       "3  No phone service             DSL            Yes           No   \n",
       "4                No     Fiber optic             No           No   \n",
       "\n",
       "  DeviceProtection TechSupport StreamingTV StreamingMovies        Contract  \\\n",
       "0               No          No          No              No  Month-to-month   \n",
       "1              Yes          No          No              No        One year   \n",
       "2               No          No          No              No  Month-to-month   \n",
       "3              Yes         Yes          No              No        One year   \n",
       "4               No          No          No              No  Month-to-month   \n",
       "\n",
       "  PaperlessBilling              PaymentMethod  MonthlyCharges  TotalCharges  \\\n",
       "0              Yes           Electronic check           29.85         29.85   \n",
       "1               No               Mailed check           56.95       1889.50   \n",
       "2              Yes               Mailed check           53.85        108.15   \n",
       "3               No  Bank transfer (automatic)           42.30       1840.75   \n",
       "4              Yes           Electronic check           70.70        151.65   \n",
       "\n",
       "  Churn  \n",
       "0    No  \n",
       "1    No  \n",
       "2   Yes  \n",
       "3    No  \n",
       "4   Yes  "
      ]
     },
     "execution_count": 2,
     "metadata": {},
     "output_type": "execute_result"
    }
   ],
   "source": [
    "input_path = '../data'\n",
    "df = pd.read_csv(os.path.join(input_path, 'WA_Fn-UseC_-Telco-Customer-Churn.csv'))\n",
    "\n",
    "# TotalCharges列に空文字が存在して文字列型になっているので欠損値に置換して少数型にしておく\n",
    "col = 'TotalCharges'\n",
    "df[col] = df[col].replace({' ': np.nan}).astype(float)\n",
    "\n",
    "df.head()"
   ]
  },
  {
   "cell_type": "markdown",
   "metadata": {
    "tags": []
   },
   "source": [
    "## Data Partition"
   ]
  },
  {
   "cell_type": "code",
   "execution_count": 3,
   "metadata": {},
   "outputs": [
    {
     "name": "stdout",
     "output_type": "stream",
     "text": [
      "original_size: (7043, 21)\n",
      "train_size: (5634, 21)\n",
      "test_size: (1409, 21)\n"
     ]
    }
   ],
   "source": [
    "from sklearn.model_selection import train_test_split\n",
    "\n",
    "train_df, test_df = train_test_split(df, train_size=0.8, random_state=2021, shuffle=True)\n",
    "print('original_size:', df.shape)\n",
    "print('train_size:', train_df.shape)\n",
    "print('test_size:', test_df.shape)"
   ]
  },
  {
   "cell_type": "markdown",
   "metadata": {},
   "source": [
    "## Data Preparation"
   ]
  },
  {
   "cell_type": "code",
   "execution_count": 4,
   "metadata": {},
   "outputs": [],
   "source": [
    "from sklearn.preprocessing import StandardScaler\n",
    "from category_encoders import OrdinalEncoder"
   ]
  },
  {
   "cell_type": "code",
   "execution_count": 5,
   "metadata": {},
   "outputs": [
    {
     "name": "stderr",
     "output_type": "stream",
     "text": [
      "/var/folders/v6/1f2j3j154zj9g03clj2_yt_00000gn/T/ipykernel_10024/1495117370.py:23: FutureWarning: Dropping of nuisance columns in DataFrame reductions (with 'numeric_only=None') is deprecated; in a future version this will raise TypeError.  Select only valid columns before calling the reduction.\n",
      "  train_df.fillna(train_df.median(), inplace=True)\n",
      "/var/folders/v6/1f2j3j154zj9g03clj2_yt_00000gn/T/ipykernel_10024/1495117370.py:24: FutureWarning: Dropping of nuisance columns in DataFrame reductions (with 'numeric_only=None') is deprecated; in a future version this will raise TypeError.  Select only valid columns before calling the reduction.\n",
      "  test_df.fillna(train_df.median(), inplace=True)\n"
     ]
    },
    {
     "data": {
      "text/html": [
       "<div>\n",
       "<style scoped>\n",
       "    .dataframe tbody tr th:only-of-type {\n",
       "        vertical-align: middle;\n",
       "    }\n",
       "\n",
       "    .dataframe tbody tr th {\n",
       "        vertical-align: top;\n",
       "    }\n",
       "\n",
       "    .dataframe thead th {\n",
       "        text-align: right;\n",
       "    }\n",
       "</style>\n",
       "<table border=\"1\" class=\"dataframe\">\n",
       "  <thead>\n",
       "    <tr style=\"text-align: right;\">\n",
       "      <th></th>\n",
       "      <th>customerID</th>\n",
       "      <th>gender</th>\n",
       "      <th>SeniorCitizen</th>\n",
       "      <th>Partner</th>\n",
       "      <th>Dependents</th>\n",
       "      <th>tenure</th>\n",
       "      <th>PhoneService</th>\n",
       "      <th>MultipleLines</th>\n",
       "      <th>InternetService</th>\n",
       "      <th>OnlineSecurity</th>\n",
       "      <th>OnlineBackup</th>\n",
       "      <th>DeviceProtection</th>\n",
       "      <th>TechSupport</th>\n",
       "      <th>StreamingTV</th>\n",
       "      <th>StreamingMovies</th>\n",
       "      <th>Contract</th>\n",
       "      <th>PaperlessBilling</th>\n",
       "      <th>PaymentMethod</th>\n",
       "      <th>MonthlyCharges</th>\n",
       "      <th>TotalCharges</th>\n",
       "      <th>Churn</th>\n",
       "    </tr>\n",
       "  </thead>\n",
       "  <tbody>\n",
       "    <tr>\n",
       "      <th>6125</th>\n",
       "      <td>0871-URUWO</td>\n",
       "      <td>1</td>\n",
       "      <td>0</td>\n",
       "      <td>1</td>\n",
       "      <td>1</td>\n",
       "      <td>-0.791990</td>\n",
       "      <td>1</td>\n",
       "      <td>1</td>\n",
       "      <td>1</td>\n",
       "      <td>1</td>\n",
       "      <td>1</td>\n",
       "      <td>1</td>\n",
       "      <td>1</td>\n",
       "      <td>1</td>\n",
       "      <td>1</td>\n",
       "      <td>1</td>\n",
       "      <td>1</td>\n",
       "      <td>1</td>\n",
       "      <td>1.255598</td>\n",
       "      <td>-0.403651</td>\n",
       "      <td>1</td>\n",
       "    </tr>\n",
       "    <tr>\n",
       "      <th>6958</th>\n",
       "      <td>3078-ZKNTS</td>\n",
       "      <td>2</td>\n",
       "      <td>0</td>\n",
       "      <td>1</td>\n",
       "      <td>2</td>\n",
       "      <td>-0.791990</td>\n",
       "      <td>1</td>\n",
       "      <td>2</td>\n",
       "      <td>2</td>\n",
       "      <td>2</td>\n",
       "      <td>2</td>\n",
       "      <td>2</td>\n",
       "      <td>2</td>\n",
       "      <td>2</td>\n",
       "      <td>2</td>\n",
       "      <td>2</td>\n",
       "      <td>1</td>\n",
       "      <td>2</td>\n",
       "      <td>-1.485131</td>\n",
       "      <td>-0.894834</td>\n",
       "      <td>0</td>\n",
       "    </tr>\n",
       "    <tr>\n",
       "      <th>4062</th>\n",
       "      <td>1915-IOFGU</td>\n",
       "      <td>2</td>\n",
       "      <td>0</td>\n",
       "      <td>2</td>\n",
       "      <td>1</td>\n",
       "      <td>-1.280574</td>\n",
       "      <td>1</td>\n",
       "      <td>2</td>\n",
       "      <td>1</td>\n",
       "      <td>1</td>\n",
       "      <td>1</td>\n",
       "      <td>3</td>\n",
       "      <td>1</td>\n",
       "      <td>3</td>\n",
       "      <td>3</td>\n",
       "      <td>1</td>\n",
       "      <td>2</td>\n",
       "      <td>3</td>\n",
       "      <td>0.200833</td>\n",
       "      <td>-0.972643</td>\n",
       "      <td>1</td>\n",
       "    </tr>\n",
       "    <tr>\n",
       "      <th>5298</th>\n",
       "      <td>5647-FXOTP</td>\n",
       "      <td>2</td>\n",
       "      <td>1</td>\n",
       "      <td>1</td>\n",
       "      <td>1</td>\n",
       "      <td>1.121629</td>\n",
       "      <td>1</td>\n",
       "      <td>1</td>\n",
       "      <td>1</td>\n",
       "      <td>1</td>\n",
       "      <td>3</td>\n",
       "      <td>1</td>\n",
       "      <td>1</td>\n",
       "      <td>1</td>\n",
       "      <td>1</td>\n",
       "      <td>1</td>\n",
       "      <td>1</td>\n",
       "      <td>3</td>\n",
       "      <td>1.376855</td>\n",
       "      <td>1.822967</td>\n",
       "      <td>0</td>\n",
       "    </tr>\n",
       "    <tr>\n",
       "      <th>1214</th>\n",
       "      <td>9866-QEVEE</td>\n",
       "      <td>1</td>\n",
       "      <td>0</td>\n",
       "      <td>2</td>\n",
       "      <td>1</td>\n",
       "      <td>-0.547698</td>\n",
       "      <td>1</td>\n",
       "      <td>1</td>\n",
       "      <td>1</td>\n",
       "      <td>1</td>\n",
       "      <td>1</td>\n",
       "      <td>3</td>\n",
       "      <td>1</td>\n",
       "      <td>3</td>\n",
       "      <td>1</td>\n",
       "      <td>1</td>\n",
       "      <td>1</td>\n",
       "      <td>2</td>\n",
       "      <td>0.715758</td>\n",
       "      <td>-0.327057</td>\n",
       "      <td>1</td>\n",
       "    </tr>\n",
       "  </tbody>\n",
       "</table>\n",
       "</div>"
      ],
      "text/plain": [
       "      customerID  gender  SeniorCitizen  Partner  Dependents    tenure  \\\n",
       "6125  0871-URUWO       1              0        1           1 -0.791990   \n",
       "6958  3078-ZKNTS       2              0        1           2 -0.791990   \n",
       "4062  1915-IOFGU       2              0        2           1 -1.280574   \n",
       "5298  5647-FXOTP       2              1        1           1  1.121629   \n",
       "1214  9866-QEVEE       1              0        2           1 -0.547698   \n",
       "\n",
       "      PhoneService  MultipleLines  InternetService  OnlineSecurity  \\\n",
       "6125             1              1                1               1   \n",
       "6958             1              2                2               2   \n",
       "4062             1              2                1               1   \n",
       "5298             1              1                1               1   \n",
       "1214             1              1                1               1   \n",
       "\n",
       "      OnlineBackup  DeviceProtection  TechSupport  StreamingTV  \\\n",
       "6125             1                 1            1            1   \n",
       "6958             2                 2            2            2   \n",
       "4062             1                 3            1            3   \n",
       "5298             3                 1            1            1   \n",
       "1214             1                 3            1            3   \n",
       "\n",
       "      StreamingMovies  Contract  PaperlessBilling  PaymentMethod  \\\n",
       "6125                1         1                 1              1   \n",
       "6958                2         2                 1              2   \n",
       "4062                3         1                 2              3   \n",
       "5298                1         1                 1              3   \n",
       "1214                1         1                 1              2   \n",
       "\n",
       "      MonthlyCharges  TotalCharges  Churn  \n",
       "6125        1.255598     -0.403651      1  \n",
       "6958       -1.485131     -0.894834      0  \n",
       "4062        0.200833     -0.972643      1  \n",
       "5298        1.376855      1.822967      0  \n",
       "1214        0.715758     -0.327057      1  "
      ]
     },
     "execution_count": 5,
     "metadata": {},
     "output_type": "execute_result"
    }
   ],
   "source": [
    "# ターゲットを変換\n",
    "train_df['Churn'] = train_df['Churn'].map({'Yes':1, 'No':0})\n",
    "test_df['Churn'] = test_df['Churn'].map({'Yes':1, 'No':0})\n",
    "\n",
    "# 数値変数の標準化\n",
    "# 今回はツリー系アルゴリズムを使用する本来は不要だが、勉強のために実施しておく\n",
    "num_cols = ['tenure', 'MonthlyCharges', 'TotalCharges']\n",
    "scaler = StandardScaler()\n",
    "train_df[num_cols] = scaler.fit_transform(train_df[num_cols])\n",
    "test_df[num_cols] = scaler.transform(test_df[num_cols])\n",
    "\n",
    "# customerID以外のカテゴリ変数をOrdinalエンコーディング\n",
    "cat_cols = []\n",
    "for col in train_df.columns:\n",
    "    if train_df[col].dtype == 'object':\n",
    "        cat_cols.append(col)\n",
    "cat_cols.remove('customerID')\n",
    "encoder = OrdinalEncoder()\n",
    "train_df[cat_cols] = encoder.fit_transform(train_df[cat_cols])\n",
    "test_df[cat_cols] = encoder.transform(test_df[cat_cols])\n",
    "\n",
    "# 欠損値をトレーニングデータの中央値で保管\n",
    "train_df.fillna(train_df.median(), inplace=True)\n",
    "test_df.fillna(train_df.median(), inplace=True)\n",
    "\n",
    "# 前処理後のデータプレビュー\n",
    "train_df.head()"
   ]
  },
  {
   "cell_type": "code",
   "execution_count": 6,
   "metadata": {},
   "outputs": [
    {
     "name": "stdout",
     "output_type": "stream",
     "text": [
      "<class 'pandas.core.frame.DataFrame'>\n",
      "Int64Index: 5634 entries, 6125 to 1140\n",
      "Data columns (total 21 columns):\n",
      " #   Column            Non-Null Count  Dtype  \n",
      "---  ------            --------------  -----  \n",
      " 0   customerID        5634 non-null   object \n",
      " 1   gender            5634 non-null   int64  \n",
      " 2   SeniorCitizen     5634 non-null   int64  \n",
      " 3   Partner           5634 non-null   int64  \n",
      " 4   Dependents        5634 non-null   int64  \n",
      " 5   tenure            5634 non-null   float64\n",
      " 6   PhoneService      5634 non-null   int64  \n",
      " 7   MultipleLines     5634 non-null   int64  \n",
      " 8   InternetService   5634 non-null   int64  \n",
      " 9   OnlineSecurity    5634 non-null   int64  \n",
      " 10  OnlineBackup      5634 non-null   int64  \n",
      " 11  DeviceProtection  5634 non-null   int64  \n",
      " 12  TechSupport       5634 non-null   int64  \n",
      " 13  StreamingTV       5634 non-null   int64  \n",
      " 14  StreamingMovies   5634 non-null   int64  \n",
      " 15  Contract          5634 non-null   int64  \n",
      " 16  PaperlessBilling  5634 non-null   int64  \n",
      " 17  PaymentMethod     5634 non-null   int64  \n",
      " 18  MonthlyCharges    5634 non-null   float64\n",
      " 19  TotalCharges      5634 non-null   float64\n",
      " 20  Churn             5634 non-null   int64  \n",
      "dtypes: float64(3), int64(17), object(1)\n",
      "memory usage: 968.3+ KB\n"
     ]
    }
   ],
   "source": [
    "train_df.info()"
   ]
  },
  {
   "cell_type": "markdown",
   "metadata": {},
   "source": [
    "## Modeling"
   ]
  },
  {
   "cell_type": "markdown",
   "metadata": {},
   "source": [
    "LightGBMでモデルを作成する  \n",
    "バリデーションスキームはLeave One Outで、ランダムに8:2に分割する"
   ]
  },
  {
   "cell_type": "code",
   "execution_count": 7,
   "metadata": {},
   "outputs": [],
   "source": [
    "import lightgbm as lgb"
   ]
  },
  {
   "cell_type": "code",
   "execution_count": null,
   "metadata": {
    "tags": []
   },
   "outputs": [],
   "source": [
    "# ターゲットと特徴量に分離\n",
    "train_x = train_df.drop(['customerID','Churn'], axis=1)\n",
    "train_y = train_df['Churn']\n",
    "test_x = test_df.drop(['customerID','Churn'], axis=1)\n",
    "test_y = test_df['Churn']\n",
    "\n",
    "# EarlyStopping用にさらにデータを分割する\n",
    "train_x_, val_x, train_y_, val_y = train_test_split(train_x, train_y, train_size=0.8, random_state=888, shuffle=True)\n",
    "\n",
    "# 学習用のデータ\n",
    "dtrain = lgb.Dataset(data=train_x_, label=train_y_)\n",
    "# EarlyStoppingのためのデータ\n",
    "dval = lgb.Dataset(data=val_x, label=val_y, reference=dtrain)\n",
    "\n",
    "# ハイパーパラメータ設定\n",
    "params = {\n",
    "    'objective': 'binary',\n",
    "    'metric': 'binary_logloss',\n",
    "    'boosting_type': 'gbdt',\n",
    "    'learning_rate': 0.02,\n",
    "    'num_leaves': 15,\n",
    "    'bagging_freq': 5,\n",
    "    'bagging_fraction': 0.8,\n",
    "    'feature_fraction': 0.8,\n",
    "    'random_state': 777,\n",
    "    'min_data_in_leaf': 1,\n",
    "    'lambda_l1': 0,\n",
    "    'lambda_l2': 0,\n",
    "    'verbose': -1\n",
    "}\n",
    "\n",
    "# モデルの学習実行\n",
    "model = lgb.train(\n",
    "    params, dtrain, num_boost_round=9999, valid_sets=dval, early_stopping_rounds=200\n",
    ")"
   ]
  },
  {
   "cell_type": "code",
   "execution_count": 47,
   "metadata": {},
   "outputs": [
    {
     "name": "stdout",
     "output_type": "stream",
     "text": [
      "validation_score(AUC): 0.8311496770480271\n"
     ]
    }
   ],
   "source": [
    "# バリデーションスコア\n",
    "from sklearn.metrics import roc_auc_score\n",
    "\n",
    "val_pred = model.predict(val_x)\n",
    "print('validation_score(AUC):', roc_auc_score(y_true=val_y, y_score=val_pred))"
   ]
  },
  {
   "cell_type": "markdown",
   "metadata": {},
   "source": [
    "## ハイパーパラメータチューニング前のテストスコア"
   ]
  },
  {
   "cell_type": "code",
   "execution_count": 45,
   "metadata": {},
   "outputs": [
    {
     "name": "stdout",
     "output_type": "stream",
     "text": [
      "test_score(AUC): 0.848412674294339\n"
     ]
    }
   ],
   "source": [
    "# 推論実行\n",
    "test_pred = model.predict(test_x)\n",
    "\n",
    "print('test_score(AUC):', roc_auc_score(y_true=test_y, y_score=test_pred))"
   ]
  },
  {
   "cell_type": "code",
   "execution_count": 48,
   "metadata": {},
   "outputs": [
    {
     "data": {
      "text/plain": [
       "{'ManuallySelected': {'model': 'LightGBM',\n",
       "  'validation_score(AUC)': 0.8311496770480271,\n",
       "  'test_score(AUC)': 0.848412674294339}}"
      ]
     },
     "execution_count": 48,
     "metadata": {},
     "output_type": "execute_result"
    }
   ],
   "source": [
    "# 結果を格納しておく\n",
    "results = {}\n",
    "\n",
    "result = {\n",
    "    'model': 'LightGBM',\n",
    "    'validation_score(AUC)': roc_auc_score(y_true=val_y, y_score=val_pred),\n",
    "    'test_score(AUC)': roc_auc_score(y_true=test_y, y_score=test_pred)\n",
    "}\n",
    "results['ManuallySelected'] = result\n",
    "\n",
    "results"
   ]
  },
  {
   "cell_type": "code",
   "execution_count": 20,
   "metadata": {},
   "outputs": [],
   "source": [
    "# テスト用のデータを出力しておく\n",
    "test_x.to_csv(os.path.join(input_path, 'test_x.csv'), encoding='utf-8', index=False)\n",
    "test_y.to_csv(os.path.join(input_path, 'test_y.csv'), encoding='utf-8', index=False)"
   ]
  },
  {
   "cell_type": "markdown",
   "metadata": {},
   "source": [
    "## GridSearch"
   ]
  },
  {
   "cell_type": "markdown",
   "metadata": {},
   "source": [
    "GridSearchでLightGBMのハイパーパラメータをチューニングする  \n",
    "チューニング対象は以下の通り  \n",
    "- num_leaves\n",
    "- bagging_fraction\n",
    "- feature_fraction\n",
    "- lambda_l1\n",
    "- lambda_l2"
   ]
  },
  {
   "cell_type": "code",
   "execution_count": 14,
   "metadata": {},
   "outputs": [],
   "source": [
    "from sklearn.model_selection import GridSearchCV"
   ]
  },
  {
   "cell_type": "code",
   "execution_count": 69,
   "metadata": {
    "tags": []
   },
   "outputs": [
    {
     "data": {
      "text/plain": [
       "GridSearchCV(cv=3,\n",
       "             estimator=LGBMClassifier(force_col_wise=True,\n",
       "                                      importance_type='gain',\n",
       "                                      learning_rate=0.02, min_child_samples=1,\n",
       "                                      n_estimators=2000, random_state=777,\n",
       "                                      subsample_freq=5, verbose=0),\n",
       "             param_grid={'colsample_bytree': [0.7, 0.9], 'num_leaves': [7, 15],\n",
       "                         'reg_alpha': [0, 0.1], 'reg_lambda': [0, 0.1],\n",
       "                         'subsample': [0.7, 0.9]},\n",
       "             scoring='neg_log_loss')"
      ]
     },
     "execution_count": 69,
     "metadata": {},
     "output_type": "execute_result"
    }
   ],
   "source": [
    "# GridSearchで探索するハイパーパラメータ空間を定義\n",
    "search_params = {\n",
    "    'num_leaves': [7, 15],\n",
    "    'subsample': [0.7, 0.9], # bagging_fractionのエイリアス\n",
    "    'colsample_bytree': [0.7, 0.9], # feature_fractionのエイリアス\n",
    "    'reg_alpha': [0, 0.1], # lambda_l1のエイリアス\n",
    "    'reg_lambda': [0, 0.1] # lambda_l2のエイリアス\n",
    "}\n",
    "\n",
    "# scikit-learnを使ってGridSearchを実施するため、LightGBMのオリジナルAPIではなく、sklearnのラッパーAPIを使用する\n",
    "clf = lgb.LGBMClassifier(max_depth=-1, random_state=777, n_estimators=2000, verbose=0,\n",
    "                        boosting_type='gbdt', importance_type='gain', learning_rate=0.02,\n",
    "                        min_child_samples=1, force_col_wise=True, subsample_freq=5)\n",
    "\n",
    "gs = GridSearchCV(estimator=clf, param_grid=search_params, scoring='neg_log_loss', cv=3, verbose=0)\n",
    "\n",
    "gs.fit(train_x_, train_y_)"
   ]
  },
  {
   "cell_type": "code",
   "execution_count": 114,
   "metadata": {},
   "outputs": [
    {
     "data": {
      "text/plain": [
       "{'colsample_bytree': 0.7,\n",
       " 'num_leaves': 7,\n",
       " 'reg_alpha': 0.1,\n",
       " 'reg_lambda': 0.1,\n",
       " 'subsample': 0.9}"
      ]
     },
     "execution_count": 114,
     "metadata": {},
     "output_type": "execute_result"
    }
   ],
   "source": [
    "# GridSearchで探索した最良のハイパーパラメータの組み合わせ\n",
    "best_params = gs.best_params_\n",
    "best_params"
   ]
  },
  {
   "cell_type": "code",
   "execution_count": null,
   "metadata": {
    "tags": []
   },
   "outputs": [],
   "source": [
    "# GridSearchの結果を使用してモデルをトレーニング\n",
    "gs_model = lgb.LGBMClassifier(max_depth=-1, random_state=777, n_estimators=9999, verbose=0,\n",
    "                        boosting_type='gbdt', importance_type='gain', learning_rate=0.02,\n",
    "                        min_child_samples=1, force_col_wise=True, subsample_freq=5, **best_params)\n",
    "\n",
    "gs_model.fit(train_x_, train_y_, early_stopping_rounds=200, eval_metric='logloss', eval_set=[(val_x, val_y)])"
   ]
  },
  {
   "cell_type": "code",
   "execution_count": 116,
   "metadata": {
    "tags": []
   },
   "outputs": [
    {
     "name": "stdout",
     "output_type": "stream",
     "text": [
      "validation_score(AUC): 0.6989671931956257\n"
     ]
    }
   ],
   "source": [
    "# バリデーションスコア\n",
    "from sklearn.metrics import roc_auc_score\n",
    "\n",
    "val_pred_gs = gs_model.predict(val_x)\n",
    "print('validation_score(AUC):', roc_auc_score(y_true=val_y, y_score=val_pred_gs))"
   ]
  },
  {
   "cell_type": "code",
   "execution_count": 117,
   "metadata": {},
   "outputs": [
    {
     "name": "stdout",
     "output_type": "stream",
     "text": [
      "test_score(AUC): 0.7127581176971116\n"
     ]
    }
   ],
   "source": [
    "# 推論実行\n",
    "test_pred_gs = gs_model.predict(test_x)\n",
    "\n",
    "print('test_score(AUC):', roc_auc_score(y_true=test_y, y_score=test_pred_gs))"
   ]
  },
  {
   "cell_type": "code",
   "execution_count": 89,
   "metadata": {},
   "outputs": [
    {
     "data": {
      "text/plain": [
       "{'ManuallySelected': {'model': 'LightGBM',\n",
       "  'validation_score(AUC)': 0.8311496770480271,\n",
       "  'test_score(AUC)': 0.848412674294339},\n",
       " 'GridSearch': {'model': 'LightGBM',\n",
       "  'validation_score(AUC)': 0.6989671931956257,\n",
       "  'test_score(AUC)': 0.7127581176971116}}"
      ]
     },
     "execution_count": 89,
     "metadata": {},
     "output_type": "execute_result"
    }
   ],
   "source": [
    "# 結果を格納しておく\n",
    "\n",
    "result = {\n",
    "    'model': 'LightGBM',\n",
    "    'validation_score(AUC)': roc_auc_score(y_true=val_y, y_score=val_pred_gs),\n",
    "    'test_score(AUC)': roc_auc_score(y_true=test_y, y_score=test_pred_gs)\n",
    "}\n",
    "results['GridSearch'] = result\n",
    "\n",
    "results"
   ]
  },
  {
   "cell_type": "markdown",
   "metadata": {
    "tags": []
   },
   "source": [
    "## RandomSearch"
   ]
  },
  {
   "cell_type": "markdown",
   "metadata": {},
   "source": [
    "RandomSearchでLightGBMのハイパーパラメータをチューニングする  \n",
    "チューニング対象は以下の通り  \n",
    "- num_leaves\n",
    "- bagging_fraction\n",
    "- feature_fraction\n",
    "- lambda_l1\n",
    "- lambda_l2"
   ]
  },
  {
   "cell_type": "code",
   "execution_count": 77,
   "metadata": {
    "tags": []
   },
   "outputs": [],
   "source": [
    "from sklearn.model_selection import RandomizedSearchCV\n",
    "import scipy as sp"
   ]
  },
  {
   "cell_type": "code",
   "execution_count": null,
   "metadata": {
    "tags": []
   },
   "outputs": [],
   "source": [
    "# RandomSearchで探索するハイパーパラメータ空間を定義\n",
    "search_params = {\n",
    "    'num_leaves': sp.stats.randint(6, 15),\n",
    "    'subsample': sp.stats.uniform(loc=0.4, scale=0.5), # bagging_fractionのエイリアス\n",
    "    'colsample_bytree': sp.stats.uniform(loc=0.4, scale=0.5), # feature_fractionのエイリアス\n",
    "    'reg_alpha': sp.stats.uniform(loc=0, scale=1), # lambda_l1のエイリアス\n",
    "    'reg_lambda': sp.stats.uniform(loc=0, scale=1) # lambda_l2のエイリアス\n",
    "}\n",
    "\n",
    "# scikit-learnを使ってRandomSearchを実施するため、LightGBMのオリジナルAPIではなく、sklearnのラッパーAPIを使用する\n",
    "clf = lgb.LGBMClassifier(max_depth=-1, random_state=777, n_estimators=2000, verbose=0,\n",
    "                        boosting_type='gbdt', importance_type='gain', learning_rate=0.02,\n",
    "                        min_child_samples=1, force_col_wise=True, subsample_freq=5)\n",
    "\n",
    "rs = RandomizedSearchCV(estimator=clf, param_distributions=search_params, n_iter=32, scoring='neg_log_loss', cv=3, verbose=0)\n",
    "\n",
    "rs.fit(train_x, train_y)"
   ]
  },
  {
   "cell_type": "code",
   "execution_count": 93,
   "metadata": {},
   "outputs": [
    {
     "data": {
      "text/plain": [
       "{'colsample_bytree': 0.5174751806969153,\n",
       " 'num_leaves': 7,\n",
       " 'reg_alpha': 0.920198479937528,\n",
       " 'reg_lambda': 0.4169366515580416,\n",
       " 'subsample': 0.7994821470272152}"
      ]
     },
     "execution_count": 93,
     "metadata": {},
     "output_type": "execute_result"
    }
   ],
   "source": [
    "# RandomSearchで探索した最良のハイパーパラメータの組み合わせ\n",
    "best_params = rs.best_params_\n",
    "best_params"
   ]
  },
  {
   "cell_type": "code",
   "execution_count": null,
   "metadata": {
    "tags": []
   },
   "outputs": [],
   "source": [
    "# RandomSearchの結果を使用してモデルをトレーニング\n",
    "rs_model = lgb.LGBMClassifier(max_depth=-1, random_state=777, n_estimators=9999, verbose=0,\n",
    "                        boosting_type='gbdt', importance_type='gain', learning_rate=0.02,\n",
    "                        min_child_samples=1, force_col_wise=True, subsample_freq=5, **best_params)\n",
    "\n",
    "rs_model.fit(train_x_, train_y_, early_stopping_rounds=200, eval_metric='logloss', eval_set=[(val_x, val_y)])"
   ]
  },
  {
   "cell_type": "code",
   "execution_count": 95,
   "metadata": {
    "tags": []
   },
   "outputs": [
    {
     "name": "stdout",
     "output_type": "stream",
     "text": [
      "validation_score(AUC): 0.7014712700645903\n"
     ]
    }
   ],
   "source": [
    "# バリデーションスコア\n",
    "from sklearn.metrics import roc_auc_score\n",
    "\n",
    "val_pred_rs = rs_model.predict(val_x)\n",
    "print('validation_score(AUC):', roc_auc_score(y_true=val_y, y_score=val_pred_rs))"
   ]
  },
  {
   "cell_type": "code",
   "execution_count": 96,
   "metadata": {},
   "outputs": [
    {
     "name": "stdout",
     "output_type": "stream",
     "text": [
      "test_score(AUC): 0.7104852638029974\n"
     ]
    }
   ],
   "source": [
    "# 推論実行\n",
    "test_pred_rs = rs_model.predict(test_x)\n",
    "\n",
    "print('test_score(AUC):', roc_auc_score(y_true=test_y, y_score=test_pred_rs))"
   ]
  },
  {
   "cell_type": "code",
   "execution_count": 97,
   "metadata": {},
   "outputs": [
    {
     "data": {
      "text/plain": [
       "{'ManuallySelected': {'model': 'LightGBM',\n",
       "  'validation_score(AUC)': 0.8311496770480271,\n",
       "  'test_score(AUC)': 0.848412674294339},\n",
       " 'GridSearch': {'model': 'LightGBM',\n",
       "  'validation_score(AUC)': 0.6989671931956257,\n",
       "  'test_score(AUC)': 0.7127581176971116},\n",
       " 'RandomSearch': {'model': 'LightGBM',\n",
       "  'validation_score(AUC)': 0.7014712700645903,\n",
       "  'test_score(AUC)': 0.7104852638029974}}"
      ]
     },
     "execution_count": 97,
     "metadata": {},
     "output_type": "execute_result"
    }
   ],
   "source": [
    "# 結果を格納しておく\n",
    "\n",
    "result = {\n",
    "    'model': 'LightGBM',\n",
    "    'validation_score(AUC)': roc_auc_score(y_true=val_y, y_score=val_pred_rs),\n",
    "    'test_score(AUC)': roc_auc_score(y_true=test_y, y_score=test_pred_rs)\n",
    "}\n",
    "results['RandomSearch'] = result\n",
    "\n",
    "results"
   ]
  },
  {
   "cell_type": "markdown",
   "metadata": {
    "tags": []
   },
   "source": [
    "## Optuna"
   ]
  },
  {
   "cell_type": "markdown",
   "metadata": {},
   "source": [
    "OptunaでLightGBMのハイパーパラメータをチューニングする  \n",
    "チューニング対象は以下の通り  \n",
    "- num_leaves\n",
    "- bagging_fraction\n",
    "- feature_fraction\n",
    "- lambda_l1\n",
    "- lambda_l2"
   ]
  },
  {
   "cell_type": "code",
   "execution_count": 98,
   "metadata": {},
   "outputs": [],
   "source": [
    "import optuna"
   ]
  },
  {
   "cell_type": "code",
   "execution_count": 99,
   "metadata": {},
   "outputs": [],
   "source": [
    "# 目的関数の定義\n",
    "def objective(trial):\n",
    "    train_x_, val_x, train_y_, val_y = train_test_split(train_x, train_y, train_size=0.8, random_state=888, shuffle=True)\n",
    "\n",
    "    dtrain = lgb.Dataset(data=train_x_, label=train_y_)\n",
    "    dval = lgb.Dataset(data=val_x, label=val_y, reference=dtrain)\n",
    "\n",
    "    params = {\n",
    "        'objective': 'binary',\n",
    "        'metric': 'binary_logloss',\n",
    "        'boosting_type': 'gbdt',\n",
    "        'max_depth': -1,\n",
    "        'learning_rate': 0.02,\n",
    "        'num_leaves': trial.suggest_int('num_leaves',6, 15),\n",
    "        'bagging_freq': 5,\n",
    "        'bagging_fraction': trial.suggest_loguniform('bagging_fraction', 0.4, 1.0),\n",
    "        'feature_fraction': trial.suggest_loguniform('feature_fraction', 0.4, 1.0),\n",
    "        'random_state': 777,\n",
    "        'min_data_in_leaf': 1,\n",
    "        'lambda_l1': trial.suggest_loguniform('lambda_l1', 1e-3, 1.0),\n",
    "        'lambda_l2': trial.suggest_loguniform('lambda_l2', 1e-3, 1.0),\n",
    "        'verbose': -1\n",
    "    }\n",
    "\n",
    "    model = lgb.train(\n",
    "        params, dtrain, num_boost_round=9999, valid_sets=dval, early_stopping_rounds=200\n",
    "    )\n",
    "    \n",
    "    val_pred = model.predict(val_x)\n",
    "    score = roc_auc_score(y_true=val_y, y_score=val_pred)\n",
    "    \n",
    "    return score"
   ]
  },
  {
   "cell_type": "code",
   "execution_count": null,
   "metadata": {
    "tags": []
   },
   "outputs": [],
   "source": [
    "# 最適化処理の実行\n",
    "study = optuna.create_study()\n",
    "study.optimize(func=objective, n_trials=32, timeout=None, n_jobs=-1)"
   ]
  },
  {
   "cell_type": "code",
   "execution_count": 101,
   "metadata": {},
   "outputs": [
    {
     "data": {
      "text/plain": [
       "{'num_leaves': 6,\n",
       " 'bagging_fraction': 0.9759474929453683,\n",
       " 'feature_fraction': 0.5382475486628867,\n",
       " 'lambda_l1': 0.08115986968807415,\n",
       " 'lambda_l2': 0.05554908434047863}"
      ]
     },
     "execution_count": 101,
     "metadata": {},
     "output_type": "execute_result"
    }
   ],
   "source": [
    "# Optunaで探索した最良のハイパーパラメータの組み合わせ\n",
    "best_params = study.best_params\n",
    "best_params"
   ]
  },
  {
   "cell_type": "code",
   "execution_count": 104,
   "metadata": {
    "collapsed": true,
    "jupyter": {
     "outputs_hidden": true
    },
    "tags": []
   },
   "outputs": [
    {
     "name": "stderr",
     "output_type": "stream",
     "text": [
      "/Users/suzuki001/Desktop/studyML/handson/src/venv/lib/python3.8/site-packages/lightgbm/engine.py:181: UserWarning: 'early_stopping_rounds' argument is deprecated and will be removed in a future release of LightGBM. Pass 'early_stopping()' callback via 'callbacks' argument instead.\n",
      "  _log_warning(\"'early_stopping_rounds' argument is deprecated and will be removed in a future release of LightGBM. \"\n"
     ]
    },
    {
     "name": "stdout",
     "output_type": "stream",
     "text": [
      "[1]\tvalid_0's binary_logloss: 0.57897\n",
      "Training until validation scores don't improve for 200 rounds\n",
      "[2]\tvalid_0's binary_logloss: 0.574309\n",
      "[3]\tvalid_0's binary_logloss: 0.571158\n",
      "[4]\tvalid_0's binary_logloss: 0.567626\n",
      "[5]\tvalid_0's binary_logloss: 0.564067\n",
      "[6]\tvalid_0's binary_logloss: 0.560381\n",
      "[7]\tvalid_0's binary_logloss: 0.556767\n",
      "[8]\tvalid_0's binary_logloss: 0.553553\n",
      "[9]\tvalid_0's binary_logloss: 0.551362\n",
      "[10]\tvalid_0's binary_logloss: 0.548292\n",
      "[11]\tvalid_0's binary_logloss: 0.545012\n",
      "[12]\tvalid_0's binary_logloss: 0.541722\n",
      "[13]\tvalid_0's binary_logloss: 0.539303\n",
      "[14]\tvalid_0's binary_logloss: 0.536958\n",
      "[15]\tvalid_0's binary_logloss: 0.534073\n",
      "[16]\tvalid_0's binary_logloss: 0.532057\n",
      "[17]\tvalid_0's binary_logloss: 0.530133\n",
      "[18]\tvalid_0's binary_logloss: 0.527535\n",
      "[19]\tvalid_0's binary_logloss: 0.524964\n",
      "[20]\tvalid_0's binary_logloss: 0.52249\n",
      "[21]\tvalid_0's binary_logloss: 0.520041\n",
      "[22]\tvalid_0's binary_logloss: 0.517791\n",
      "[23]\tvalid_0's binary_logloss: 0.515614\n",
      "[24]\tvalid_0's binary_logloss: 0.513935\n",
      "[25]\tvalid_0's binary_logloss: 0.51239\n",
      "[26]\tvalid_0's binary_logloss: 0.510678\n",
      "[27]\tvalid_0's binary_logloss: 0.508965\n",
      "[28]\tvalid_0's binary_logloss: 0.50682\n",
      "[29]\tvalid_0's binary_logloss: 0.505421\n",
      "[30]\tvalid_0's binary_logloss: 0.503442\n",
      "[31]\tvalid_0's binary_logloss: 0.501971\n",
      "[32]\tvalid_0's binary_logloss: 0.500828\n",
      "[33]\tvalid_0's binary_logloss: 0.499442\n",
      "[34]\tvalid_0's binary_logloss: 0.49807\n",
      "[35]\tvalid_0's binary_logloss: 0.496473\n",
      "[36]\tvalid_0's binary_logloss: 0.49477\n",
      "[37]\tvalid_0's binary_logloss: 0.4934\n",
      "[38]\tvalid_0's binary_logloss: 0.491865\n",
      "[39]\tvalid_0's binary_logloss: 0.490813\n",
      "[40]\tvalid_0's binary_logloss: 0.489826\n",
      "[41]\tvalid_0's binary_logloss: 0.488456\n",
      "[42]\tvalid_0's binary_logloss: 0.487102\n",
      "[43]\tvalid_0's binary_logloss: 0.48617\n",
      "[44]\tvalid_0's binary_logloss: 0.485157\n",
      "[45]\tvalid_0's binary_logloss: 0.483853\n",
      "[46]\tvalid_0's binary_logloss: 0.482757\n",
      "[47]\tvalid_0's binary_logloss: 0.481933\n",
      "[48]\tvalid_0's binary_logloss: 0.481148\n",
      "[49]\tvalid_0's binary_logloss: 0.479858\n",
      "[50]\tvalid_0's binary_logloss: 0.479144\n",
      "[51]\tvalid_0's binary_logloss: 0.478094\n",
      "[52]\tvalid_0's binary_logloss: 0.477284\n",
      "[53]\tvalid_0's binary_logloss: 0.476441\n",
      "[54]\tvalid_0's binary_logloss: 0.47532\n",
      "[55]\tvalid_0's binary_logloss: 0.474314\n",
      "[56]\tvalid_0's binary_logloss: 0.473318\n",
      "[57]\tvalid_0's binary_logloss: 0.472574\n",
      "[58]\tvalid_0's binary_logloss: 0.471822\n",
      "[59]\tvalid_0's binary_logloss: 0.470925\n",
      "[60]\tvalid_0's binary_logloss: 0.470423\n",
      "[61]\tvalid_0's binary_logloss: 0.469486\n",
      "[62]\tvalid_0's binary_logloss: 0.468838\n",
      "[63]\tvalid_0's binary_logloss: 0.468342\n",
      "[64]\tvalid_0's binary_logloss: 0.467782\n",
      "[65]\tvalid_0's binary_logloss: 0.467347\n",
      "[66]\tvalid_0's binary_logloss: 0.466567\n",
      "[67]\tvalid_0's binary_logloss: 0.465929\n",
      "[68]\tvalid_0's binary_logloss: 0.465396\n",
      "[69]\tvalid_0's binary_logloss: 0.464651\n",
      "[70]\tvalid_0's binary_logloss: 0.464246\n",
      "[71]\tvalid_0's binary_logloss: 0.463591\n",
      "[72]\tvalid_0's binary_logloss: 0.462907\n",
      "[73]\tvalid_0's binary_logloss: 0.462379\n",
      "[74]\tvalid_0's binary_logloss: 0.461877\n",
      "[75]\tvalid_0's binary_logloss: 0.461528\n",
      "[76]\tvalid_0's binary_logloss: 0.461006\n",
      "[77]\tvalid_0's binary_logloss: 0.4604\n",
      "[78]\tvalid_0's binary_logloss: 0.459935\n",
      "[79]\tvalid_0's binary_logloss: 0.459448\n",
      "[80]\tvalid_0's binary_logloss: 0.459057\n",
      "[81]\tvalid_0's binary_logloss: 0.458542\n",
      "[82]\tvalid_0's binary_logloss: 0.458193\n",
      "[83]\tvalid_0's binary_logloss: 0.457661\n",
      "[84]\tvalid_0's binary_logloss: 0.457135\n",
      "[85]\tvalid_0's binary_logloss: 0.456627\n",
      "[86]\tvalid_0's binary_logloss: 0.456174\n",
      "[87]\tvalid_0's binary_logloss: 0.455681\n",
      "[88]\tvalid_0's binary_logloss: 0.455254\n",
      "[89]\tvalid_0's binary_logloss: 0.454963\n",
      "[90]\tvalid_0's binary_logloss: 0.454688\n",
      "[91]\tvalid_0's binary_logloss: 0.454398\n",
      "[92]\tvalid_0's binary_logloss: 0.454159\n",
      "[93]\tvalid_0's binary_logloss: 0.453756\n",
      "[94]\tvalid_0's binary_logloss: 0.453559\n",
      "[95]\tvalid_0's binary_logloss: 0.453307\n",
      "[96]\tvalid_0's binary_logloss: 0.45276\n",
      "[97]\tvalid_0's binary_logloss: 0.452384\n",
      "[98]\tvalid_0's binary_logloss: 0.45214\n",
      "[99]\tvalid_0's binary_logloss: 0.451884\n",
      "[100]\tvalid_0's binary_logloss: 0.451357\n",
      "[101]\tvalid_0's binary_logloss: 0.451004\n",
      "[102]\tvalid_0's binary_logloss: 0.450684\n",
      "[103]\tvalid_0's binary_logloss: 0.450507\n",
      "[104]\tvalid_0's binary_logloss: 0.450211\n",
      "[105]\tvalid_0's binary_logloss: 0.450077\n",
      "[106]\tvalid_0's binary_logloss: 0.449902\n",
      "[107]\tvalid_0's binary_logloss: 0.449538\n",
      "[108]\tvalid_0's binary_logloss: 0.449238\n",
      "[109]\tvalid_0's binary_logloss: 0.449048\n",
      "[110]\tvalid_0's binary_logloss: 0.448788\n",
      "[111]\tvalid_0's binary_logloss: 0.448688\n",
      "[112]\tvalid_0's binary_logloss: 0.448422\n",
      "[113]\tvalid_0's binary_logloss: 0.448163\n",
      "[114]\tvalid_0's binary_logloss: 0.448018\n",
      "[115]\tvalid_0's binary_logloss: 0.447712\n",
      "[116]\tvalid_0's binary_logloss: 0.447517\n",
      "[117]\tvalid_0's binary_logloss: 0.447277\n",
      "[118]\tvalid_0's binary_logloss: 0.447059\n",
      "[119]\tvalid_0's binary_logloss: 0.446944\n",
      "[120]\tvalid_0's binary_logloss: 0.446793\n",
      "[121]\tvalid_0's binary_logloss: 0.446645\n",
      "[122]\tvalid_0's binary_logloss: 0.44635\n",
      "[123]\tvalid_0's binary_logloss: 0.44624\n",
      "[124]\tvalid_0's binary_logloss: 0.446118\n",
      "[125]\tvalid_0's binary_logloss: 0.44602\n",
      "[126]\tvalid_0's binary_logloss: 0.445844\n",
      "[127]\tvalid_0's binary_logloss: 0.445637\n",
      "[128]\tvalid_0's binary_logloss: 0.445501\n",
      "[129]\tvalid_0's binary_logloss: 0.445373\n",
      "[130]\tvalid_0's binary_logloss: 0.445328\n",
      "[131]\tvalid_0's binary_logloss: 0.445096\n",
      "[132]\tvalid_0's binary_logloss: 0.444962\n",
      "[133]\tvalid_0's binary_logloss: 0.444786\n",
      "[134]\tvalid_0's binary_logloss: 0.444575\n",
      "[135]\tvalid_0's binary_logloss: 0.444431\n",
      "[136]\tvalid_0's binary_logloss: 0.444393\n",
      "[137]\tvalid_0's binary_logloss: 0.444297\n",
      "[138]\tvalid_0's binary_logloss: 0.44416\n",
      "[139]\tvalid_0's binary_logloss: 0.44406\n",
      "[140]\tvalid_0's binary_logloss: 0.443929\n",
      "[141]\tvalid_0's binary_logloss: 0.443821\n",
      "[142]\tvalid_0's binary_logloss: 0.443608\n",
      "[143]\tvalid_0's binary_logloss: 0.443501\n",
      "[144]\tvalid_0's binary_logloss: 0.44336\n",
      "[145]\tvalid_0's binary_logloss: 0.443319\n",
      "[146]\tvalid_0's binary_logloss: 0.44321\n",
      "[147]\tvalid_0's binary_logloss: 0.443067\n",
      "[148]\tvalid_0's binary_logloss: 0.442938\n",
      "[149]\tvalid_0's binary_logloss: 0.442928\n",
      "[150]\tvalid_0's binary_logloss: 0.44289\n",
      "[151]\tvalid_0's binary_logloss: 0.442883\n",
      "[152]\tvalid_0's binary_logloss: 0.442845\n",
      "[153]\tvalid_0's binary_logloss: 0.442641\n",
      "[154]\tvalid_0's binary_logloss: 0.442565\n",
      "[155]\tvalid_0's binary_logloss: 0.442409\n",
      "[156]\tvalid_0's binary_logloss: 0.44233\n",
      "[157]\tvalid_0's binary_logloss: 0.442324\n",
      "[158]\tvalid_0's binary_logloss: 0.442174\n",
      "[159]\tvalid_0's binary_logloss: 0.442059\n",
      "[160]\tvalid_0's binary_logloss: 0.442033\n",
      "[161]\tvalid_0's binary_logloss: 0.442\n",
      "[162]\tvalid_0's binary_logloss: 0.441943\n",
      "[163]\tvalid_0's binary_logloss: 0.441802\n",
      "[164]\tvalid_0's binary_logloss: 0.441802\n",
      "[165]\tvalid_0's binary_logloss: 0.441653\n",
      "[166]\tvalid_0's binary_logloss: 0.441617\n",
      "[167]\tvalid_0's binary_logloss: 0.441543\n",
      "[168]\tvalid_0's binary_logloss: 0.441545\n",
      "[169]\tvalid_0's binary_logloss: 0.441518\n",
      "[170]\tvalid_0's binary_logloss: 0.441457\n",
      "[171]\tvalid_0's binary_logloss: 0.44135\n",
      "[172]\tvalid_0's binary_logloss: 0.441334\n",
      "[173]\tvalid_0's binary_logloss: 0.441395\n",
      "[174]\tvalid_0's binary_logloss: 0.441294\n",
      "[175]\tvalid_0's binary_logloss: 0.441213\n",
      "[176]\tvalid_0's binary_logloss: 0.441184\n",
      "[177]\tvalid_0's binary_logloss: 0.441079\n",
      "[178]\tvalid_0's binary_logloss: 0.440998\n",
      "[179]\tvalid_0's binary_logloss: 0.440965\n",
      "[180]\tvalid_0's binary_logloss: 0.440936\n",
      "[181]\tvalid_0's binary_logloss: 0.440862\n",
      "[182]\tvalid_0's binary_logloss: 0.440812\n",
      "[183]\tvalid_0's binary_logloss: 0.440836\n",
      "[184]\tvalid_0's binary_logloss: 0.440853\n",
      "[185]\tvalid_0's binary_logloss: 0.440801\n",
      "[186]\tvalid_0's binary_logloss: 0.440789\n",
      "[187]\tvalid_0's binary_logloss: 0.440664\n",
      "[188]\tvalid_0's binary_logloss: 0.440712\n",
      "[189]\tvalid_0's binary_logloss: 0.440695\n",
      "[190]\tvalid_0's binary_logloss: 0.440732\n",
      "[191]\tvalid_0's binary_logloss: 0.44076\n",
      "[192]\tvalid_0's binary_logloss: 0.440669\n",
      "[193]\tvalid_0's binary_logloss: 0.440673\n",
      "[194]\tvalid_0's binary_logloss: 0.44069\n",
      "[195]\tvalid_0's binary_logloss: 0.440658\n",
      "[196]\tvalid_0's binary_logloss: 0.440606\n",
      "[197]\tvalid_0's binary_logloss: 0.440596\n",
      "[198]\tvalid_0's binary_logloss: 0.440562\n",
      "[199]\tvalid_0's binary_logloss: 0.440534\n",
      "[200]\tvalid_0's binary_logloss: 0.440506\n",
      "[201]\tvalid_0's binary_logloss: 0.440525\n",
      "[202]\tvalid_0's binary_logloss: 0.440544\n",
      "[203]\tvalid_0's binary_logloss: 0.440456\n",
      "[204]\tvalid_0's binary_logloss: 0.44049\n",
      "[205]\tvalid_0's binary_logloss: 0.440517\n",
      "[206]\tvalid_0's binary_logloss: 0.440581\n",
      "[207]\tvalid_0's binary_logloss: 0.44052\n",
      "[208]\tvalid_0's binary_logloss: 0.440452\n",
      "[209]\tvalid_0's binary_logloss: 0.440486\n",
      "[210]\tvalid_0's binary_logloss: 0.440507\n",
      "[211]\tvalid_0's binary_logloss: 0.44048\n",
      "[212]\tvalid_0's binary_logloss: 0.440455\n",
      "[213]\tvalid_0's binary_logloss: 0.440471\n",
      "[214]\tvalid_0's binary_logloss: 0.440455\n",
      "[215]\tvalid_0's binary_logloss: 0.440411\n",
      "[216]\tvalid_0's binary_logloss: 0.44039\n",
      "[217]\tvalid_0's binary_logloss: 0.440303\n",
      "[218]\tvalid_0's binary_logloss: 0.440318\n",
      "[219]\tvalid_0's binary_logloss: 0.440213\n",
      "[220]\tvalid_0's binary_logloss: 0.440284\n",
      "[221]\tvalid_0's binary_logloss: 0.44015\n",
      "[222]\tvalid_0's binary_logloss: 0.44015\n",
      "[223]\tvalid_0's binary_logloss: 0.44014\n",
      "[224]\tvalid_0's binary_logloss: 0.440147\n",
      "[225]\tvalid_0's binary_logloss: 0.44014\n",
      "[226]\tvalid_0's binary_logloss: 0.440157\n",
      "[227]\tvalid_0's binary_logloss: 0.440105\n",
      "[228]\tvalid_0's binary_logloss: 0.440096\n",
      "[229]\tvalid_0's binary_logloss: 0.440112\n",
      "[230]\tvalid_0's binary_logloss: 0.440133\n",
      "[231]\tvalid_0's binary_logloss: 0.440114\n",
      "[232]\tvalid_0's binary_logloss: 0.440042\n",
      "[233]\tvalid_0's binary_logloss: 0.440041\n",
      "[234]\tvalid_0's binary_logloss: 0.439989\n",
      "[235]\tvalid_0's binary_logloss: 0.440035\n",
      "[236]\tvalid_0's binary_logloss: 0.440044\n",
      "[237]\tvalid_0's binary_logloss: 0.439994\n",
      "[238]\tvalid_0's binary_logloss: 0.44001\n",
      "[239]\tvalid_0's binary_logloss: 0.440018\n",
      "[240]\tvalid_0's binary_logloss: 0.440025\n",
      "[241]\tvalid_0's binary_logloss: 0.43999\n",
      "[242]\tvalid_0's binary_logloss: 0.439979\n",
      "[243]\tvalid_0's binary_logloss: 0.439989\n",
      "[244]\tvalid_0's binary_logloss: 0.43998\n",
      "[245]\tvalid_0's binary_logloss: 0.439992\n",
      "[246]\tvalid_0's binary_logloss: 0.439948\n",
      "[247]\tvalid_0's binary_logloss: 0.439974\n",
      "[248]\tvalid_0's binary_logloss: 0.440031\n",
      "[249]\tvalid_0's binary_logloss: 0.440042\n",
      "[250]\tvalid_0's binary_logloss: 0.440002\n",
      "[251]\tvalid_0's binary_logloss: 0.440006\n",
      "[252]\tvalid_0's binary_logloss: 0.439999\n",
      "[253]\tvalid_0's binary_logloss: 0.439989\n",
      "[254]\tvalid_0's binary_logloss: 0.439941\n",
      "[255]\tvalid_0's binary_logloss: 0.439934\n",
      "[256]\tvalid_0's binary_logloss: 0.439917\n",
      "[257]\tvalid_0's binary_logloss: 0.439872\n",
      "[258]\tvalid_0's binary_logloss: 0.439829\n",
      "[259]\tvalid_0's binary_logloss: 0.439822\n",
      "[260]\tvalid_0's binary_logloss: 0.439879\n",
      "[261]\tvalid_0's binary_logloss: 0.439877\n",
      "[262]\tvalid_0's binary_logloss: 0.439902\n",
      "[263]\tvalid_0's binary_logloss: 0.439856\n",
      "[264]\tvalid_0's binary_logloss: 0.439828\n",
      "[265]\tvalid_0's binary_logloss: 0.439831\n",
      "[266]\tvalid_0's binary_logloss: 0.439922\n",
      "[267]\tvalid_0's binary_logloss: 0.439904\n",
      "[268]\tvalid_0's binary_logloss: 0.439915\n",
      "[269]\tvalid_0's binary_logloss: 0.439957\n",
      "[270]\tvalid_0's binary_logloss: 0.44002\n",
      "[271]\tvalid_0's binary_logloss: 0.440087\n",
      "[272]\tvalid_0's binary_logloss: 0.440061\n",
      "[273]\tvalid_0's binary_logloss: 0.440038\n",
      "[274]\tvalid_0's binary_logloss: 0.440015\n",
      "[275]\tvalid_0's binary_logloss: 0.440059\n",
      "[276]\tvalid_0's binary_logloss: 0.440008\n",
      "[277]\tvalid_0's binary_logloss: 0.439969\n",
      "[278]\tvalid_0's binary_logloss: 0.439941\n",
      "[279]\tvalid_0's binary_logloss: 0.439915\n",
      "[280]\tvalid_0's binary_logloss: 0.439917\n",
      "[281]\tvalid_0's binary_logloss: 0.439922\n",
      "[282]\tvalid_0's binary_logloss: 0.439936\n",
      "[283]\tvalid_0's binary_logloss: 0.439884\n",
      "[284]\tvalid_0's binary_logloss: 0.439836\n",
      "[285]\tvalid_0's binary_logloss: 0.439803\n",
      "[286]\tvalid_0's binary_logloss: 0.439786\n",
      "[287]\tvalid_0's binary_logloss: 0.439797\n",
      "[288]\tvalid_0's binary_logloss: 0.439858\n",
      "[289]\tvalid_0's binary_logloss: 0.43989\n",
      "[290]\tvalid_0's binary_logloss: 0.43999\n",
      "[291]\tvalid_0's binary_logloss: 0.440058\n",
      "[292]\tvalid_0's binary_logloss: 0.440158\n",
      "[293]\tvalid_0's binary_logloss: 0.440192\n",
      "[294]\tvalid_0's binary_logloss: 0.440168\n",
      "[295]\tvalid_0's binary_logloss: 0.440177\n",
      "[296]\tvalid_0's binary_logloss: 0.440139\n",
      "[297]\tvalid_0's binary_logloss: 0.440175\n",
      "[298]\tvalid_0's binary_logloss: 0.440188\n",
      "[299]\tvalid_0's binary_logloss: 0.440191\n",
      "[300]\tvalid_0's binary_logloss: 0.440131\n",
      "[301]\tvalid_0's binary_logloss: 0.440092\n",
      "[302]\tvalid_0's binary_logloss: 0.440035\n",
      "[303]\tvalid_0's binary_logloss: 0.439987\n",
      "[304]\tvalid_0's binary_logloss: 0.44003\n",
      "[305]\tvalid_0's binary_logloss: 0.440069\n",
      "[306]\tvalid_0's binary_logloss: 0.440012\n",
      "[307]\tvalid_0's binary_logloss: 0.440047\n",
      "[308]\tvalid_0's binary_logloss: 0.440052\n",
      "[309]\tvalid_0's binary_logloss: 0.440036\n",
      "[310]\tvalid_0's binary_logloss: 0.440022\n",
      "[311]\tvalid_0's binary_logloss: 0.440095\n",
      "[312]\tvalid_0's binary_logloss: 0.440124\n",
      "[313]\tvalid_0's binary_logloss: 0.440122\n",
      "[314]\tvalid_0's binary_logloss: 0.440158\n",
      "[315]\tvalid_0's binary_logloss: 0.440137\n",
      "[316]\tvalid_0's binary_logloss: 0.440129\n",
      "[317]\tvalid_0's binary_logloss: 0.440071\n",
      "[318]\tvalid_0's binary_logloss: 0.440067\n",
      "[319]\tvalid_0's binary_logloss: 0.440068\n",
      "[320]\tvalid_0's binary_logloss: 0.440043\n",
      "[321]\tvalid_0's binary_logloss: 0.440005\n",
      "[322]\tvalid_0's binary_logloss: 0.440014\n",
      "[323]\tvalid_0's binary_logloss: 0.440002\n",
      "[324]\tvalid_0's binary_logloss: 0.439966\n",
      "[325]\tvalid_0's binary_logloss: 0.439936\n",
      "[326]\tvalid_0's binary_logloss: 0.439973\n",
      "[327]\tvalid_0's binary_logloss: 0.439923\n",
      "[328]\tvalid_0's binary_logloss: 0.439868\n",
      "[329]\tvalid_0's binary_logloss: 0.439905\n",
      "[330]\tvalid_0's binary_logloss: 0.439874\n",
      "[331]\tvalid_0's binary_logloss: 0.439901\n",
      "[332]\tvalid_0's binary_logloss: 0.439866\n",
      "[333]\tvalid_0's binary_logloss: 0.439887\n",
      "[334]\tvalid_0's binary_logloss: 0.439953\n",
      "[335]\tvalid_0's binary_logloss: 0.43995\n",
      "[336]\tvalid_0's binary_logloss: 0.440025\n",
      "[337]\tvalid_0's binary_logloss: 0.44008\n",
      "[338]\tvalid_0's binary_logloss: 0.440096\n",
      "[339]\tvalid_0's binary_logloss: 0.44017\n",
      "[340]\tvalid_0's binary_logloss: 0.440192\n",
      "[341]\tvalid_0's binary_logloss: 0.440234\n",
      "[342]\tvalid_0's binary_logloss: 0.440228\n",
      "[343]\tvalid_0's binary_logloss: 0.44025\n",
      "[344]\tvalid_0's binary_logloss: 0.440323\n",
      "[345]\tvalid_0's binary_logloss: 0.44033\n",
      "[346]\tvalid_0's binary_logloss: 0.4403\n",
      "[347]\tvalid_0's binary_logloss: 0.440351\n",
      "[348]\tvalid_0's binary_logloss: 0.440348\n",
      "[349]\tvalid_0's binary_logloss: 0.440406\n",
      "[350]\tvalid_0's binary_logloss: 0.440376\n",
      "[351]\tvalid_0's binary_logloss: 0.44041\n",
      "[352]\tvalid_0's binary_logloss: 0.440442\n",
      "[353]\tvalid_0's binary_logloss: 0.440437\n",
      "[354]\tvalid_0's binary_logloss: 0.440414\n",
      "[355]\tvalid_0's binary_logloss: 0.440412\n",
      "[356]\tvalid_0's binary_logloss: 0.440405\n",
      "[357]\tvalid_0's binary_logloss: 0.440395\n",
      "[358]\tvalid_0's binary_logloss: 0.440414\n",
      "[359]\tvalid_0's binary_logloss: 0.440485\n",
      "[360]\tvalid_0's binary_logloss: 0.440517\n",
      "[361]\tvalid_0's binary_logloss: 0.440502\n",
      "[362]\tvalid_0's binary_logloss: 0.440496\n",
      "[363]\tvalid_0's binary_logloss: 0.440491\n",
      "[364]\tvalid_0's binary_logloss: 0.440524\n",
      "[365]\tvalid_0's binary_logloss: 0.440529\n",
      "[366]\tvalid_0's binary_logloss: 0.440482\n",
      "[367]\tvalid_0's binary_logloss: 0.440441\n",
      "[368]\tvalid_0's binary_logloss: 0.440353\n",
      "[369]\tvalid_0's binary_logloss: 0.440302\n",
      "[370]\tvalid_0's binary_logloss: 0.440252\n",
      "[371]\tvalid_0's binary_logloss: 0.440319\n",
      "[372]\tvalid_0's binary_logloss: 0.440349\n",
      "[373]\tvalid_0's binary_logloss: 0.440383\n",
      "[374]\tvalid_0's binary_logloss: 0.440407\n",
      "[375]\tvalid_0's binary_logloss: 0.440393\n",
      "[376]\tvalid_0's binary_logloss: 0.440412\n",
      "[377]\tvalid_0's binary_logloss: 0.440456\n",
      "[378]\tvalid_0's binary_logloss: 0.440519\n",
      "[379]\tvalid_0's binary_logloss: 0.440511\n",
      "[380]\tvalid_0's binary_logloss: 0.440523\n",
      "[381]\tvalid_0's binary_logloss: 0.440571\n",
      "[382]\tvalid_0's binary_logloss: 0.440577\n",
      "[383]\tvalid_0's binary_logloss: 0.440594\n",
      "[384]\tvalid_0's binary_logloss: 0.440609\n",
      "[385]\tvalid_0's binary_logloss: 0.440621\n",
      "[386]\tvalid_0's binary_logloss: 0.440614\n",
      "[387]\tvalid_0's binary_logloss: 0.440603\n",
      "[388]\tvalid_0's binary_logloss: 0.440636\n",
      "[389]\tvalid_0's binary_logloss: 0.440662\n",
      "[390]\tvalid_0's binary_logloss: 0.440686\n",
      "[391]\tvalid_0's binary_logloss: 0.440682\n",
      "[392]\tvalid_0's binary_logloss: 0.440593\n",
      "[393]\tvalid_0's binary_logloss: 0.440511\n",
      "[394]\tvalid_0's binary_logloss: 0.440491\n",
      "[395]\tvalid_0's binary_logloss: 0.440501\n",
      "[396]\tvalid_0's binary_logloss: 0.440477\n",
      "[397]\tvalid_0's binary_logloss: 0.440448\n",
      "[398]\tvalid_0's binary_logloss: 0.440427\n",
      "[399]\tvalid_0's binary_logloss: 0.440421\n",
      "[400]\tvalid_0's binary_logloss: 0.440437\n",
      "[401]\tvalid_0's binary_logloss: 0.440457\n",
      "[402]\tvalid_0's binary_logloss: 0.440467\n",
      "[403]\tvalid_0's binary_logloss: 0.440483\n",
      "[404]\tvalid_0's binary_logloss: 0.440504\n",
      "[405]\tvalid_0's binary_logloss: 0.440557\n",
      "[406]\tvalid_0's binary_logloss: 0.440557\n",
      "[407]\tvalid_0's binary_logloss: 0.440515\n",
      "[408]\tvalid_0's binary_logloss: 0.440528\n",
      "[409]\tvalid_0's binary_logloss: 0.440553\n",
      "[410]\tvalid_0's binary_logloss: 0.440579\n",
      "[411]\tvalid_0's binary_logloss: 0.4406\n",
      "[412]\tvalid_0's binary_logloss: 0.440619\n",
      "[413]\tvalid_0's binary_logloss: 0.440661\n",
      "[414]\tvalid_0's binary_logloss: 0.440705\n",
      "[415]\tvalid_0's binary_logloss: 0.440714\n",
      "[416]\tvalid_0's binary_logloss: 0.44068\n",
      "[417]\tvalid_0's binary_logloss: 0.44067\n",
      "[418]\tvalid_0's binary_logloss: 0.440707\n",
      "[419]\tvalid_0's binary_logloss: 0.440676\n",
      "[420]\tvalid_0's binary_logloss: 0.440637\n",
      "[421]\tvalid_0's binary_logloss: 0.440681\n",
      "[422]\tvalid_0's binary_logloss: 0.44067\n",
      "[423]\tvalid_0's binary_logloss: 0.440668\n",
      "[424]\tvalid_0's binary_logloss: 0.440657\n",
      "[425]\tvalid_0's binary_logloss: 0.440656\n",
      "[426]\tvalid_0's binary_logloss: 0.440633\n",
      "[427]\tvalid_0's binary_logloss: 0.440591\n",
      "[428]\tvalid_0's binary_logloss: 0.440628\n",
      "[429]\tvalid_0's binary_logloss: 0.440595\n",
      "[430]\tvalid_0's binary_logloss: 0.440635\n",
      "[431]\tvalid_0's binary_logloss: 0.440688\n",
      "[432]\tvalid_0's binary_logloss: 0.440672\n",
      "[433]\tvalid_0's binary_logloss: 0.440707\n",
      "[434]\tvalid_0's binary_logloss: 0.440708\n",
      "[435]\tvalid_0's binary_logloss: 0.440744\n",
      "[436]\tvalid_0's binary_logloss: 0.440732\n",
      "[437]\tvalid_0's binary_logloss: 0.44076\n",
      "[438]\tvalid_0's binary_logloss: 0.44075\n",
      "[439]\tvalid_0's binary_logloss: 0.440741\n",
      "[440]\tvalid_0's binary_logloss: 0.440734\n",
      "[441]\tvalid_0's binary_logloss: 0.440695\n",
      "[442]\tvalid_0's binary_logloss: 0.440718\n",
      "[443]\tvalid_0's binary_logloss: 0.440739\n",
      "[444]\tvalid_0's binary_logloss: 0.440746\n",
      "[445]\tvalid_0's binary_logloss: 0.440764\n",
      "[446]\tvalid_0's binary_logloss: 0.440849\n",
      "[447]\tvalid_0's binary_logloss: 0.440831\n",
      "[448]\tvalid_0's binary_logloss: 0.440928\n",
      "[449]\tvalid_0's binary_logloss: 0.440989\n",
      "[450]\tvalid_0's binary_logloss: 0.441084\n",
      "[451]\tvalid_0's binary_logloss: 0.441094\n",
      "[452]\tvalid_0's binary_logloss: 0.441\n",
      "[453]\tvalid_0's binary_logloss: 0.440996\n",
      "[454]\tvalid_0's binary_logloss: 0.44102\n",
      "[455]\tvalid_0's binary_logloss: 0.440978\n",
      "[456]\tvalid_0's binary_logloss: 0.440988\n",
      "[457]\tvalid_0's binary_logloss: 0.440962\n",
      "[458]\tvalid_0's binary_logloss: 0.440938\n",
      "[459]\tvalid_0's binary_logloss: 0.440974\n",
      "[460]\tvalid_0's binary_logloss: 0.440986\n",
      "[461]\tvalid_0's binary_logloss: 0.441012\n",
      "[462]\tvalid_0's binary_logloss: 0.440984\n",
      "[463]\tvalid_0's binary_logloss: 0.440914\n",
      "[464]\tvalid_0's binary_logloss: 0.440867\n",
      "[465]\tvalid_0's binary_logloss: 0.440903\n",
      "[466]\tvalid_0's binary_logloss: 0.440844\n",
      "[467]\tvalid_0's binary_logloss: 0.440854\n",
      "[468]\tvalid_0's binary_logloss: 0.44085\n",
      "[469]\tvalid_0's binary_logloss: 0.440817\n",
      "[470]\tvalid_0's binary_logloss: 0.440828\n",
      "[471]\tvalid_0's binary_logloss: 0.440827\n",
      "[472]\tvalid_0's binary_logloss: 0.440816\n",
      "[473]\tvalid_0's binary_logloss: 0.440832\n",
      "[474]\tvalid_0's binary_logloss: 0.440878\n",
      "[475]\tvalid_0's binary_logloss: 0.440864\n",
      "[476]\tvalid_0's binary_logloss: 0.440888\n",
      "[477]\tvalid_0's binary_logloss: 0.440917\n",
      "[478]\tvalid_0's binary_logloss: 0.440936\n",
      "[479]\tvalid_0's binary_logloss: 0.44091\n",
      "[480]\tvalid_0's binary_logloss: 0.440887\n",
      "[481]\tvalid_0's binary_logloss: 0.440903\n",
      "[482]\tvalid_0's binary_logloss: 0.440904\n",
      "[483]\tvalid_0's binary_logloss: 0.440882\n",
      "[484]\tvalid_0's binary_logloss: 0.440868\n",
      "[485]\tvalid_0's binary_logloss: 0.440904\n",
      "[486]\tvalid_0's binary_logloss: 0.440901\n",
      "Early stopping, best iteration is:\n",
      "[286]\tvalid_0's binary_logloss: 0.439786\n"
     ]
    }
   ],
   "source": [
    "# Optunaの探索結果を使って再トレーニング\n",
    "params = {\n",
    "    'objective': 'binary',\n",
    "    'metric': 'binary_logloss',\n",
    "    'boosting_type': 'gbdt',\n",
    "    'max_depth': -1,\n",
    "    'learning_rate': 0.02,\n",
    "    #'num_leaves': trial.suggest_int('num_leaves',6, 15),\n",
    "    'bagging_freq': 5,\n",
    "    #'bagging_fraction': trial.suggest_loguniform('bagging_fraction', 0.4, 1.0),\n",
    "    #'feature_fraction': trial.suggest_loguniform('feature_fraction', 0.4, 1.0),\n",
    "    'random_state': 777,\n",
    "    'min_data_in_leaf': 1,\n",
    "    #'lambda_l1': trial.suggest_loguniform('lambda_l1', 1e-3, 1.0),\n",
    "    #'lambda_l2': trial.suggest_loguniform('lambda_l2', 1e-3, 1.0),\n",
    "    'verbose': -1\n",
    "}\n",
    "params.update(best_params)\n",
    "\n",
    "# モデルの学習実行\n",
    "model = lgb.train(\n",
    "    params, dtrain, num_boost_round=9999, valid_sets=dval, early_stopping_rounds=200\n",
    ")"
   ]
  },
  {
   "cell_type": "code",
   "execution_count": 105,
   "metadata": {},
   "outputs": [
    {
     "name": "stdout",
     "output_type": "stream",
     "text": [
      "validation_score(AUC): 0.8272646607405513\n"
     ]
    }
   ],
   "source": [
    "# バリデーションスコア\n",
    "from sklearn.metrics import roc_auc_score\n",
    "\n",
    "val_pred_optuna = model.predict(val_x)\n",
    "print('validation_score(AUC):', roc_auc_score(y_true=val_y, y_score=val_pred_optuna))"
   ]
  },
  {
   "cell_type": "code",
   "execution_count": 106,
   "metadata": {},
   "outputs": [
    {
     "name": "stdout",
     "output_type": "stream",
     "text": [
      "test_score(AUC): 0.8492888942914014\n"
     ]
    }
   ],
   "source": [
    "# 推論実行\n",
    "test_pred_optuna = model.predict(test_x)\n",
    "\n",
    "print('test_score(AUC):', roc_auc_score(y_true=test_y, y_score=test_pred_optuna))"
   ]
  },
  {
   "cell_type": "code",
   "execution_count": 107,
   "metadata": {},
   "outputs": [
    {
     "data": {
      "text/plain": [
       "{'ManuallySelected': {'model': 'LightGBM',\n",
       "  'validation_score(AUC)': 0.8311496770480271,\n",
       "  'test_score(AUC)': 0.848412674294339},\n",
       " 'GridSearch': {'model': 'LightGBM',\n",
       "  'validation_score(AUC)': 0.6989671931956257,\n",
       "  'test_score(AUC)': 0.7127581176971116},\n",
       " 'RandomSearch': {'model': 'LightGBM',\n",
       "  'validation_score(AUC)': 0.7014712700645903,\n",
       "  'test_score(AUC)': 0.7104852638029974},\n",
       " 'Optuna': {'model': 'LightGBM',\n",
       "  'validation_score(AUC)': 0.8272646607405513,\n",
       "  'test_score(AUC)': 0.8492888942914014}}"
      ]
     },
     "execution_count": 107,
     "metadata": {},
     "output_type": "execute_result"
    }
   ],
   "source": [
    "# 結果を格納しておく\n",
    "\n",
    "result = {\n",
    "    'model': 'LightGBM',\n",
    "    'validation_score(AUC)': roc_auc_score(y_true=val_y, y_score=val_pred_optuna),\n",
    "    'test_score(AUC)': roc_auc_score(y_true=test_y, y_score=test_pred_optuna)\n",
    "}\n",
    "results['Optuna'] = result\n",
    "\n",
    "results"
   ]
  },
  {
   "cell_type": "code",
   "execution_count": null,
   "metadata": {},
   "outputs": [],
   "source": []
  }
 ],
 "metadata": {
  "interpreter": {
   "hash": "f6db6df122c4444d5337e1611ea3126c13bfd73b114ae6a69defa5d135b8fd60"
  },
  "kernelspec": {
   "display_name": "Python 3 (ipykernel)",
   "language": "python",
   "name": "python3"
  },
  "language_info": {
   "codemirror_mode": {
    "name": "ipython",
    "version": 3
   },
   "file_extension": ".py",
   "mimetype": "text/x-python",
   "name": "python",
   "nbconvert_exporter": "python",
   "pygments_lexer": "ipython3",
   "version": "3.8.11"
  }
 },
 "nbformat": 4,
 "nbformat_minor": 4
}
