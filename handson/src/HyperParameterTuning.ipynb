{
 "cells": [
  {
   "cell_type": "markdown",
   "metadata": {},
   "source": [
    "# ハイパーパラメータのチューニング"
   ]
  },
  {
   "cell_type": "markdown",
   "metadata": {},
   "source": [
    "まずチューニング前のモデルを作成する"
   ]
  },
  {
   "cell_type": "markdown",
   "metadata": {},
   "source": [
    "## Data Load"
   ]
  },
  {
   "cell_type": "code",
   "execution_count": 1,
   "metadata": {},
   "outputs": [],
   "source": [
    "import os\n",
    "import pandas as pd\n",
    "import matplotlib.pyplot as plt\n",
    "import matplotlib as mlp\n",
    "import seaborn as sns\n",
    "import numpy as np\n",
    "\n",
    "pd.set_option('display.max_columns', 200)\n",
    "plt.style.use('ggplot')"
   ]
  },
  {
   "cell_type": "markdown",
   "metadata": {},
   "source": [
    "電気通信事業者の解約データを読み込む  \n",
    "(https://www.kaggle.com/blastchar/telco-customer-churn)"
   ]
  },
  {
   "cell_type": "code",
   "execution_count": 2,
   "metadata": {},
   "outputs": [
    {
     "data": {
      "text/html": [
       "<div>\n",
       "<style scoped>\n",
       "    .dataframe tbody tr th:only-of-type {\n",
       "        vertical-align: middle;\n",
       "    }\n",
       "\n",
       "    .dataframe tbody tr th {\n",
       "        vertical-align: top;\n",
       "    }\n",
       "\n",
       "    .dataframe thead th {\n",
       "        text-align: right;\n",
       "    }\n",
       "</style>\n",
       "<table border=\"1\" class=\"dataframe\">\n",
       "  <thead>\n",
       "    <tr style=\"text-align: right;\">\n",
       "      <th></th>\n",
       "      <th>customerID</th>\n",
       "      <th>gender</th>\n",
       "      <th>SeniorCitizen</th>\n",
       "      <th>Partner</th>\n",
       "      <th>Dependents</th>\n",
       "      <th>tenure</th>\n",
       "      <th>PhoneService</th>\n",
       "      <th>MultipleLines</th>\n",
       "      <th>InternetService</th>\n",
       "      <th>OnlineSecurity</th>\n",
       "      <th>OnlineBackup</th>\n",
       "      <th>DeviceProtection</th>\n",
       "      <th>TechSupport</th>\n",
       "      <th>StreamingTV</th>\n",
       "      <th>StreamingMovies</th>\n",
       "      <th>Contract</th>\n",
       "      <th>PaperlessBilling</th>\n",
       "      <th>PaymentMethod</th>\n",
       "      <th>MonthlyCharges</th>\n",
       "      <th>TotalCharges</th>\n",
       "      <th>Churn</th>\n",
       "    </tr>\n",
       "  </thead>\n",
       "  <tbody>\n",
       "    <tr>\n",
       "      <th>0</th>\n",
       "      <td>7590-VHVEG</td>\n",
       "      <td>Female</td>\n",
       "      <td>0</td>\n",
       "      <td>Yes</td>\n",
       "      <td>No</td>\n",
       "      <td>1</td>\n",
       "      <td>No</td>\n",
       "      <td>No phone service</td>\n",
       "      <td>DSL</td>\n",
       "      <td>No</td>\n",
       "      <td>Yes</td>\n",
       "      <td>No</td>\n",
       "      <td>No</td>\n",
       "      <td>No</td>\n",
       "      <td>No</td>\n",
       "      <td>Month-to-month</td>\n",
       "      <td>Yes</td>\n",
       "      <td>Electronic check</td>\n",
       "      <td>29.85</td>\n",
       "      <td>29.85</td>\n",
       "      <td>No</td>\n",
       "    </tr>\n",
       "    <tr>\n",
       "      <th>1</th>\n",
       "      <td>5575-GNVDE</td>\n",
       "      <td>Male</td>\n",
       "      <td>0</td>\n",
       "      <td>No</td>\n",
       "      <td>No</td>\n",
       "      <td>34</td>\n",
       "      <td>Yes</td>\n",
       "      <td>No</td>\n",
       "      <td>DSL</td>\n",
       "      <td>Yes</td>\n",
       "      <td>No</td>\n",
       "      <td>Yes</td>\n",
       "      <td>No</td>\n",
       "      <td>No</td>\n",
       "      <td>No</td>\n",
       "      <td>One year</td>\n",
       "      <td>No</td>\n",
       "      <td>Mailed check</td>\n",
       "      <td>56.95</td>\n",
       "      <td>1889.50</td>\n",
       "      <td>No</td>\n",
       "    </tr>\n",
       "    <tr>\n",
       "      <th>2</th>\n",
       "      <td>3668-QPYBK</td>\n",
       "      <td>Male</td>\n",
       "      <td>0</td>\n",
       "      <td>No</td>\n",
       "      <td>No</td>\n",
       "      <td>2</td>\n",
       "      <td>Yes</td>\n",
       "      <td>No</td>\n",
       "      <td>DSL</td>\n",
       "      <td>Yes</td>\n",
       "      <td>Yes</td>\n",
       "      <td>No</td>\n",
       "      <td>No</td>\n",
       "      <td>No</td>\n",
       "      <td>No</td>\n",
       "      <td>Month-to-month</td>\n",
       "      <td>Yes</td>\n",
       "      <td>Mailed check</td>\n",
       "      <td>53.85</td>\n",
       "      <td>108.15</td>\n",
       "      <td>Yes</td>\n",
       "    </tr>\n",
       "    <tr>\n",
       "      <th>3</th>\n",
       "      <td>7795-CFOCW</td>\n",
       "      <td>Male</td>\n",
       "      <td>0</td>\n",
       "      <td>No</td>\n",
       "      <td>No</td>\n",
       "      <td>45</td>\n",
       "      <td>No</td>\n",
       "      <td>No phone service</td>\n",
       "      <td>DSL</td>\n",
       "      <td>Yes</td>\n",
       "      <td>No</td>\n",
       "      <td>Yes</td>\n",
       "      <td>Yes</td>\n",
       "      <td>No</td>\n",
       "      <td>No</td>\n",
       "      <td>One year</td>\n",
       "      <td>No</td>\n",
       "      <td>Bank transfer (automatic)</td>\n",
       "      <td>42.30</td>\n",
       "      <td>1840.75</td>\n",
       "      <td>No</td>\n",
       "    </tr>\n",
       "    <tr>\n",
       "      <th>4</th>\n",
       "      <td>9237-HQITU</td>\n",
       "      <td>Female</td>\n",
       "      <td>0</td>\n",
       "      <td>No</td>\n",
       "      <td>No</td>\n",
       "      <td>2</td>\n",
       "      <td>Yes</td>\n",
       "      <td>No</td>\n",
       "      <td>Fiber optic</td>\n",
       "      <td>No</td>\n",
       "      <td>No</td>\n",
       "      <td>No</td>\n",
       "      <td>No</td>\n",
       "      <td>No</td>\n",
       "      <td>No</td>\n",
       "      <td>Month-to-month</td>\n",
       "      <td>Yes</td>\n",
       "      <td>Electronic check</td>\n",
       "      <td>70.70</td>\n",
       "      <td>151.65</td>\n",
       "      <td>Yes</td>\n",
       "    </tr>\n",
       "  </tbody>\n",
       "</table>\n",
       "</div>"
      ],
      "text/plain": [
       "   customerID  gender  SeniorCitizen Partner Dependents  tenure PhoneService  \\\n",
       "0  7590-VHVEG  Female              0     Yes         No       1           No   \n",
       "1  5575-GNVDE    Male              0      No         No      34          Yes   \n",
       "2  3668-QPYBK    Male              0      No         No       2          Yes   \n",
       "3  7795-CFOCW    Male              0      No         No      45           No   \n",
       "4  9237-HQITU  Female              0      No         No       2          Yes   \n",
       "\n",
       "      MultipleLines InternetService OnlineSecurity OnlineBackup  \\\n",
       "0  No phone service             DSL             No          Yes   \n",
       "1                No             DSL            Yes           No   \n",
       "2                No             DSL            Yes          Yes   \n",
       "3  No phone service             DSL            Yes           No   \n",
       "4                No     Fiber optic             No           No   \n",
       "\n",
       "  DeviceProtection TechSupport StreamingTV StreamingMovies        Contract  \\\n",
       "0               No          No          No              No  Month-to-month   \n",
       "1              Yes          No          No              No        One year   \n",
       "2               No          No          No              No  Month-to-month   \n",
       "3              Yes         Yes          No              No        One year   \n",
       "4               No          No          No              No  Month-to-month   \n",
       "\n",
       "  PaperlessBilling              PaymentMethod  MonthlyCharges  TotalCharges  \\\n",
       "0              Yes           Electronic check           29.85         29.85   \n",
       "1               No               Mailed check           56.95       1889.50   \n",
       "2              Yes               Mailed check           53.85        108.15   \n",
       "3               No  Bank transfer (automatic)           42.30       1840.75   \n",
       "4              Yes           Electronic check           70.70        151.65   \n",
       "\n",
       "  Churn  \n",
       "0    No  \n",
       "1    No  \n",
       "2   Yes  \n",
       "3    No  \n",
       "4   Yes  "
      ]
     },
     "execution_count": 2,
     "metadata": {},
     "output_type": "execute_result"
    }
   ],
   "source": [
    "input_path = '../data'\n",
    "df = pd.read_csv(os.path.join(input_path, 'WA_Fn-UseC_-Telco-Customer-Churn.csv'))\n",
    "\n",
    "# TotalCharges列に空文字が存在して文字列型になっているので欠損値に置換して少数型にしておく\n",
    "col = 'TotalCharges'\n",
    "df[col] = df[col].replace({' ': np.nan}).astype(float)\n",
    "\n",
    "df.head()"
   ]
  },
  {
   "cell_type": "markdown",
   "metadata": {
    "tags": []
   },
   "source": [
    "## Data Partition"
   ]
  },
  {
   "cell_type": "code",
   "execution_count": 3,
   "metadata": {},
   "outputs": [
    {
     "name": "stdout",
     "output_type": "stream",
     "text": [
      "original_size: (7043, 21)\n",
      "train_size: (5634, 21)\n",
      "test_size: (1409, 21)\n"
     ]
    }
   ],
   "source": [
    "from sklearn.model_selection import train_test_split\n",
    "\n",
    "train_df, test_df = train_test_split(df, train_size=0.8, random_state=2021, shuffle=True)\n",
    "print('original_size:', df.shape)\n",
    "print('train_size:', train_df.shape)\n",
    "print('test_size:', test_df.shape)"
   ]
  },
  {
   "cell_type": "markdown",
   "metadata": {},
   "source": [
    "## Data Preparation"
   ]
  },
  {
   "cell_type": "code",
   "execution_count": 4,
   "metadata": {},
   "outputs": [],
   "source": [
    "from sklearn.preprocessing import StandardScaler\n",
    "from category_encoders import OrdinalEncoder"
   ]
  },
  {
   "cell_type": "code",
   "execution_count": 5,
   "metadata": {},
   "outputs": [
    {
     "name": "stderr",
     "output_type": "stream",
     "text": [
      "/var/folders/v6/1f2j3j154zj9g03clj2_yt_00000gn/T/ipykernel_10772/1495117370.py:23: FutureWarning: Dropping of nuisance columns in DataFrame reductions (with 'numeric_only=None') is deprecated; in a future version this will raise TypeError.  Select only valid columns before calling the reduction.\n",
      "  train_df.fillna(train_df.median(), inplace=True)\n",
      "/var/folders/v6/1f2j3j154zj9g03clj2_yt_00000gn/T/ipykernel_10772/1495117370.py:24: FutureWarning: Dropping of nuisance columns in DataFrame reductions (with 'numeric_only=None') is deprecated; in a future version this will raise TypeError.  Select only valid columns before calling the reduction.\n",
      "  test_df.fillna(train_df.median(), inplace=True)\n"
     ]
    },
    {
     "data": {
      "text/html": [
       "<div>\n",
       "<style scoped>\n",
       "    .dataframe tbody tr th:only-of-type {\n",
       "        vertical-align: middle;\n",
       "    }\n",
       "\n",
       "    .dataframe tbody tr th {\n",
       "        vertical-align: top;\n",
       "    }\n",
       "\n",
       "    .dataframe thead th {\n",
       "        text-align: right;\n",
       "    }\n",
       "</style>\n",
       "<table border=\"1\" class=\"dataframe\">\n",
       "  <thead>\n",
       "    <tr style=\"text-align: right;\">\n",
       "      <th></th>\n",
       "      <th>customerID</th>\n",
       "      <th>gender</th>\n",
       "      <th>SeniorCitizen</th>\n",
       "      <th>Partner</th>\n",
       "      <th>Dependents</th>\n",
       "      <th>tenure</th>\n",
       "      <th>PhoneService</th>\n",
       "      <th>MultipleLines</th>\n",
       "      <th>InternetService</th>\n",
       "      <th>OnlineSecurity</th>\n",
       "      <th>OnlineBackup</th>\n",
       "      <th>DeviceProtection</th>\n",
       "      <th>TechSupport</th>\n",
       "      <th>StreamingTV</th>\n",
       "      <th>StreamingMovies</th>\n",
       "      <th>Contract</th>\n",
       "      <th>PaperlessBilling</th>\n",
       "      <th>PaymentMethod</th>\n",
       "      <th>MonthlyCharges</th>\n",
       "      <th>TotalCharges</th>\n",
       "      <th>Churn</th>\n",
       "    </tr>\n",
       "  </thead>\n",
       "  <tbody>\n",
       "    <tr>\n",
       "      <th>6125</th>\n",
       "      <td>0871-URUWO</td>\n",
       "      <td>1</td>\n",
       "      <td>0</td>\n",
       "      <td>1</td>\n",
       "      <td>1</td>\n",
       "      <td>-0.791990</td>\n",
       "      <td>1</td>\n",
       "      <td>1</td>\n",
       "      <td>1</td>\n",
       "      <td>1</td>\n",
       "      <td>1</td>\n",
       "      <td>1</td>\n",
       "      <td>1</td>\n",
       "      <td>1</td>\n",
       "      <td>1</td>\n",
       "      <td>1</td>\n",
       "      <td>1</td>\n",
       "      <td>1</td>\n",
       "      <td>1.255598</td>\n",
       "      <td>-0.403651</td>\n",
       "      <td>1</td>\n",
       "    </tr>\n",
       "    <tr>\n",
       "      <th>6958</th>\n",
       "      <td>3078-ZKNTS</td>\n",
       "      <td>2</td>\n",
       "      <td>0</td>\n",
       "      <td>1</td>\n",
       "      <td>2</td>\n",
       "      <td>-0.791990</td>\n",
       "      <td>1</td>\n",
       "      <td>2</td>\n",
       "      <td>2</td>\n",
       "      <td>2</td>\n",
       "      <td>2</td>\n",
       "      <td>2</td>\n",
       "      <td>2</td>\n",
       "      <td>2</td>\n",
       "      <td>2</td>\n",
       "      <td>2</td>\n",
       "      <td>1</td>\n",
       "      <td>2</td>\n",
       "      <td>-1.485131</td>\n",
       "      <td>-0.894834</td>\n",
       "      <td>0</td>\n",
       "    </tr>\n",
       "    <tr>\n",
       "      <th>4062</th>\n",
       "      <td>1915-IOFGU</td>\n",
       "      <td>2</td>\n",
       "      <td>0</td>\n",
       "      <td>2</td>\n",
       "      <td>1</td>\n",
       "      <td>-1.280574</td>\n",
       "      <td>1</td>\n",
       "      <td>2</td>\n",
       "      <td>1</td>\n",
       "      <td>1</td>\n",
       "      <td>1</td>\n",
       "      <td>3</td>\n",
       "      <td>1</td>\n",
       "      <td>3</td>\n",
       "      <td>3</td>\n",
       "      <td>1</td>\n",
       "      <td>2</td>\n",
       "      <td>3</td>\n",
       "      <td>0.200833</td>\n",
       "      <td>-0.972643</td>\n",
       "      <td>1</td>\n",
       "    </tr>\n",
       "    <tr>\n",
       "      <th>5298</th>\n",
       "      <td>5647-FXOTP</td>\n",
       "      <td>2</td>\n",
       "      <td>1</td>\n",
       "      <td>1</td>\n",
       "      <td>1</td>\n",
       "      <td>1.121629</td>\n",
       "      <td>1</td>\n",
       "      <td>1</td>\n",
       "      <td>1</td>\n",
       "      <td>1</td>\n",
       "      <td>3</td>\n",
       "      <td>1</td>\n",
       "      <td>1</td>\n",
       "      <td>1</td>\n",
       "      <td>1</td>\n",
       "      <td>1</td>\n",
       "      <td>1</td>\n",
       "      <td>3</td>\n",
       "      <td>1.376855</td>\n",
       "      <td>1.822967</td>\n",
       "      <td>0</td>\n",
       "    </tr>\n",
       "    <tr>\n",
       "      <th>1214</th>\n",
       "      <td>9866-QEVEE</td>\n",
       "      <td>1</td>\n",
       "      <td>0</td>\n",
       "      <td>2</td>\n",
       "      <td>1</td>\n",
       "      <td>-0.547698</td>\n",
       "      <td>1</td>\n",
       "      <td>1</td>\n",
       "      <td>1</td>\n",
       "      <td>1</td>\n",
       "      <td>1</td>\n",
       "      <td>3</td>\n",
       "      <td>1</td>\n",
       "      <td>3</td>\n",
       "      <td>1</td>\n",
       "      <td>1</td>\n",
       "      <td>1</td>\n",
       "      <td>2</td>\n",
       "      <td>0.715758</td>\n",
       "      <td>-0.327057</td>\n",
       "      <td>1</td>\n",
       "    </tr>\n",
       "  </tbody>\n",
       "</table>\n",
       "</div>"
      ],
      "text/plain": [
       "      customerID  gender  SeniorCitizen  Partner  Dependents    tenure  \\\n",
       "6125  0871-URUWO       1              0        1           1 -0.791990   \n",
       "6958  3078-ZKNTS       2              0        1           2 -0.791990   \n",
       "4062  1915-IOFGU       2              0        2           1 -1.280574   \n",
       "5298  5647-FXOTP       2              1        1           1  1.121629   \n",
       "1214  9866-QEVEE       1              0        2           1 -0.547698   \n",
       "\n",
       "      PhoneService  MultipleLines  InternetService  OnlineSecurity  \\\n",
       "6125             1              1                1               1   \n",
       "6958             1              2                2               2   \n",
       "4062             1              2                1               1   \n",
       "5298             1              1                1               1   \n",
       "1214             1              1                1               1   \n",
       "\n",
       "      OnlineBackup  DeviceProtection  TechSupport  StreamingTV  \\\n",
       "6125             1                 1            1            1   \n",
       "6958             2                 2            2            2   \n",
       "4062             1                 3            1            3   \n",
       "5298             3                 1            1            1   \n",
       "1214             1                 3            1            3   \n",
       "\n",
       "      StreamingMovies  Contract  PaperlessBilling  PaymentMethod  \\\n",
       "6125                1         1                 1              1   \n",
       "6958                2         2                 1              2   \n",
       "4062                3         1                 2              3   \n",
       "5298                1         1                 1              3   \n",
       "1214                1         1                 1              2   \n",
       "\n",
       "      MonthlyCharges  TotalCharges  Churn  \n",
       "6125        1.255598     -0.403651      1  \n",
       "6958       -1.485131     -0.894834      0  \n",
       "4062        0.200833     -0.972643      1  \n",
       "5298        1.376855      1.822967      0  \n",
       "1214        0.715758     -0.327057      1  "
      ]
     },
     "execution_count": 5,
     "metadata": {},
     "output_type": "execute_result"
    }
   ],
   "source": [
    "# ターゲットを変換\n",
    "train_df['Churn'] = train_df['Churn'].map({'Yes':1, 'No':0})\n",
    "test_df['Churn'] = test_df['Churn'].map({'Yes':1, 'No':0})\n",
    "\n",
    "# 数値変数の標準化\n",
    "# 今回はツリー系アルゴリズムを使用する本来は不要だが、勉強のために実施しておく\n",
    "num_cols = ['tenure', 'MonthlyCharges', 'TotalCharges']\n",
    "scaler = StandardScaler()\n",
    "train_df[num_cols] = scaler.fit_transform(train_df[num_cols])\n",
    "test_df[num_cols] = scaler.transform(test_df[num_cols])\n",
    "\n",
    "# customerID以外のカテゴリ変数をOrdinalエンコーディング\n",
    "cat_cols = []\n",
    "for col in train_df.columns:\n",
    "    if train_df[col].dtype == 'object':\n",
    "        cat_cols.append(col)\n",
    "cat_cols.remove('customerID')\n",
    "encoder = OrdinalEncoder()\n",
    "train_df[cat_cols] = encoder.fit_transform(train_df[cat_cols])\n",
    "test_df[cat_cols] = encoder.transform(test_df[cat_cols])\n",
    "\n",
    "# 欠損値をトレーニングデータの中央値で保管\n",
    "train_df.fillna(train_df.median(), inplace=True)\n",
    "test_df.fillna(train_df.median(), inplace=True)\n",
    "\n",
    "# 前処理後のデータプレビュー\n",
    "train_df.head()"
   ]
  },
  {
   "cell_type": "code",
   "execution_count": 6,
   "metadata": {},
   "outputs": [
    {
     "name": "stdout",
     "output_type": "stream",
     "text": [
      "<class 'pandas.core.frame.DataFrame'>\n",
      "Int64Index: 5634 entries, 6125 to 1140\n",
      "Data columns (total 21 columns):\n",
      " #   Column            Non-Null Count  Dtype  \n",
      "---  ------            --------------  -----  \n",
      " 0   customerID        5634 non-null   object \n",
      " 1   gender            5634 non-null   int64  \n",
      " 2   SeniorCitizen     5634 non-null   int64  \n",
      " 3   Partner           5634 non-null   int64  \n",
      " 4   Dependents        5634 non-null   int64  \n",
      " 5   tenure            5634 non-null   float64\n",
      " 6   PhoneService      5634 non-null   int64  \n",
      " 7   MultipleLines     5634 non-null   int64  \n",
      " 8   InternetService   5634 non-null   int64  \n",
      " 9   OnlineSecurity    5634 non-null   int64  \n",
      " 10  OnlineBackup      5634 non-null   int64  \n",
      " 11  DeviceProtection  5634 non-null   int64  \n",
      " 12  TechSupport       5634 non-null   int64  \n",
      " 13  StreamingTV       5634 non-null   int64  \n",
      " 14  StreamingMovies   5634 non-null   int64  \n",
      " 15  Contract          5634 non-null   int64  \n",
      " 16  PaperlessBilling  5634 non-null   int64  \n",
      " 17  PaymentMethod     5634 non-null   int64  \n",
      " 18  MonthlyCharges    5634 non-null   float64\n",
      " 19  TotalCharges      5634 non-null   float64\n",
      " 20  Churn             5634 non-null   int64  \n",
      "dtypes: float64(3), int64(17), object(1)\n",
      "memory usage: 968.3+ KB\n"
     ]
    }
   ],
   "source": [
    "train_df.info()"
   ]
  },
  {
   "cell_type": "markdown",
   "metadata": {},
   "source": [
    "## Modeling"
   ]
  },
  {
   "cell_type": "markdown",
   "metadata": {},
   "source": [
    "LightGBMでモデルを作成する  \n",
    "バリデーションスキームはLeave One Outで、ランダムに8:2に分割する"
   ]
  },
  {
   "cell_type": "code",
   "execution_count": 6,
   "metadata": {},
   "outputs": [],
   "source": [
    "import lightgbm as lgb"
   ]
  },
  {
   "cell_type": "code",
   "execution_count": 7,
   "metadata": {
    "collapsed": true,
    "jupyter": {
     "outputs_hidden": true
    },
    "tags": []
   },
   "outputs": [
    {
     "name": "stderr",
     "output_type": "stream",
     "text": [
      "/Users/suzuki001/Desktop/studyML/handson/src/venv/lib/python3.8/site-packages/lightgbm/engine.py:181: UserWarning: 'early_stopping_rounds' argument is deprecated and will be removed in a future release of LightGBM. Pass 'early_stopping()' callback via 'callbacks' argument instead.\n",
      "  _log_warning(\"'early_stopping_rounds' argument is deprecated and will be removed in a future release of LightGBM. \"\n"
     ]
    },
    {
     "name": "stdout",
     "output_type": "stream",
     "text": [
      "[1]\tvalid_0's binary_logloss: 0.577526\n",
      "Training until validation scores don't improve for 200 rounds\n",
      "[2]\tvalid_0's binary_logloss: 0.572274\n",
      "[3]\tvalid_0's binary_logloss: 0.567982\n",
      "[4]\tvalid_0's binary_logloss: 0.563359\n",
      "[5]\tvalid_0's binary_logloss: 0.558653\n",
      "[6]\tvalid_0's binary_logloss: 0.554153\n",
      "[7]\tvalid_0's binary_logloss: 0.550236\n",
      "[8]\tvalid_0's binary_logloss: 0.546518\n",
      "[9]\tvalid_0's binary_logloss: 0.542333\n",
      "[10]\tvalid_0's binary_logloss: 0.538431\n",
      "[11]\tvalid_0's binary_logloss: 0.534706\n",
      "[12]\tvalid_0's binary_logloss: 0.531111\n",
      "[13]\tvalid_0's binary_logloss: 0.528088\n",
      "[14]\tvalid_0's binary_logloss: 0.525296\n",
      "[15]\tvalid_0's binary_logloss: 0.522425\n",
      "[16]\tvalid_0's binary_logloss: 0.519348\n",
      "[17]\tvalid_0's binary_logloss: 0.516887\n",
      "[18]\tvalid_0's binary_logloss: 0.514061\n",
      "[19]\tvalid_0's binary_logloss: 0.511301\n",
      "[20]\tvalid_0's binary_logloss: 0.508807\n",
      "[21]\tvalid_0's binary_logloss: 0.506329\n",
      "[22]\tvalid_0's binary_logloss: 0.50411\n",
      "[23]\tvalid_0's binary_logloss: 0.501851\n",
      "[24]\tvalid_0's binary_logloss: 0.499716\n",
      "[25]\tvalid_0's binary_logloss: 0.497779\n",
      "[26]\tvalid_0's binary_logloss: 0.495922\n",
      "[27]\tvalid_0's binary_logloss: 0.493929\n",
      "[28]\tvalid_0's binary_logloss: 0.491998\n",
      "[29]\tvalid_0's binary_logloss: 0.490276\n",
      "[30]\tvalid_0's binary_logloss: 0.488587\n",
      "[31]\tvalid_0's binary_logloss: 0.486714\n",
      "[32]\tvalid_0's binary_logloss: 0.485158\n",
      "[33]\tvalid_0's binary_logloss: 0.483525\n",
      "[34]\tvalid_0's binary_logloss: 0.482124\n",
      "[35]\tvalid_0's binary_logloss: 0.480529\n",
      "[36]\tvalid_0's binary_logloss: 0.47897\n",
      "[37]\tvalid_0's binary_logloss: 0.477596\n",
      "[38]\tvalid_0's binary_logloss: 0.476114\n",
      "[39]\tvalid_0's binary_logloss: 0.475058\n",
      "[40]\tvalid_0's binary_logloss: 0.474079\n",
      "[41]\tvalid_0's binary_logloss: 0.472769\n",
      "[42]\tvalid_0's binary_logloss: 0.471606\n",
      "[43]\tvalid_0's binary_logloss: 0.470675\n",
      "[44]\tvalid_0's binary_logloss: 0.469493\n",
      "[45]\tvalid_0's binary_logloss: 0.468353\n",
      "[46]\tvalid_0's binary_logloss: 0.46738\n",
      "[47]\tvalid_0's binary_logloss: 0.466527\n",
      "[48]\tvalid_0's binary_logloss: 0.465471\n",
      "[49]\tvalid_0's binary_logloss: 0.464454\n",
      "[50]\tvalid_0's binary_logloss: 0.46356\n",
      "[51]\tvalid_0's binary_logloss: 0.462611\n",
      "[52]\tvalid_0's binary_logloss: 0.461748\n",
      "[53]\tvalid_0's binary_logloss: 0.46112\n",
      "[54]\tvalid_0's binary_logloss: 0.460316\n",
      "[55]\tvalid_0's binary_logloss: 0.459494\n",
      "[56]\tvalid_0's binary_logloss: 0.458465\n",
      "[57]\tvalid_0's binary_logloss: 0.457726\n",
      "[58]\tvalid_0's binary_logloss: 0.457024\n",
      "[59]\tvalid_0's binary_logloss: 0.456233\n",
      "[60]\tvalid_0's binary_logloss: 0.455543\n",
      "[61]\tvalid_0's binary_logloss: 0.454927\n",
      "[62]\tvalid_0's binary_logloss: 0.454379\n",
      "[63]\tvalid_0's binary_logloss: 0.45392\n",
      "[64]\tvalid_0's binary_logloss: 0.453455\n",
      "[65]\tvalid_0's binary_logloss: 0.452938\n",
      "[66]\tvalid_0's binary_logloss: 0.452361\n",
      "[67]\tvalid_0's binary_logloss: 0.451743\n",
      "[68]\tvalid_0's binary_logloss: 0.451326\n",
      "[69]\tvalid_0's binary_logloss: 0.450986\n",
      "[70]\tvalid_0's binary_logloss: 0.450683\n",
      "[71]\tvalid_0's binary_logloss: 0.450173\n",
      "[72]\tvalid_0's binary_logloss: 0.449887\n",
      "[73]\tvalid_0's binary_logloss: 0.449312\n",
      "[74]\tvalid_0's binary_logloss: 0.449008\n",
      "[75]\tvalid_0's binary_logloss: 0.448701\n",
      "[76]\tvalid_0's binary_logloss: 0.448183\n",
      "[77]\tvalid_0's binary_logloss: 0.447657\n",
      "[78]\tvalid_0's binary_logloss: 0.447352\n",
      "[79]\tvalid_0's binary_logloss: 0.44684\n",
      "[80]\tvalid_0's binary_logloss: 0.446413\n",
      "[81]\tvalid_0's binary_logloss: 0.446126\n",
      "[82]\tvalid_0's binary_logloss: 0.445764\n",
      "[83]\tvalid_0's binary_logloss: 0.445425\n",
      "[84]\tvalid_0's binary_logloss: 0.445067\n",
      "[85]\tvalid_0's binary_logloss: 0.444649\n",
      "[86]\tvalid_0's binary_logloss: 0.444438\n",
      "[87]\tvalid_0's binary_logloss: 0.44417\n",
      "[88]\tvalid_0's binary_logloss: 0.443966\n",
      "[89]\tvalid_0's binary_logloss: 0.443689\n",
      "[90]\tvalid_0's binary_logloss: 0.443466\n",
      "[91]\tvalid_0's binary_logloss: 0.443296\n",
      "[92]\tvalid_0's binary_logloss: 0.443184\n",
      "[93]\tvalid_0's binary_logloss: 0.442979\n",
      "[94]\tvalid_0's binary_logloss: 0.44289\n",
      "[95]\tvalid_0's binary_logloss: 0.442524\n",
      "[96]\tvalid_0's binary_logloss: 0.442133\n",
      "[97]\tvalid_0's binary_logloss: 0.441894\n",
      "[98]\tvalid_0's binary_logloss: 0.441595\n",
      "[99]\tvalid_0's binary_logloss: 0.441402\n",
      "[100]\tvalid_0's binary_logloss: 0.441137\n",
      "[101]\tvalid_0's binary_logloss: 0.440843\n",
      "[102]\tvalid_0's binary_logloss: 0.440526\n",
      "[103]\tvalid_0's binary_logloss: 0.44029\n",
      "[104]\tvalid_0's binary_logloss: 0.440075\n",
      "[105]\tvalid_0's binary_logloss: 0.439874\n",
      "[106]\tvalid_0's binary_logloss: 0.439617\n",
      "[107]\tvalid_0's binary_logloss: 0.439458\n",
      "[108]\tvalid_0's binary_logloss: 0.439382\n",
      "[109]\tvalid_0's binary_logloss: 0.439205\n",
      "[110]\tvalid_0's binary_logloss: 0.439153\n",
      "[111]\tvalid_0's binary_logloss: 0.438916\n",
      "[112]\tvalid_0's binary_logloss: 0.438871\n",
      "[113]\tvalid_0's binary_logloss: 0.438773\n",
      "[114]\tvalid_0's binary_logloss: 0.438557\n",
      "[115]\tvalid_0's binary_logloss: 0.43854\n",
      "[116]\tvalid_0's binary_logloss: 0.438322\n",
      "[117]\tvalid_0's binary_logloss: 0.43809\n",
      "[118]\tvalid_0's binary_logloss: 0.438004\n",
      "[119]\tvalid_0's binary_logloss: 0.437837\n",
      "[120]\tvalid_0's binary_logloss: 0.437811\n",
      "[121]\tvalid_0's binary_logloss: 0.437619\n",
      "[122]\tvalid_0's binary_logloss: 0.437371\n",
      "[123]\tvalid_0's binary_logloss: 0.437201\n",
      "[124]\tvalid_0's binary_logloss: 0.437\n",
      "[125]\tvalid_0's binary_logloss: 0.436902\n",
      "[126]\tvalid_0's binary_logloss: 0.436797\n",
      "[127]\tvalid_0's binary_logloss: 0.436734\n",
      "[128]\tvalid_0's binary_logloss: 0.436759\n",
      "[129]\tvalid_0's binary_logloss: 0.436776\n",
      "[130]\tvalid_0's binary_logloss: 0.436795\n",
      "[131]\tvalid_0's binary_logloss: 0.436702\n",
      "[132]\tvalid_0's binary_logloss: 0.436647\n",
      "[133]\tvalid_0's binary_logloss: 0.436605\n",
      "[134]\tvalid_0's binary_logloss: 0.436718\n",
      "[135]\tvalid_0's binary_logloss: 0.436654\n",
      "[136]\tvalid_0's binary_logloss: 0.436599\n",
      "[137]\tvalid_0's binary_logloss: 0.436484\n",
      "[138]\tvalid_0's binary_logloss: 0.436545\n",
      "[139]\tvalid_0's binary_logloss: 0.436583\n",
      "[140]\tvalid_0's binary_logloss: 0.436583\n",
      "[141]\tvalid_0's binary_logloss: 0.436584\n",
      "[142]\tvalid_0's binary_logloss: 0.436598\n",
      "[143]\tvalid_0's binary_logloss: 0.436605\n",
      "[144]\tvalid_0's binary_logloss: 0.436653\n",
      "[145]\tvalid_0's binary_logloss: 0.436678\n",
      "[146]\tvalid_0's binary_logloss: 0.436756\n",
      "[147]\tvalid_0's binary_logloss: 0.436827\n",
      "[148]\tvalid_0's binary_logloss: 0.436657\n",
      "[149]\tvalid_0's binary_logloss: 0.436715\n",
      "[150]\tvalid_0's binary_logloss: 0.436654\n",
      "[151]\tvalid_0's binary_logloss: 0.436606\n",
      "[152]\tvalid_0's binary_logloss: 0.436546\n",
      "[153]\tvalid_0's binary_logloss: 0.436585\n",
      "[154]\tvalid_0's binary_logloss: 0.436513\n",
      "[155]\tvalid_0's binary_logloss: 0.436342\n",
      "[156]\tvalid_0's binary_logloss: 0.436236\n",
      "[157]\tvalid_0's binary_logloss: 0.436337\n",
      "[158]\tvalid_0's binary_logloss: 0.436334\n",
      "[159]\tvalid_0's binary_logloss: 0.436249\n",
      "[160]\tvalid_0's binary_logloss: 0.436213\n",
      "[161]\tvalid_0's binary_logloss: 0.436166\n",
      "[162]\tvalid_0's binary_logloss: 0.436294\n",
      "[163]\tvalid_0's binary_logloss: 0.43623\n",
      "[164]\tvalid_0's binary_logloss: 0.436181\n",
      "[165]\tvalid_0's binary_logloss: 0.436151\n",
      "[166]\tvalid_0's binary_logloss: 0.43617\n",
      "[167]\tvalid_0's binary_logloss: 0.436144\n",
      "[168]\tvalid_0's binary_logloss: 0.436146\n",
      "[169]\tvalid_0's binary_logloss: 0.436169\n",
      "[170]\tvalid_0's binary_logloss: 0.436109\n",
      "[171]\tvalid_0's binary_logloss: 0.436181\n",
      "[172]\tvalid_0's binary_logloss: 0.436274\n",
      "[173]\tvalid_0's binary_logloss: 0.436324\n",
      "[174]\tvalid_0's binary_logloss: 0.436361\n",
      "[175]\tvalid_0's binary_logloss: 0.436281\n",
      "[176]\tvalid_0's binary_logloss: 0.436365\n",
      "[177]\tvalid_0's binary_logloss: 0.436227\n",
      "[178]\tvalid_0's binary_logloss: 0.436317\n",
      "[179]\tvalid_0's binary_logloss: 0.436424\n",
      "[180]\tvalid_0's binary_logloss: 0.436432\n",
      "[181]\tvalid_0's binary_logloss: 0.436449\n",
      "[182]\tvalid_0's binary_logloss: 0.436491\n",
      "[183]\tvalid_0's binary_logloss: 0.43646\n",
      "[184]\tvalid_0's binary_logloss: 0.436525\n",
      "[185]\tvalid_0's binary_logloss: 0.436614\n",
      "[186]\tvalid_0's binary_logloss: 0.436639\n",
      "[187]\tvalid_0's binary_logloss: 0.436731\n",
      "[188]\tvalid_0's binary_logloss: 0.436608\n",
      "[189]\tvalid_0's binary_logloss: 0.436606\n",
      "[190]\tvalid_0's binary_logloss: 0.436735\n",
      "[191]\tvalid_0's binary_logloss: 0.436899\n",
      "[192]\tvalid_0's binary_logloss: 0.436981\n",
      "[193]\tvalid_0's binary_logloss: 0.437071\n",
      "[194]\tvalid_0's binary_logloss: 0.437081\n",
      "[195]\tvalid_0's binary_logloss: 0.437115\n",
      "[196]\tvalid_0's binary_logloss: 0.437102\n",
      "[197]\tvalid_0's binary_logloss: 0.437098\n",
      "[198]\tvalid_0's binary_logloss: 0.437153\n",
      "[199]\tvalid_0's binary_logloss: 0.43716\n",
      "[200]\tvalid_0's binary_logloss: 0.43716\n",
      "[201]\tvalid_0's binary_logloss: 0.437138\n",
      "[202]\tvalid_0's binary_logloss: 0.437157\n",
      "[203]\tvalid_0's binary_logloss: 0.437234\n",
      "[204]\tvalid_0's binary_logloss: 0.437263\n",
      "[205]\tvalid_0's binary_logloss: 0.437282\n",
      "[206]\tvalid_0's binary_logloss: 0.437203\n",
      "[207]\tvalid_0's binary_logloss: 0.437197\n",
      "[208]\tvalid_0's binary_logloss: 0.437138\n",
      "[209]\tvalid_0's binary_logloss: 0.437085\n",
      "[210]\tvalid_0's binary_logloss: 0.43708\n",
      "[211]\tvalid_0's binary_logloss: 0.437023\n",
      "[212]\tvalid_0's binary_logloss: 0.437028\n",
      "[213]\tvalid_0's binary_logloss: 0.437116\n",
      "[214]\tvalid_0's binary_logloss: 0.437111\n",
      "[215]\tvalid_0's binary_logloss: 0.437112\n",
      "[216]\tvalid_0's binary_logloss: 0.4373\n",
      "[217]\tvalid_0's binary_logloss: 0.437316\n",
      "[218]\tvalid_0's binary_logloss: 0.437431\n",
      "[219]\tvalid_0's binary_logloss: 0.43753\n",
      "[220]\tvalid_0's binary_logloss: 0.437572\n",
      "[221]\tvalid_0's binary_logloss: 0.437559\n",
      "[222]\tvalid_0's binary_logloss: 0.437591\n",
      "[223]\tvalid_0's binary_logloss: 0.437608\n",
      "[224]\tvalid_0's binary_logloss: 0.437637\n",
      "[225]\tvalid_0's binary_logloss: 0.437616\n",
      "[226]\tvalid_0's binary_logloss: 0.437553\n",
      "[227]\tvalid_0's binary_logloss: 0.437444\n",
      "[228]\tvalid_0's binary_logloss: 0.437417\n",
      "[229]\tvalid_0's binary_logloss: 0.437491\n",
      "[230]\tvalid_0's binary_logloss: 0.437466\n",
      "[231]\tvalid_0's binary_logloss: 0.437575\n",
      "[232]\tvalid_0's binary_logloss: 0.437742\n",
      "[233]\tvalid_0's binary_logloss: 0.437804\n",
      "[234]\tvalid_0's binary_logloss: 0.437932\n",
      "[235]\tvalid_0's binary_logloss: 0.437923\n",
      "[236]\tvalid_0's binary_logloss: 0.437922\n",
      "[237]\tvalid_0's binary_logloss: 0.437976\n",
      "[238]\tvalid_0's binary_logloss: 0.438028\n",
      "[239]\tvalid_0's binary_logloss: 0.438084\n",
      "[240]\tvalid_0's binary_logloss: 0.43807\n",
      "[241]\tvalid_0's binary_logloss: 0.438145\n",
      "[242]\tvalid_0's binary_logloss: 0.438306\n",
      "[243]\tvalid_0's binary_logloss: 0.438386\n",
      "[244]\tvalid_0's binary_logloss: 0.43849\n",
      "[245]\tvalid_0's binary_logloss: 0.438627\n",
      "[246]\tvalid_0's binary_logloss: 0.438622\n",
      "[247]\tvalid_0's binary_logloss: 0.438535\n",
      "[248]\tvalid_0's binary_logloss: 0.438513\n",
      "[249]\tvalid_0's binary_logloss: 0.438503\n",
      "[250]\tvalid_0's binary_logloss: 0.438482\n",
      "[251]\tvalid_0's binary_logloss: 0.438543\n",
      "[252]\tvalid_0's binary_logloss: 0.438653\n",
      "[253]\tvalid_0's binary_logloss: 0.438779\n",
      "[254]\tvalid_0's binary_logloss: 0.438812\n",
      "[255]\tvalid_0's binary_logloss: 0.43876\n",
      "[256]\tvalid_0's binary_logloss: 0.438841\n",
      "[257]\tvalid_0's binary_logloss: 0.438951\n",
      "[258]\tvalid_0's binary_logloss: 0.438812\n",
      "[259]\tvalid_0's binary_logloss: 0.438917\n",
      "[260]\tvalid_0's binary_logloss: 0.43905\n",
      "[261]\tvalid_0's binary_logloss: 0.439025\n",
      "[262]\tvalid_0's binary_logloss: 0.439009\n",
      "[263]\tvalid_0's binary_logloss: 0.438988\n",
      "[264]\tvalid_0's binary_logloss: 0.43895\n",
      "[265]\tvalid_0's binary_logloss: 0.438963\n",
      "[266]\tvalid_0's binary_logloss: 0.438999\n",
      "[267]\tvalid_0's binary_logloss: 0.439024\n",
      "[268]\tvalid_0's binary_logloss: 0.439037\n",
      "[269]\tvalid_0's binary_logloss: 0.43914\n",
      "[270]\tvalid_0's binary_logloss: 0.439216\n",
      "[271]\tvalid_0's binary_logloss: 0.439342\n",
      "[272]\tvalid_0's binary_logloss: 0.43937\n",
      "[273]\tvalid_0's binary_logloss: 0.439533\n",
      "[274]\tvalid_0's binary_logloss: 0.439506\n",
      "[275]\tvalid_0's binary_logloss: 0.439643\n",
      "[276]\tvalid_0's binary_logloss: 0.439723\n",
      "[277]\tvalid_0's binary_logloss: 0.439811\n",
      "[278]\tvalid_0's binary_logloss: 0.439758\n",
      "[279]\tvalid_0's binary_logloss: 0.439871\n",
      "[280]\tvalid_0's binary_logloss: 0.439972\n",
      "[281]\tvalid_0's binary_logloss: 0.440005\n",
      "[282]\tvalid_0's binary_logloss: 0.44009\n",
      "[283]\tvalid_0's binary_logloss: 0.440215\n",
      "[284]\tvalid_0's binary_logloss: 0.440246\n",
      "[285]\tvalid_0's binary_logloss: 0.440368\n",
      "[286]\tvalid_0's binary_logloss: 0.440461\n",
      "[287]\tvalid_0's binary_logloss: 0.440529\n",
      "[288]\tvalid_0's binary_logloss: 0.440631\n",
      "[289]\tvalid_0's binary_logloss: 0.440735\n",
      "[290]\tvalid_0's binary_logloss: 0.440848\n",
      "[291]\tvalid_0's binary_logloss: 0.440782\n",
      "[292]\tvalid_0's binary_logloss: 0.440744\n",
      "[293]\tvalid_0's binary_logloss: 0.440685\n",
      "[294]\tvalid_0's binary_logloss: 0.440506\n",
      "[295]\tvalid_0's binary_logloss: 0.440521\n",
      "[296]\tvalid_0's binary_logloss: 0.440399\n",
      "[297]\tvalid_0's binary_logloss: 0.440416\n",
      "[298]\tvalid_0's binary_logloss: 0.440558\n",
      "[299]\tvalid_0's binary_logloss: 0.440585\n",
      "[300]\tvalid_0's binary_logloss: 0.440713\n",
      "[301]\tvalid_0's binary_logloss: 0.440664\n",
      "[302]\tvalid_0's binary_logloss: 0.440732\n",
      "[303]\tvalid_0's binary_logloss: 0.440712\n",
      "[304]\tvalid_0's binary_logloss: 0.440696\n",
      "[305]\tvalid_0's binary_logloss: 0.440627\n",
      "[306]\tvalid_0's binary_logloss: 0.440558\n",
      "[307]\tvalid_0's binary_logloss: 0.440531\n",
      "[308]\tvalid_0's binary_logloss: 0.440604\n",
      "[309]\tvalid_0's binary_logloss: 0.44066\n",
      "[310]\tvalid_0's binary_logloss: 0.440714\n",
      "[311]\tvalid_0's binary_logloss: 0.440735\n",
      "[312]\tvalid_0's binary_logloss: 0.440804\n",
      "[313]\tvalid_0's binary_logloss: 0.440819\n",
      "[314]\tvalid_0's binary_logloss: 0.440772\n",
      "[315]\tvalid_0's binary_logloss: 0.440819\n",
      "[316]\tvalid_0's binary_logloss: 0.44086\n",
      "[317]\tvalid_0's binary_logloss: 0.440946\n",
      "[318]\tvalid_0's binary_logloss: 0.441067\n",
      "[319]\tvalid_0's binary_logloss: 0.441082\n",
      "[320]\tvalid_0's binary_logloss: 0.441243\n",
      "[321]\tvalid_0's binary_logloss: 0.441221\n",
      "[322]\tvalid_0's binary_logloss: 0.441241\n",
      "[323]\tvalid_0's binary_logloss: 0.441293\n",
      "[324]\tvalid_0's binary_logloss: 0.441273\n",
      "[325]\tvalid_0's binary_logloss: 0.441252\n",
      "[326]\tvalid_0's binary_logloss: 0.441279\n",
      "[327]\tvalid_0's binary_logloss: 0.441296\n",
      "[328]\tvalid_0's binary_logloss: 0.441296\n",
      "[329]\tvalid_0's binary_logloss: 0.441326\n",
      "[330]\tvalid_0's binary_logloss: 0.441359\n",
      "[331]\tvalid_0's binary_logloss: 0.441369\n",
      "[332]\tvalid_0's binary_logloss: 0.441333\n",
      "[333]\tvalid_0's binary_logloss: 0.441369\n",
      "[334]\tvalid_0's binary_logloss: 0.441358\n",
      "[335]\tvalid_0's binary_logloss: 0.441378\n",
      "[336]\tvalid_0's binary_logloss: 0.441374\n",
      "[337]\tvalid_0's binary_logloss: 0.441489\n",
      "[338]\tvalid_0's binary_logloss: 0.441475\n",
      "[339]\tvalid_0's binary_logloss: 0.441581\n",
      "[340]\tvalid_0's binary_logloss: 0.441548\n",
      "[341]\tvalid_0's binary_logloss: 0.441562\n",
      "[342]\tvalid_0's binary_logloss: 0.441658\n",
      "[343]\tvalid_0's binary_logloss: 0.441615\n",
      "[344]\tvalid_0's binary_logloss: 0.441636\n",
      "[345]\tvalid_0's binary_logloss: 0.441622\n",
      "[346]\tvalid_0's binary_logloss: 0.44167\n",
      "[347]\tvalid_0's binary_logloss: 0.44175\n",
      "[348]\tvalid_0's binary_logloss: 0.441879\n",
      "[349]\tvalid_0's binary_logloss: 0.441946\n",
      "[350]\tvalid_0's binary_logloss: 0.442054\n",
      "[351]\tvalid_0's binary_logloss: 0.442062\n",
      "[352]\tvalid_0's binary_logloss: 0.442108\n",
      "[353]\tvalid_0's binary_logloss: 0.442106\n",
      "[354]\tvalid_0's binary_logloss: 0.442115\n",
      "[355]\tvalid_0's binary_logloss: 0.442102\n",
      "[356]\tvalid_0's binary_logloss: 0.442111\n",
      "[357]\tvalid_0's binary_logloss: 0.44216\n",
      "[358]\tvalid_0's binary_logloss: 0.442161\n",
      "[359]\tvalid_0's binary_logloss: 0.44215\n",
      "[360]\tvalid_0's binary_logloss: 0.442172\n",
      "[361]\tvalid_0's binary_logloss: 0.442238\n",
      "[362]\tvalid_0's binary_logloss: 0.442326\n",
      "[363]\tvalid_0's binary_logloss: 0.442413\n",
      "[364]\tvalid_0's binary_logloss: 0.442515\n",
      "[365]\tvalid_0's binary_logloss: 0.442603\n",
      "[366]\tvalid_0's binary_logloss: 0.442597\n",
      "[367]\tvalid_0's binary_logloss: 0.442503\n",
      "[368]\tvalid_0's binary_logloss: 0.442502\n",
      "[369]\tvalid_0's binary_logloss: 0.442467\n",
      "[370]\tvalid_0's binary_logloss: 0.442464\n",
      "Early stopping, best iteration is:\n",
      "[170]\tvalid_0's binary_logloss: 0.436109\n"
     ]
    }
   ],
   "source": [
    "# ターゲットと特徴量に分離\n",
    "train_x = train_df.drop(['customerID','Churn'], axis=1)\n",
    "train_y = train_df['Churn']\n",
    "test_x = test_df.drop(['customerID','Churn'], axis=1)\n",
    "test_y = test_df['Churn']\n",
    "\n",
    "# EarlyStopping用にさらにデータを分割する\n",
    "train_x_, val_x, train_y_, val_y = train_test_split(train_x, train_y, train_size=0.8, random_state=888, shuffle=True)\n",
    "\n",
    "# 学習用のデータ\n",
    "dtrain = lgb.Dataset(data=train_x_, label=train_y_)\n",
    "# EarlyStoppingのためのデータ\n",
    "dval = lgb.Dataset(data=val_x, label=val_y, reference=dtrain)\n",
    "\n",
    "# ハイパーパラメータ設定\n",
    "params = {\n",
    "    'objective': 'binary',\n",
    "    'metric': 'binary_logloss',\n",
    "    'boosting_type': 'gbdt',\n",
    "    'learning_rate': 0.02,\n",
    "    'max_depth': 8,\n",
    "    'num_leaves': 15,\n",
    "    'bagging_freq': 5,\n",
    "    'bagging_fraction': 0.8,\n",
    "    'feature_fraction': 0.8,\n",
    "    'random_state': 777,\n",
    "    'min_data_in_leaf': 1,\n",
    "    'min_sum_hessian_in_leaf': 1e-3,\n",
    "    'lambda_l1': 0,\n",
    "    'lambda_l2': 0,\n",
    "    'verbose': -1\n",
    "}\n",
    "\n",
    "# モデルの学習実行\n",
    "model = lgb.train(\n",
    "    params, dtrain, num_boost_round=9999, valid_sets=dval, early_stopping_rounds=200\n",
    ")"
   ]
  },
  {
   "cell_type": "code",
   "execution_count": 8,
   "metadata": {},
   "outputs": [
    {
     "name": "stdout",
     "output_type": "stream",
     "text": [
      "validation_score(AUC): 0.8307140116390612\n"
     ]
    }
   ],
   "source": [
    "# EarlyStoppingでトレーニングを打ちとめた時点でのAUCを計算\n",
    "from sklearn.metrics import roc_auc_score\n",
    "\n",
    "val_pred = model.predict(val_x)\n",
    "print('validation_score(AUC):', roc_auc_score(y_true=val_y, y_score=val_pred))"
   ]
  },
  {
   "cell_type": "code",
   "execution_count": 9,
   "metadata": {},
   "outputs": [
    {
     "name": "stdout",
     "output_type": "stream",
     "text": [
      "test_score(AUC): 0.8479112536023785\n"
     ]
    }
   ],
   "source": [
    "# テスト用データでのAUCを計算\n",
    "test_pred = model.predict(test_x)\n",
    "\n",
    "print('test_score(AUC):', roc_auc_score(y_true=test_y, y_score=test_pred))"
   ]
  },
  {
   "cell_type": "code",
   "execution_count": 48,
   "metadata": {},
   "outputs": [
    {
     "data": {
      "text/plain": [
       "{'ManuallySelected': {'model': 'LightGBM',\n",
       "  'validation_score(AUC)': 0.8311496770480271,\n",
       "  'test_score(AUC)': 0.848412674294339}}"
      ]
     },
     "execution_count": 48,
     "metadata": {},
     "output_type": "execute_result"
    }
   ],
   "source": [
    "# 結果を格納しておく\n",
    "results = {}\n",
    "\n",
    "result = {\n",
    "    'model': 'LightGBM',\n",
    "    'validation_score(AUC)': roc_auc_score(y_true=val_y, y_score=val_pred),\n",
    "    'test_score(AUC)': roc_auc_score(y_true=test_y, y_score=test_pred)\n",
    "}\n",
    "results['ManuallySelected'] = result\n",
    "\n",
    "results"
   ]
  },
  {
   "cell_type": "code",
   "execution_count": 20,
   "metadata": {},
   "outputs": [],
   "source": [
    "# テスト用のデータを出力しておく\n",
    "test_x.to_csv(os.path.join(input_path, 'test_x.csv'), encoding='utf-8', index=False)\n",
    "test_y.to_csv(os.path.join(input_path, 'test_y.csv'), encoding='utf-8', index=False)"
   ]
  },
  {
   "cell_type": "markdown",
   "metadata": {},
   "source": [
    "## GridSearch"
   ]
  },
  {
   "cell_type": "markdown",
   "metadata": {},
   "source": [
    "GridSearchでLightGBMのハイパーパラメータをチューニングする  \n",
    "チューニング対象は以下の通り  \n",
    "- num_leaves\n",
    "- bagging_fraction\n",
    "- feature_fraction\n",
    "- lambda_l1\n",
    "- lambda_l2"
   ]
  },
  {
   "cell_type": "code",
   "execution_count": 14,
   "metadata": {},
   "outputs": [],
   "source": [
    "# グリッドサーチで使用するライブラリを読み込む\n",
    "from sklearn.model_selection import GridSearchCV"
   ]
  },
  {
   "cell_type": "code",
   "execution_count": 69,
   "metadata": {
    "tags": []
   },
   "outputs": [
    {
     "data": {
      "text/plain": [
       "GridSearchCV(cv=3,\n",
       "             estimator=LGBMClassifier(force_col_wise=True,\n",
       "                                      importance_type='gain',\n",
       "                                      learning_rate=0.02, min_child_samples=1,\n",
       "                                      n_estimators=2000, random_state=777,\n",
       "                                      subsample_freq=5, verbose=0),\n",
       "             param_grid={'colsample_bytree': [0.7, 0.9], 'num_leaves': [7, 15],\n",
       "                         'reg_alpha': [0, 0.1], 'reg_lambda': [0, 0.1],\n",
       "                         'subsample': [0.7, 0.9]},\n",
       "             scoring='neg_log_loss')"
      ]
     },
     "execution_count": 69,
     "metadata": {},
     "output_type": "execute_result"
    }
   ],
   "source": [
    "# GridSearchで探索するハイパーパラメータ空間を定義\n",
    "# キーにハイパーパラメータ名、バリューに探索候補の値のリストを指定した辞書で探索空間を定義します\n",
    "# 今回は2つのハイパーパラメータについて、それぞれ候補の値を2つ指定しているので、2**5=32通りの組み合わせを虱潰しに探索します\n",
    "# リストの中に記載している値を書き換えたり、候補を3つ、4つと増やして探索時間と探索結果がどう変わるか試してみてください\n",
    "# なお、ハイパーパラメータの候補値を選ぶ際は公式ドキュメントを参考にしてください\n",
    "# https://lightgbm.readthedocs.io/en/latest/pythonapi/lightgbm.LGBMClassifier.html\n",
    "search_params = {\n",
    "    'num_leaves': [7, 15],\n",
    "    'subsample': [0.7, 0.9], # bagging_fractionのエイリアス\n",
    "    'colsample_bytree': [0.7, 0.9], # feature_fractionのエイリアス\n",
    "    'reg_alpha': [0, 0.1], # lambda_l1のエイリアス\n",
    "    'reg_lambda': [0, 0.1] # lambda_l2のエイリアス\n",
    "}\n",
    "\n",
    "# scikit-learnを使ってGridSearchを実施するため、LightGBMのオリジナルAPIではなく、sklearnのラッパーAPIを使用する\n",
    "clf = lgb.LGBMClassifier(max_depth=-1, random_state=777, n_estimators=2000, verbose=0,\n",
    "                        boosting_type='gbdt', importance_type='gain', learning_rate=0.02,\n",
    "                        min_child_samples=1, force_col_wise=True, subsample_freq=5)\n",
    "\n",
    "gs = GridSearchCV(estimator=clf, param_grid=search_params, scoring='neg_log_loss', cv=3, verbose=0)\n",
    "\n",
    "gs.fit(train_x_, train_y_)"
   ]
  },
  {
   "cell_type": "code",
   "execution_count": 114,
   "metadata": {},
   "outputs": [
    {
     "data": {
      "text/plain": [
       "{'colsample_bytree': 0.7,\n",
       " 'num_leaves': 7,\n",
       " 'reg_alpha': 0.1,\n",
       " 'reg_lambda': 0.1,\n",
       " 'subsample': 0.9}"
      ]
     },
     "execution_count": 114,
     "metadata": {},
     "output_type": "execute_result"
    }
   ],
   "source": [
    "# GridSearchで探索した最良のハイパーパラメータの組み合わせ\n",
    "best_params = gs.best_params_\n",
    "best_params"
   ]
  },
  {
   "cell_type": "code",
   "execution_count": null,
   "metadata": {
    "tags": []
   },
   "outputs": [],
   "source": [
    "# GridSearchの結果を使用してモデルをトレーニング\n",
    "gs_model = lgb.LGBMClassifier(max_depth=-1, random_state=777, n_estimators=9999, verbose=0,\n",
    "                        boosting_type='gbdt', importance_type='gain', learning_rate=0.02,\n",
    "                        min_child_samples=1, force_col_wise=True, subsample_freq=5, **best_params)\n",
    "\n",
    "gs_model.fit(train_x_, train_y_, early_stopping_rounds=200, eval_metric='logloss', eval_set=[(val_x, val_y)])"
   ]
  },
  {
   "cell_type": "code",
   "execution_count": 116,
   "metadata": {
    "tags": []
   },
   "outputs": [
    {
     "name": "stdout",
     "output_type": "stream",
     "text": [
      "validation_score(AUC): 0.6989671931956257\n"
     ]
    }
   ],
   "source": [
    "# EarlyStoppingでトレーニングを打ちとめた時点でのAUCを計算\n",
    "from sklearn.metrics import roc_auc_score\n",
    "\n",
    "val_pred_gs = gs_model.predict(val_x)\n",
    "print('validation_score(AUC):', roc_auc_score(y_true=val_y, y_score=val_pred_gs))"
   ]
  },
  {
   "cell_type": "code",
   "execution_count": 117,
   "metadata": {},
   "outputs": [
    {
     "name": "stdout",
     "output_type": "stream",
     "text": [
      "test_score(AUC): 0.7127581176971116\n"
     ]
    }
   ],
   "source": [
    "# テスト用データでのAUCを計算\n",
    "test_pred_gs = gs_model.predict(test_x)\n",
    "\n",
    "print('test_score(AUC):', roc_auc_score(y_true=test_y, y_score=test_pred_gs))"
   ]
  },
  {
   "cell_type": "code",
   "execution_count": 89,
   "metadata": {},
   "outputs": [
    {
     "data": {
      "text/plain": [
       "{'ManuallySelected': {'model': 'LightGBM',\n",
       "  'validation_score(AUC)': 0.8311496770480271,\n",
       "  'test_score(AUC)': 0.848412674294339},\n",
       " 'GridSearch': {'model': 'LightGBM',\n",
       "  'validation_score(AUC)': 0.6989671931956257,\n",
       "  'test_score(AUC)': 0.7127581176971116}}"
      ]
     },
     "execution_count": 89,
     "metadata": {},
     "output_type": "execute_result"
    }
   ],
   "source": [
    "# 結果を格納しておく\n",
    "\n",
    "result = {\n",
    "    'model': 'LightGBM',\n",
    "    'validation_score(AUC)': roc_auc_score(y_true=val_y, y_score=val_pred_gs),\n",
    "    'test_score(AUC)': roc_auc_score(y_true=test_y, y_score=test_pred_gs)\n",
    "}\n",
    "results['GridSearch'] = result\n",
    "\n",
    "results"
   ]
  },
  {
   "cell_type": "markdown",
   "metadata": {
    "tags": []
   },
   "source": [
    "## RandomSearch"
   ]
  },
  {
   "cell_type": "markdown",
   "metadata": {},
   "source": [
    "RandomSearchでLightGBMのハイパーパラメータをチューニングする  \n",
    "チューニング対象は以下の通り  \n",
    "- num_leaves\n",
    "- bagging_fraction\n",
    "- feature_fraction\n",
    "- lambda_l1\n",
    "- lambda_l2"
   ]
  },
  {
   "cell_type": "code",
   "execution_count": 77,
   "metadata": {
    "tags": []
   },
   "outputs": [],
   "source": [
    "# ランダムサーチで使用するライブラリを読み込み\n",
    "from sklearn.model_selection import RandomizedSearchCV\n",
    "import scipy as sp"
   ]
  },
  {
   "cell_type": "code",
   "execution_count": null,
   "metadata": {
    "tags": []
   },
   "outputs": [],
   "source": [
    "# RandomSearchで探索するハイパーパラメータ空間を定義\n",
    "# GridSearch同様に辞書で探索空間を定義します\n",
    "# GridSearchでは具体的な候補値をリストで指定していました\n",
    "# RandomSearchでも具体的な候補値をリストで指定することができます\n",
    "# それに加えてscipyで確率分布を生成するstatsクラスを指定することができます\n",
    "# https://docs.scipy.org/doc/scipy/reference/stats.html\n",
    "# 探索空間を書き換えて、探索結果がどうなるか試してみてください\n",
    "search_params = {\n",
    "    'num_leaves': sp.stats.randint(6, 15),\n",
    "    'subsample': sp.stats.uniform(loc=0.4, scale=0.5), # bagging_fractionのエイリアス\n",
    "    'colsample_bytree': sp.stats.uniform(loc=0.4, scale=0.5), # feature_fractionのエイリアス\n",
    "    'reg_alpha': sp.stats.uniform(loc=0, scale=1), # lambda_l1のエイリアス\n",
    "    'reg_lambda': sp.stats.uniform(loc=0, scale=1) # lambda_l2のエイリアス\n",
    "}\n",
    "\n",
    "# scikit-learnを使ってRandomSearchを実施するため、LightGBMのオリジナルAPIではなく、sklearnのラッパーAPIを使用する\n",
    "clf = lgb.LGBMClassifier(max_depth=-1, random_state=777, n_estimators=2000, verbose=0,\n",
    "                        boosting_type='gbdt', importance_type='gain', learning_rate=0.02,\n",
    "                        min_child_samples=1, force_col_wise=True, subsample_freq=5)\n",
    "\n",
    "# RandamSearchを実行します\n",
    "# param_distribution引数に渡された探索空間の中からn_iter引数に渡された回数だけランダムにハイパーパラメータの組み合わせをピックアップしています\n",
    "# n_iterの値を書き換えて、探索時間と探索結果がどうなるか試してみてください\n",
    "rs = RandomizedSearchCV(estimator=clf, param_distributions=search_params, n_iter=32, scoring='neg_log_loss', cv=3, verbose=0)\n",
    "\n",
    "rs.fit(train_x, train_y)"
   ]
  },
  {
   "cell_type": "code",
   "execution_count": 93,
   "metadata": {},
   "outputs": [
    {
     "data": {
      "text/plain": [
       "{'colsample_bytree': 0.5174751806969153,\n",
       " 'num_leaves': 7,\n",
       " 'reg_alpha': 0.920198479937528,\n",
       " 'reg_lambda': 0.4169366515580416,\n",
       " 'subsample': 0.7994821470272152}"
      ]
     },
     "execution_count": 93,
     "metadata": {},
     "output_type": "execute_result"
    }
   ],
   "source": [
    "# RandomSearchで探索した最良のハイパーパラメータの組み合わせ\n",
    "best_params = rs.best_params_\n",
    "best_params"
   ]
  },
  {
   "cell_type": "code",
   "execution_count": null,
   "metadata": {
    "tags": []
   },
   "outputs": [],
   "source": [
    "# RandomSearchの結果を使用してモデルをトレーニング\n",
    "rs_model = lgb.LGBMClassifier(max_depth=-1, random_state=777, n_estimators=9999, verbose=0,\n",
    "                        boosting_type='gbdt', importance_type='gain', learning_rate=0.02,\n",
    "                        min_child_samples=1, force_col_wise=True, subsample_freq=5, **best_params)\n",
    "\n",
    "rs_model.fit(train_x_, train_y_, early_stopping_rounds=200, eval_metric='logloss', eval_set=[(val_x, val_y)])"
   ]
  },
  {
   "cell_type": "code",
   "execution_count": 95,
   "metadata": {
    "tags": []
   },
   "outputs": [
    {
     "name": "stdout",
     "output_type": "stream",
     "text": [
      "validation_score(AUC): 0.7014712700645903\n"
     ]
    }
   ],
   "source": [
    "# EarlyStoppingでトレーニングを打ちとめた時点でのAUCを計算\n",
    "from sklearn.metrics import roc_auc_score\n",
    "\n",
    "val_pred_rs = rs_model.predict(val_x)\n",
    "print('validation_score(AUC):', roc_auc_score(y_true=val_y, y_score=val_pred_rs))"
   ]
  },
  {
   "cell_type": "code",
   "execution_count": 96,
   "metadata": {},
   "outputs": [
    {
     "name": "stdout",
     "output_type": "stream",
     "text": [
      "test_score(AUC): 0.7104852638029974\n"
     ]
    }
   ],
   "source": [
    "# テスト用データのAUCを計算\n",
    "test_pred_rs = rs_model.predict(test_x)\n",
    "\n",
    "print('test_score(AUC):', roc_auc_score(y_true=test_y, y_score=test_pred_rs))"
   ]
  },
  {
   "cell_type": "code",
   "execution_count": 97,
   "metadata": {},
   "outputs": [
    {
     "data": {
      "text/plain": [
       "{'ManuallySelected': {'model': 'LightGBM',\n",
       "  'validation_score(AUC)': 0.8311496770480271,\n",
       "  'test_score(AUC)': 0.848412674294339},\n",
       " 'GridSearch': {'model': 'LightGBM',\n",
       "  'validation_score(AUC)': 0.6989671931956257,\n",
       "  'test_score(AUC)': 0.7127581176971116},\n",
       " 'RandomSearch': {'model': 'LightGBM',\n",
       "  'validation_score(AUC)': 0.7014712700645903,\n",
       "  'test_score(AUC)': 0.7104852638029974}}"
      ]
     },
     "execution_count": 97,
     "metadata": {},
     "output_type": "execute_result"
    }
   ],
   "source": [
    "# 結果を格納しておく\n",
    "\n",
    "result = {\n",
    "    'model': 'LightGBM',\n",
    "    'validation_score(AUC)': roc_auc_score(y_true=val_y, y_score=val_pred_rs),\n",
    "    'test_score(AUC)': roc_auc_score(y_true=test_y, y_score=test_pred_rs)\n",
    "}\n",
    "results['RandomSearch'] = result\n",
    "\n",
    "results"
   ]
  },
  {
   "cell_type": "markdown",
   "metadata": {
    "tags": []
   },
   "source": [
    "## Optuna"
   ]
  },
  {
   "cell_type": "markdown",
   "metadata": {},
   "source": [
    "OptunaでLightGBMのハイパーパラメータをチューニングする  \n",
    "チューニング対象は以下の通り  \n",
    "- num_leaves\n",
    "- bagging_fraction\n",
    "- feature_fraction\n",
    "- lambda_l1\n",
    "- lambda_l2"
   ]
  },
  {
   "cell_type": "code",
   "execution_count": 98,
   "metadata": {},
   "outputs": [],
   "source": [
    "# Optunaライブラリを使用してベイズ最適化を実行する\n",
    "import optuna"
   ]
  },
  {
   "cell_type": "code",
   "execution_count": 99,
   "metadata": {},
   "outputs": [],
   "source": [
    "# 目的関数の定義\n",
    "# trialクラスを引数としてを最適化したい変数を返すobjective()関数として、目的関数を定義する\n",
    "# 細かな使い方は公式ドキュメントを参照\n",
    "# https://optuna.readthedocs.io/en/stable/tutorial/index.html\n",
    "def objective(trial):\n",
    "    train_x_, val_x, train_y_, val_y = train_test_split(train_x, train_y, train_size=0.8, random_state=888, shuffle=True)\n",
    "\n",
    "    dtrain = lgb.Dataset(data=train_x_, label=train_y_)\n",
    "    dval = lgb.Dataset(data=val_x, label=val_y, reference=dtrain)\n",
    "\n",
    "    # Optunaでも探索空間は辞書で定義する\n",
    "    # 探索不要なハイパーパラメータは固定値を指定する\n",
    "    # 探索したいハイパーパラメータにはOptuna自身が持つtrialクラスの中から候補としたいデータ型のメソッドを選んで指定する\n",
    "    # https://optuna.readthedocs.io/en/stable/reference/generated/optuna.trial.Trial.html\n",
    "    # 探索空間を変更して探索時間や探索結果がどう変わるか試してみてください\n",
    "    params = {\n",
    "        'objective': 'binary',\n",
    "        'metric': 'binary_logloss',\n",
    "        'boosting_type': 'gbdt',\n",
    "        'max_depth': -1,\n",
    "        'learning_rate': 0.02,\n",
    "        'num_leaves': trial.suggest_int('num_leaves',6, 15),\n",
    "        'bagging_freq': 5,\n",
    "        'bagging_fraction': trial.suggest_loguniform('bagging_fraction', 0.4, 1.0),\n",
    "        'feature_fraction': trial.suggest_loguniform('feature_fraction', 0.4, 1.0),\n",
    "        'random_state': 777,\n",
    "        'min_data_in_leaf': 1,\n",
    "        'lambda_l1': trial.suggest_loguniform('lambda_l1', 1e-3, 1.0),\n",
    "        'lambda_l2': trial.suggest_loguniform('lambda_l2', 1e-3, 1.0),\n",
    "        'verbose': -1\n",
    "    }\n",
    "\n",
    "    model = lgb.train(\n",
    "        params, dtrain, num_boost_round=9999, valid_sets=dval, early_stopping_rounds=200\n",
    "    )\n",
    "    \n",
    "    val_pred = model.predict(val_x)\n",
    "    \n",
    "    # 最適化したい対象の値をscore変数に格納して、score変数を返すよう関数を定義する\n",
    "    score = roc_auc_score(y_true=val_y, y_score=val_pred)\n",
    "    return score"
   ]
  },
  {
   "cell_type": "code",
   "execution_count": null,
   "metadata": {
    "tags": []
   },
   "outputs": [],
   "source": [
    "# studyクラスのインスタンスを初期化\n",
    "study = optuna.create_study()\n",
    "\n",
    "# 最適化処理実行\n",
    "# ベイズ最適化では勾配降下法のように繰り返し計算を行なって最適な値を探索しています\n",
    "# この時の最大繰り返し数をn_trials引数に指定します\n",
    "# timeout引数には制限時間を指定することができます\n",
    "# timeout引数に指定した制限時間に達すると、n_trials引数に指定した繰り返し回数が全部終わっていなかったとしても、その時点で最良な値を探索結果として返します\n",
    "# n_trials引数やtimeout引数に渡す値を書き換えて、探索時間や探索結果がどう変わるか試してみてください\n",
    "study.optimize(func=objective, n_trials=32, timeout=None, n_jobs=-1)"
   ]
  },
  {
   "cell_type": "code",
   "execution_count": 101,
   "metadata": {},
   "outputs": [
    {
     "data": {
      "text/plain": [
       "{'num_leaves': 6,\n",
       " 'bagging_fraction': 0.9759474929453683,\n",
       " 'feature_fraction': 0.5382475486628867,\n",
       " 'lambda_l1': 0.08115986968807415,\n",
       " 'lambda_l2': 0.05554908434047863}"
      ]
     },
     "execution_count": 101,
     "metadata": {},
     "output_type": "execute_result"
    }
   ],
   "source": [
    "# Optunaで探索した最良のハイパーパラメータの組み合わせ\n",
    "best_params = study.best_params\n",
    "best_params"
   ]
  },
  {
   "cell_type": "code",
   "execution_count": null,
   "metadata": {
    "collapsed": true,
    "jupyter": {
     "outputs_hidden": true
    },
    "tags": []
   },
   "outputs": [],
   "source": [
    "# Optunaの探索結果を使って再トレーニング\n",
    "params = {\n",
    "    'objective': 'binary',\n",
    "    'metric': 'binary_logloss',\n",
    "    'boosting_type': 'gbdt',\n",
    "    'max_depth': -1,\n",
    "    'learning_rate': 0.02,\n",
    "    #'num_leaves': trial.suggest_int('num_leaves',6, 15),\n",
    "    'bagging_freq': 5,\n",
    "    #'bagging_fraction': trial.suggest_loguniform('bagging_fraction', 0.4, 1.0),\n",
    "    #'feature_fraction': trial.suggest_loguniform('feature_fraction', 0.4, 1.0),\n",
    "    'random_state': 777,\n",
    "    'min_data_in_leaf': 1,\n",
    "    #'lambda_l1': trial.suggest_loguniform('lambda_l1', 1e-3, 1.0),\n",
    "    #'lambda_l2': trial.suggest_loguniform('lambda_l2', 1e-3, 1.0),\n",
    "    'verbose': -1\n",
    "}\n",
    "params.update(best_params)\n",
    "\n",
    "# モデルの学習実行\n",
    "model = lgb.train(\n",
    "    params, dtrain, num_boost_round=9999, valid_sets=dval, early_stopping_rounds=200\n",
    ")"
   ]
  },
  {
   "cell_type": "code",
   "execution_count": 105,
   "metadata": {},
   "outputs": [
    {
     "name": "stdout",
     "output_type": "stream",
     "text": [
      "validation_score(AUC): 0.8272646607405513\n"
     ]
    }
   ],
   "source": [
    "# EarlyStoppingでトレーニングを打ちとめた時点でのAUCを計算\n",
    "from sklearn.metrics import roc_auc_score\n",
    "\n",
    "val_pred_optuna = model.predict(val_x)\n",
    "print('validation_score(AUC):', roc_auc_score(y_true=val_y, y_score=val_pred_optuna))"
   ]
  },
  {
   "cell_type": "code",
   "execution_count": 106,
   "metadata": {},
   "outputs": [
    {
     "name": "stdout",
     "output_type": "stream",
     "text": [
      "test_score(AUC): 0.8492888942914014\n"
     ]
    }
   ],
   "source": [
    "# テスト用データのAUCを計算\n",
    "test_pred_optuna = model.predict(test_x)\n",
    "\n",
    "print('test_score(AUC):', roc_auc_score(y_true=test_y, y_score=test_pred_optuna))"
   ]
  },
  {
   "cell_type": "code",
   "execution_count": 107,
   "metadata": {},
   "outputs": [
    {
     "data": {
      "text/plain": [
       "{'ManuallySelected': {'model': 'LightGBM',\n",
       "  'validation_score(AUC)': 0.8311496770480271,\n",
       "  'test_score(AUC)': 0.848412674294339},\n",
       " 'GridSearch': {'model': 'LightGBM',\n",
       "  'validation_score(AUC)': 0.6989671931956257,\n",
       "  'test_score(AUC)': 0.7127581176971116},\n",
       " 'RandomSearch': {'model': 'LightGBM',\n",
       "  'validation_score(AUC)': 0.7014712700645903,\n",
       "  'test_score(AUC)': 0.7104852638029974},\n",
       " 'Optuna': {'model': 'LightGBM',\n",
       "  'validation_score(AUC)': 0.8272646607405513,\n",
       "  'test_score(AUC)': 0.8492888942914014}}"
      ]
     },
     "execution_count": 107,
     "metadata": {},
     "output_type": "execute_result"
    }
   ],
   "source": [
    "# 結果を格納しておく\n",
    "\n",
    "result = {\n",
    "    'model': 'LightGBM',\n",
    "    'validation_score(AUC)': roc_auc_score(y_true=val_y, y_score=val_pred_optuna),\n",
    "    'test_score(AUC)': roc_auc_score(y_true=test_y, y_score=test_pred_optuna)\n",
    "}\n",
    "results['Optuna'] = result\n",
    "\n",
    "results"
   ]
  },
  {
   "cell_type": "code",
   "execution_count": null,
   "metadata": {},
   "outputs": [],
   "source": []
  }
 ],
 "metadata": {
  "interpreter": {
   "hash": "f6db6df122c4444d5337e1611ea3126c13bfd73b114ae6a69defa5d135b8fd60"
  },
  "kernelspec": {
   "display_name": "Python 3 (ipykernel)",
   "language": "python",
   "name": "python3"
  },
  "language_info": {
   "codemirror_mode": {
    "name": "ipython",
    "version": 3
   },
   "file_extension": ".py",
   "mimetype": "text/x-python",
   "name": "python",
   "nbconvert_exporter": "python",
   "pygments_lexer": "ipython3",
   "version": "3.8.11"
  }
 },
 "nbformat": 4,
 "nbformat_minor": 4
}
