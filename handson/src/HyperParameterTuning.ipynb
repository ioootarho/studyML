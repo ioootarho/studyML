{
 "cells": [
  {
   "cell_type": "markdown",
   "metadata": {},
   "source": [
    "# ハイパーパラメータのチューニング"
   ]
  },
  {
   "cell_type": "markdown",
   "metadata": {},
   "source": [
    "## Data Load"
   ]
  },
  {
   "cell_type": "code",
   "execution_count": 1,
   "metadata": {},
   "outputs": [],
   "source": [
    "import os\n",
    "import pandas as pd\n",
    "import matplotlib.pyplot as plt\n",
    "import matplotlib as mlp\n",
    "import seaborn as sns\n",
    "import numpy as np\n",
    "\n",
    "pd.set_option('display.max_columns', 200)\n",
    "plt.style.use('ggplot')"
   ]
  },
  {
   "cell_type": "markdown",
   "metadata": {},
   "source": [
    "電気通信事業者の解約データを読み込む  \n",
    "(https://www.kaggle.com/blastchar/telco-customer-churn)"
   ]
  },
  {
   "cell_type": "code",
   "execution_count": 2,
   "metadata": {},
   "outputs": [
    {
     "data": {
      "text/html": [
       "<div>\n",
       "<style scoped>\n",
       "    .dataframe tbody tr th:only-of-type {\n",
       "        vertical-align: middle;\n",
       "    }\n",
       "\n",
       "    .dataframe tbody tr th {\n",
       "        vertical-align: top;\n",
       "    }\n",
       "\n",
       "    .dataframe thead th {\n",
       "        text-align: right;\n",
       "    }\n",
       "</style>\n",
       "<table border=\"1\" class=\"dataframe\">\n",
       "  <thead>\n",
       "    <tr style=\"text-align: right;\">\n",
       "      <th></th>\n",
       "      <th>customerID</th>\n",
       "      <th>gender</th>\n",
       "      <th>SeniorCitizen</th>\n",
       "      <th>Partner</th>\n",
       "      <th>Dependents</th>\n",
       "      <th>tenure</th>\n",
       "      <th>PhoneService</th>\n",
       "      <th>MultipleLines</th>\n",
       "      <th>InternetService</th>\n",
       "      <th>OnlineSecurity</th>\n",
       "      <th>OnlineBackup</th>\n",
       "      <th>DeviceProtection</th>\n",
       "      <th>TechSupport</th>\n",
       "      <th>StreamingTV</th>\n",
       "      <th>StreamingMovies</th>\n",
       "      <th>Contract</th>\n",
       "      <th>PaperlessBilling</th>\n",
       "      <th>PaymentMethod</th>\n",
       "      <th>MonthlyCharges</th>\n",
       "      <th>TotalCharges</th>\n",
       "      <th>Churn</th>\n",
       "    </tr>\n",
       "  </thead>\n",
       "  <tbody>\n",
       "    <tr>\n",
       "      <th>0</th>\n",
       "      <td>7590-VHVEG</td>\n",
       "      <td>Female</td>\n",
       "      <td>0</td>\n",
       "      <td>Yes</td>\n",
       "      <td>No</td>\n",
       "      <td>1</td>\n",
       "      <td>No</td>\n",
       "      <td>No phone service</td>\n",
       "      <td>DSL</td>\n",
       "      <td>No</td>\n",
       "      <td>Yes</td>\n",
       "      <td>No</td>\n",
       "      <td>No</td>\n",
       "      <td>No</td>\n",
       "      <td>No</td>\n",
       "      <td>Month-to-month</td>\n",
       "      <td>Yes</td>\n",
       "      <td>Electronic check</td>\n",
       "      <td>29.85</td>\n",
       "      <td>29.85</td>\n",
       "      <td>No</td>\n",
       "    </tr>\n",
       "    <tr>\n",
       "      <th>1</th>\n",
       "      <td>5575-GNVDE</td>\n",
       "      <td>Male</td>\n",
       "      <td>0</td>\n",
       "      <td>No</td>\n",
       "      <td>No</td>\n",
       "      <td>34</td>\n",
       "      <td>Yes</td>\n",
       "      <td>No</td>\n",
       "      <td>DSL</td>\n",
       "      <td>Yes</td>\n",
       "      <td>No</td>\n",
       "      <td>Yes</td>\n",
       "      <td>No</td>\n",
       "      <td>No</td>\n",
       "      <td>No</td>\n",
       "      <td>One year</td>\n",
       "      <td>No</td>\n",
       "      <td>Mailed check</td>\n",
       "      <td>56.95</td>\n",
       "      <td>1889.50</td>\n",
       "      <td>No</td>\n",
       "    </tr>\n",
       "    <tr>\n",
       "      <th>2</th>\n",
       "      <td>3668-QPYBK</td>\n",
       "      <td>Male</td>\n",
       "      <td>0</td>\n",
       "      <td>No</td>\n",
       "      <td>No</td>\n",
       "      <td>2</td>\n",
       "      <td>Yes</td>\n",
       "      <td>No</td>\n",
       "      <td>DSL</td>\n",
       "      <td>Yes</td>\n",
       "      <td>Yes</td>\n",
       "      <td>No</td>\n",
       "      <td>No</td>\n",
       "      <td>No</td>\n",
       "      <td>No</td>\n",
       "      <td>Month-to-month</td>\n",
       "      <td>Yes</td>\n",
       "      <td>Mailed check</td>\n",
       "      <td>53.85</td>\n",
       "      <td>108.15</td>\n",
       "      <td>Yes</td>\n",
       "    </tr>\n",
       "    <tr>\n",
       "      <th>3</th>\n",
       "      <td>7795-CFOCW</td>\n",
       "      <td>Male</td>\n",
       "      <td>0</td>\n",
       "      <td>No</td>\n",
       "      <td>No</td>\n",
       "      <td>45</td>\n",
       "      <td>No</td>\n",
       "      <td>No phone service</td>\n",
       "      <td>DSL</td>\n",
       "      <td>Yes</td>\n",
       "      <td>No</td>\n",
       "      <td>Yes</td>\n",
       "      <td>Yes</td>\n",
       "      <td>No</td>\n",
       "      <td>No</td>\n",
       "      <td>One year</td>\n",
       "      <td>No</td>\n",
       "      <td>Bank transfer (automatic)</td>\n",
       "      <td>42.30</td>\n",
       "      <td>1840.75</td>\n",
       "      <td>No</td>\n",
       "    </tr>\n",
       "    <tr>\n",
       "      <th>4</th>\n",
       "      <td>9237-HQITU</td>\n",
       "      <td>Female</td>\n",
       "      <td>0</td>\n",
       "      <td>No</td>\n",
       "      <td>No</td>\n",
       "      <td>2</td>\n",
       "      <td>Yes</td>\n",
       "      <td>No</td>\n",
       "      <td>Fiber optic</td>\n",
       "      <td>No</td>\n",
       "      <td>No</td>\n",
       "      <td>No</td>\n",
       "      <td>No</td>\n",
       "      <td>No</td>\n",
       "      <td>No</td>\n",
       "      <td>Month-to-month</td>\n",
       "      <td>Yes</td>\n",
       "      <td>Electronic check</td>\n",
       "      <td>70.70</td>\n",
       "      <td>151.65</td>\n",
       "      <td>Yes</td>\n",
       "    </tr>\n",
       "  </tbody>\n",
       "</table>\n",
       "</div>"
      ],
      "text/plain": [
       "   customerID  gender  SeniorCitizen Partner Dependents  tenure PhoneService  \\\n",
       "0  7590-VHVEG  Female              0     Yes         No       1           No   \n",
       "1  5575-GNVDE    Male              0      No         No      34          Yes   \n",
       "2  3668-QPYBK    Male              0      No         No       2          Yes   \n",
       "3  7795-CFOCW    Male              0      No         No      45           No   \n",
       "4  9237-HQITU  Female              0      No         No       2          Yes   \n",
       "\n",
       "      MultipleLines InternetService OnlineSecurity OnlineBackup  \\\n",
       "0  No phone service             DSL             No          Yes   \n",
       "1                No             DSL            Yes           No   \n",
       "2                No             DSL            Yes          Yes   \n",
       "3  No phone service             DSL            Yes           No   \n",
       "4                No     Fiber optic             No           No   \n",
       "\n",
       "  DeviceProtection TechSupport StreamingTV StreamingMovies        Contract  \\\n",
       "0               No          No          No              No  Month-to-month   \n",
       "1              Yes          No          No              No        One year   \n",
       "2               No          No          No              No  Month-to-month   \n",
       "3              Yes         Yes          No              No        One year   \n",
       "4               No          No          No              No  Month-to-month   \n",
       "\n",
       "  PaperlessBilling              PaymentMethod  MonthlyCharges  TotalCharges  \\\n",
       "0              Yes           Electronic check           29.85         29.85   \n",
       "1               No               Mailed check           56.95       1889.50   \n",
       "2              Yes               Mailed check           53.85        108.15   \n",
       "3               No  Bank transfer (automatic)           42.30       1840.75   \n",
       "4              Yes           Electronic check           70.70        151.65   \n",
       "\n",
       "  Churn  \n",
       "0    No  \n",
       "1    No  \n",
       "2   Yes  \n",
       "3    No  \n",
       "4   Yes  "
      ]
     },
     "execution_count": 2,
     "metadata": {},
     "output_type": "execute_result"
    }
   ],
   "source": [
    "input_path = '../data'\n",
    "df = pd.read_csv(os.path.join(input_path, 'WA_Fn-UseC_-Telco-Customer-Churn.csv'))\n",
    "\n",
    "# TotalCharges列に空文字が存在して文字列型になっているので欠損値に置換して少数型にしておく\n",
    "col = 'TotalCharges'\n",
    "df[col] = df[col].replace({' ': np.nan}).astype(float)\n",
    "\n",
    "df.head()"
   ]
  },
  {
   "cell_type": "markdown",
   "metadata": {
    "tags": []
   },
   "source": [
    "## Data Partition"
   ]
  },
  {
   "cell_type": "code",
   "execution_count": 3,
   "metadata": {},
   "outputs": [
    {
     "name": "stdout",
     "output_type": "stream",
     "text": [
      "original_size: (7043, 21)\n",
      "train_size: (5634, 21)\n",
      "test_size: (1409, 21)\n"
     ]
    }
   ],
   "source": [
    "from sklearn.model_selection import train_test_split\n",
    "\n",
    "train_df, test_df = train_test_split(df, train_size=0.8, random_state=2021, shuffle=True)\n",
    "print('original_size:', df.shape)\n",
    "print('train_size:', train_df.shape)\n",
    "print('test_size:', test_df.shape)"
   ]
  },
  {
   "cell_type": "markdown",
   "metadata": {},
   "source": [
    "## Data Preparation"
   ]
  },
  {
   "cell_type": "code",
   "execution_count": 4,
   "metadata": {},
   "outputs": [],
   "source": [
    "from sklearn.preprocessing import StandardScaler\n",
    "from category_encoders import OrdinalEncoder"
   ]
  },
  {
   "cell_type": "code",
   "execution_count": 5,
   "metadata": {},
   "outputs": [
    {
     "name": "stderr",
     "output_type": "stream",
     "text": [
      "/var/folders/v6/1f2j3j154zj9g03clj2_yt_00000gn/T/ipykernel_10024/1495117370.py:23: FutureWarning: Dropping of nuisance columns in DataFrame reductions (with 'numeric_only=None') is deprecated; in a future version this will raise TypeError.  Select only valid columns before calling the reduction.\n",
      "  train_df.fillna(train_df.median(), inplace=True)\n",
      "/var/folders/v6/1f2j3j154zj9g03clj2_yt_00000gn/T/ipykernel_10024/1495117370.py:24: FutureWarning: Dropping of nuisance columns in DataFrame reductions (with 'numeric_only=None') is deprecated; in a future version this will raise TypeError.  Select only valid columns before calling the reduction.\n",
      "  test_df.fillna(train_df.median(), inplace=True)\n"
     ]
    },
    {
     "data": {
      "text/html": [
       "<div>\n",
       "<style scoped>\n",
       "    .dataframe tbody tr th:only-of-type {\n",
       "        vertical-align: middle;\n",
       "    }\n",
       "\n",
       "    .dataframe tbody tr th {\n",
       "        vertical-align: top;\n",
       "    }\n",
       "\n",
       "    .dataframe thead th {\n",
       "        text-align: right;\n",
       "    }\n",
       "</style>\n",
       "<table border=\"1\" class=\"dataframe\">\n",
       "  <thead>\n",
       "    <tr style=\"text-align: right;\">\n",
       "      <th></th>\n",
       "      <th>customerID</th>\n",
       "      <th>gender</th>\n",
       "      <th>SeniorCitizen</th>\n",
       "      <th>Partner</th>\n",
       "      <th>Dependents</th>\n",
       "      <th>tenure</th>\n",
       "      <th>PhoneService</th>\n",
       "      <th>MultipleLines</th>\n",
       "      <th>InternetService</th>\n",
       "      <th>OnlineSecurity</th>\n",
       "      <th>OnlineBackup</th>\n",
       "      <th>DeviceProtection</th>\n",
       "      <th>TechSupport</th>\n",
       "      <th>StreamingTV</th>\n",
       "      <th>StreamingMovies</th>\n",
       "      <th>Contract</th>\n",
       "      <th>PaperlessBilling</th>\n",
       "      <th>PaymentMethod</th>\n",
       "      <th>MonthlyCharges</th>\n",
       "      <th>TotalCharges</th>\n",
       "      <th>Churn</th>\n",
       "    </tr>\n",
       "  </thead>\n",
       "  <tbody>\n",
       "    <tr>\n",
       "      <th>6125</th>\n",
       "      <td>0871-URUWO</td>\n",
       "      <td>1</td>\n",
       "      <td>0</td>\n",
       "      <td>1</td>\n",
       "      <td>1</td>\n",
       "      <td>-0.791990</td>\n",
       "      <td>1</td>\n",
       "      <td>1</td>\n",
       "      <td>1</td>\n",
       "      <td>1</td>\n",
       "      <td>1</td>\n",
       "      <td>1</td>\n",
       "      <td>1</td>\n",
       "      <td>1</td>\n",
       "      <td>1</td>\n",
       "      <td>1</td>\n",
       "      <td>1</td>\n",
       "      <td>1</td>\n",
       "      <td>1.255598</td>\n",
       "      <td>-0.403651</td>\n",
       "      <td>1</td>\n",
       "    </tr>\n",
       "    <tr>\n",
       "      <th>6958</th>\n",
       "      <td>3078-ZKNTS</td>\n",
       "      <td>2</td>\n",
       "      <td>0</td>\n",
       "      <td>1</td>\n",
       "      <td>2</td>\n",
       "      <td>-0.791990</td>\n",
       "      <td>1</td>\n",
       "      <td>2</td>\n",
       "      <td>2</td>\n",
       "      <td>2</td>\n",
       "      <td>2</td>\n",
       "      <td>2</td>\n",
       "      <td>2</td>\n",
       "      <td>2</td>\n",
       "      <td>2</td>\n",
       "      <td>2</td>\n",
       "      <td>1</td>\n",
       "      <td>2</td>\n",
       "      <td>-1.485131</td>\n",
       "      <td>-0.894834</td>\n",
       "      <td>0</td>\n",
       "    </tr>\n",
       "    <tr>\n",
       "      <th>4062</th>\n",
       "      <td>1915-IOFGU</td>\n",
       "      <td>2</td>\n",
       "      <td>0</td>\n",
       "      <td>2</td>\n",
       "      <td>1</td>\n",
       "      <td>-1.280574</td>\n",
       "      <td>1</td>\n",
       "      <td>2</td>\n",
       "      <td>1</td>\n",
       "      <td>1</td>\n",
       "      <td>1</td>\n",
       "      <td>3</td>\n",
       "      <td>1</td>\n",
       "      <td>3</td>\n",
       "      <td>3</td>\n",
       "      <td>1</td>\n",
       "      <td>2</td>\n",
       "      <td>3</td>\n",
       "      <td>0.200833</td>\n",
       "      <td>-0.972643</td>\n",
       "      <td>1</td>\n",
       "    </tr>\n",
       "    <tr>\n",
       "      <th>5298</th>\n",
       "      <td>5647-FXOTP</td>\n",
       "      <td>2</td>\n",
       "      <td>1</td>\n",
       "      <td>1</td>\n",
       "      <td>1</td>\n",
       "      <td>1.121629</td>\n",
       "      <td>1</td>\n",
       "      <td>1</td>\n",
       "      <td>1</td>\n",
       "      <td>1</td>\n",
       "      <td>3</td>\n",
       "      <td>1</td>\n",
       "      <td>1</td>\n",
       "      <td>1</td>\n",
       "      <td>1</td>\n",
       "      <td>1</td>\n",
       "      <td>1</td>\n",
       "      <td>3</td>\n",
       "      <td>1.376855</td>\n",
       "      <td>1.822967</td>\n",
       "      <td>0</td>\n",
       "    </tr>\n",
       "    <tr>\n",
       "      <th>1214</th>\n",
       "      <td>9866-QEVEE</td>\n",
       "      <td>1</td>\n",
       "      <td>0</td>\n",
       "      <td>2</td>\n",
       "      <td>1</td>\n",
       "      <td>-0.547698</td>\n",
       "      <td>1</td>\n",
       "      <td>1</td>\n",
       "      <td>1</td>\n",
       "      <td>1</td>\n",
       "      <td>1</td>\n",
       "      <td>3</td>\n",
       "      <td>1</td>\n",
       "      <td>3</td>\n",
       "      <td>1</td>\n",
       "      <td>1</td>\n",
       "      <td>1</td>\n",
       "      <td>2</td>\n",
       "      <td>0.715758</td>\n",
       "      <td>-0.327057</td>\n",
       "      <td>1</td>\n",
       "    </tr>\n",
       "  </tbody>\n",
       "</table>\n",
       "</div>"
      ],
      "text/plain": [
       "      customerID  gender  SeniorCitizen  Partner  Dependents    tenure  \\\n",
       "6125  0871-URUWO       1              0        1           1 -0.791990   \n",
       "6958  3078-ZKNTS       2              0        1           2 -0.791990   \n",
       "4062  1915-IOFGU       2              0        2           1 -1.280574   \n",
       "5298  5647-FXOTP       2              1        1           1  1.121629   \n",
       "1214  9866-QEVEE       1              0        2           1 -0.547698   \n",
       "\n",
       "      PhoneService  MultipleLines  InternetService  OnlineSecurity  \\\n",
       "6125             1              1                1               1   \n",
       "6958             1              2                2               2   \n",
       "4062             1              2                1               1   \n",
       "5298             1              1                1               1   \n",
       "1214             1              1                1               1   \n",
       "\n",
       "      OnlineBackup  DeviceProtection  TechSupport  StreamingTV  \\\n",
       "6125             1                 1            1            1   \n",
       "6958             2                 2            2            2   \n",
       "4062             1                 3            1            3   \n",
       "5298             3                 1            1            1   \n",
       "1214             1                 3            1            3   \n",
       "\n",
       "      StreamingMovies  Contract  PaperlessBilling  PaymentMethod  \\\n",
       "6125                1         1                 1              1   \n",
       "6958                2         2                 1              2   \n",
       "4062                3         1                 2              3   \n",
       "5298                1         1                 1              3   \n",
       "1214                1         1                 1              2   \n",
       "\n",
       "      MonthlyCharges  TotalCharges  Churn  \n",
       "6125        1.255598     -0.403651      1  \n",
       "6958       -1.485131     -0.894834      0  \n",
       "4062        0.200833     -0.972643      1  \n",
       "5298        1.376855      1.822967      0  \n",
       "1214        0.715758     -0.327057      1  "
      ]
     },
     "execution_count": 5,
     "metadata": {},
     "output_type": "execute_result"
    }
   ],
   "source": [
    "# ターゲットを変換\n",
    "train_df['Churn'] = train_df['Churn'].map({'Yes':1, 'No':0})\n",
    "test_df['Churn'] = test_df['Churn'].map({'Yes':1, 'No':0})\n",
    "\n",
    "# 数値変数の標準化\n",
    "# 今回はツリー系アルゴリズムを使用する本来は不要だが、勉強のために実施しておく\n",
    "num_cols = ['tenure', 'MonthlyCharges', 'TotalCharges']\n",
    "scaler = StandardScaler()\n",
    "train_df[num_cols] = scaler.fit_transform(train_df[num_cols])\n",
    "test_df[num_cols] = scaler.transform(test_df[num_cols])\n",
    "\n",
    "# customerID以外のカテゴリ変数をOrdinalエンコーディング\n",
    "cat_cols = []\n",
    "for col in train_df.columns:\n",
    "    if train_df[col].dtype == 'object':\n",
    "        cat_cols.append(col)\n",
    "cat_cols.remove('customerID')\n",
    "encoder = OrdinalEncoder()\n",
    "train_df[cat_cols] = encoder.fit_transform(train_df[cat_cols])\n",
    "test_df[cat_cols] = encoder.transform(test_df[cat_cols])\n",
    "\n",
    "# 欠損値をトレーニングデータの中央値で保管\n",
    "train_df.fillna(train_df.median(), inplace=True)\n",
    "test_df.fillna(train_df.median(), inplace=True)\n",
    "\n",
    "# 前処理後のデータプレビュー\n",
    "train_df.head()"
   ]
  },
  {
   "cell_type": "code",
   "execution_count": 6,
   "metadata": {},
   "outputs": [
    {
     "name": "stdout",
     "output_type": "stream",
     "text": [
      "<class 'pandas.core.frame.DataFrame'>\n",
      "Int64Index: 5634 entries, 6125 to 1140\n",
      "Data columns (total 21 columns):\n",
      " #   Column            Non-Null Count  Dtype  \n",
      "---  ------            --------------  -----  \n",
      " 0   customerID        5634 non-null   object \n",
      " 1   gender            5634 non-null   int64  \n",
      " 2   SeniorCitizen     5634 non-null   int64  \n",
      " 3   Partner           5634 non-null   int64  \n",
      " 4   Dependents        5634 non-null   int64  \n",
      " 5   tenure            5634 non-null   float64\n",
      " 6   PhoneService      5634 non-null   int64  \n",
      " 7   MultipleLines     5634 non-null   int64  \n",
      " 8   InternetService   5634 non-null   int64  \n",
      " 9   OnlineSecurity    5634 non-null   int64  \n",
      " 10  OnlineBackup      5634 non-null   int64  \n",
      " 11  DeviceProtection  5634 non-null   int64  \n",
      " 12  TechSupport       5634 non-null   int64  \n",
      " 13  StreamingTV       5634 non-null   int64  \n",
      " 14  StreamingMovies   5634 non-null   int64  \n",
      " 15  Contract          5634 non-null   int64  \n",
      " 16  PaperlessBilling  5634 non-null   int64  \n",
      " 17  PaymentMethod     5634 non-null   int64  \n",
      " 18  MonthlyCharges    5634 non-null   float64\n",
      " 19  TotalCharges      5634 non-null   float64\n",
      " 20  Churn             5634 non-null   int64  \n",
      "dtypes: float64(3), int64(17), object(1)\n",
      "memory usage: 968.3+ KB\n"
     ]
    }
   ],
   "source": [
    "train_df.info()"
   ]
  },
  {
   "cell_type": "markdown",
   "metadata": {},
   "source": [
    "## Modeling"
   ]
  },
  {
   "cell_type": "markdown",
   "metadata": {},
   "source": [
    "LightGBMでモデルを作成する  \n",
    "バリデーションスキームはLeave One Outで、ランダムに8:2に分割する"
   ]
  },
  {
   "cell_type": "code",
   "execution_count": 7,
   "metadata": {},
   "outputs": [],
   "source": [
    "import lightgbm as lgb"
   ]
  },
  {
   "cell_type": "code",
   "execution_count": null,
   "metadata": {
    "tags": []
   },
   "outputs": [],
   "source": [
    "# ターゲットと特徴量に分離\n",
    "train_x = train_df.drop(['customerID','Churn'], axis=1)\n",
    "train_y = train_df['Churn']\n",
    "test_x = test_df.drop(['customerID','Churn'], axis=1)\n",
    "test_y = test_df['Churn']\n",
    "\n",
    "# EarlyStopping用にさらにデータを分割する\n",
    "train_x_, val_x, train_y_, val_y = train_test_split(train_x, train_y, train_size=0.8, random_state=888, shuffle=True)\n",
    "\n",
    "# 学習用のデータ\n",
    "dtrain = lgb.Dataset(data=train_x_, label=train_y_)\n",
    "# EarlyStoppingのためのデータ\n",
    "dval = lgb.Dataset(data=val_x, label=val_y, reference=dtrain)\n",
    "\n",
    "# ハイパーパラメータ設定\n",
    "params = {\n",
    "    'objective': 'binary',\n",
    "    'metric': 'binary_logloss',\n",
    "    'boosting_type': 'gbdt',\n",
    "    'learning_rate': 0.02,\n",
    "    'num_leaves': 15,\n",
    "    'bagging_freq': 5,\n",
    "    'bagging_fraction': 0.8,\n",
    "    'feature_fraction': 0.8,\n",
    "    'random_state': 777,\n",
    "    'min_data_in_leaf': 1,\n",
    "    'lambda_l1': 0,\n",
    "    'lambda_l2': 0,\n",
    "    'verbose': -1\n",
    "}\n",
    "\n",
    "# モデルの学習実行\n",
    "model = lgb.train(\n",
    "    params, dtrain, num_boost_round=9999, valid_sets=dval, early_stopping_rounds=200\n",
    ")"
   ]
  },
  {
   "cell_type": "code",
   "execution_count": 47,
   "metadata": {},
   "outputs": [
    {
     "name": "stdout",
     "output_type": "stream",
     "text": [
      "validation_score(AUC): 0.8311496770480271\n"
     ]
    }
   ],
   "source": [
    "# バリデーションスコア\n",
    "from sklearn.metrics import roc_auc_score\n",
    "\n",
    "val_pred = model.predict(val_x)\n",
    "print('validation_score(AUC):', roc_auc_score(y_true=val_y, y_score=val_pred))"
   ]
  },
  {
   "cell_type": "markdown",
   "metadata": {},
   "source": [
    "## ハイパーパラメータチューニング前のテストスコア"
   ]
  },
  {
   "cell_type": "code",
   "execution_count": 45,
   "metadata": {},
   "outputs": [
    {
     "name": "stdout",
     "output_type": "stream",
     "text": [
      "test_score(AUC): 0.848412674294339\n"
     ]
    }
   ],
   "source": [
    "# 推論実行\n",
    "test_pred = model.predict(test_x)\n",
    "\n",
    "print('test_score(AUC):', roc_auc_score(y_true=test_y, y_score=test_pred))"
   ]
  },
  {
   "cell_type": "code",
   "execution_count": 48,
   "metadata": {},
   "outputs": [
    {
     "data": {
      "text/plain": [
       "{'ManuallySelected': {'model': 'LightGBM',\n",
       "  'validation_score(AUC)': 0.8311496770480271,\n",
       "  'test_score(AUC)': 0.848412674294339}}"
      ]
     },
     "execution_count": 48,
     "metadata": {},
     "output_type": "execute_result"
    }
   ],
   "source": [
    "# 結果を格納しておく\n",
    "results = {}\n",
    "\n",
    "result = {\n",
    "    'model': 'LightGBM',\n",
    "    'validation_score(AUC)': roc_auc_score(y_true=val_y, y_score=val_pred),\n",
    "    'test_score(AUC)': roc_auc_score(y_true=test_y, y_score=test_pred)\n",
    "}\n",
    "results['ManuallySelected'] = result\n",
    "\n",
    "results"
   ]
  },
  {
   "cell_type": "code",
   "execution_count": 20,
   "metadata": {},
   "outputs": [],
   "source": [
    "# テスト用のデータを出力しておく\n",
    "test_x.to_csv(os.path.join(input_path, 'test_x.csv'), encoding='utf-8', index=False)\n",
    "test_y.to_csv(os.path.join(input_path, 'test_y.csv'), encoding='utf-8', index=False)"
   ]
  },
  {
   "cell_type": "markdown",
   "metadata": {},
   "source": [
    "## GridSearch"
   ]
  },
  {
   "cell_type": "markdown",
   "metadata": {},
   "source": [
    "GridSearchでLightGBMのハイパーパラメータをチューニングする  \n",
    "チューニング対象は以下の通り  \n",
    "- num_leaves\n",
    "- bagging_fraction\n",
    "- feature_fraction\n",
    "- lambda_l1\n",
    "- lambda_l2"
   ]
  },
  {
   "cell_type": "code",
   "execution_count": 14,
   "metadata": {},
   "outputs": [],
   "source": [
    "from sklearn.model_selection import GridSearchCV"
   ]
  },
  {
   "cell_type": "code",
   "execution_count": 69,
   "metadata": {
    "tags": []
   },
   "outputs": [
    {
     "data": {
      "text/plain": [
       "GridSearchCV(cv=3,\n",
       "             estimator=LGBMClassifier(force_col_wise=True,\n",
       "                                      importance_type='gain',\n",
       "                                      learning_rate=0.02, min_child_samples=1,\n",
       "                                      n_estimators=2000, random_state=777,\n",
       "                                      subsample_freq=5, verbose=0),\n",
       "             param_grid={'colsample_bytree': [0.7, 0.9], 'num_leaves': [7, 15],\n",
       "                         'reg_alpha': [0, 0.1], 'reg_lambda': [0, 0.1],\n",
       "                         'subsample': [0.7, 0.9]},\n",
       "             scoring='neg_log_loss')"
      ]
     },
     "execution_count": 69,
     "metadata": {},
     "output_type": "execute_result"
    }
   ],
   "source": [
    "# GridSearchで探索するハイパーパラメータ空間を定義\n",
    "search_params = {\n",
    "    'num_leaves': [7, 15],\n",
    "    'subsample': [0.7, 0.9], # bagging_fractionのエイリアス\n",
    "    'colsample_bytree': [0.7, 0.9], # feature_fractionのエイリアス\n",
    "    'reg_alpha': [0, 0.1], # lambda_l1のエイリアス\n",
    "    'reg_lambda': [0, 0.1] # lambda_l2のエイリアス\n",
    "}\n",
    "\n",
    "# scikit-learnを使ってGridSearchを実施するため、LightGBMのオリジナルAPIではなく、sklearnのラッパーAPIを使用する\n",
    "clf = lgb.LGBMClassifier(max_depth=-1, random_state=777, n_estimators=2000, verbose=0,\n",
    "                        boosting_type='gbdt', importance_type='gain', learning_rate=0.02,\n",
    "                        min_child_samples=1, force_col_wise=True, subsample_freq=5)\n",
    "\n",
    "gs = GridSearchCV(estimator=clf, param_grid=search_params, scoring='neg_log_loss', cv=3, verbose=0)\n",
    "\n",
    "gs.fit(train_x_, train_y_)"
   ]
  },
  {
   "cell_type": "code",
   "execution_count": 114,
   "metadata": {},
   "outputs": [
    {
     "data": {
      "text/plain": [
       "{'colsample_bytree': 0.7,\n",
       " 'num_leaves': 7,\n",
       " 'reg_alpha': 0.1,\n",
       " 'reg_lambda': 0.1,\n",
       " 'subsample': 0.9}"
      ]
     },
     "execution_count": 114,
     "metadata": {},
     "output_type": "execute_result"
    }
   ],
   "source": [
    "# GridSearchで探索した最良のハイパーパラメータの組み合わせ\n",
    "best_params = gs.best_params_\n",
    "best_params"
   ]
  },
  {
   "cell_type": "code",
   "execution_count": null,
   "metadata": {
    "tags": []
   },
   "outputs": [],
   "source": [
    "# GridSearchの結果を使用してモデルをトレーニング\n",
    "gs_model = lgb.LGBMClassifier(max_depth=-1, random_state=777, n_estimators=9999, verbose=0,\n",
    "                        boosting_type='gbdt', importance_type='gain', learning_rate=0.02,\n",
    "                        min_child_samples=1, force_col_wise=True, subsample_freq=5, **best_params)\n",
    "\n",
    "gs_model.fit(train_x_, train_y_, early_stopping_rounds=200, eval_metric='logloss', eval_set=[(val_x, val_y)])"
   ]
  },
  {
   "cell_type": "code",
   "execution_count": 116,
   "metadata": {
    "tags": []
   },
   "outputs": [
    {
     "name": "stdout",
     "output_type": "stream",
     "text": [
      "validation_score(AUC): 0.6989671931956257\n"
     ]
    }
   ],
   "source": [
    "# バリデーションスコア\n",
    "from sklearn.metrics import roc_auc_score\n",
    "\n",
    "val_pred_gs = gs_model.predict(val_x)\n",
    "print('validation_score(AUC):', roc_auc_score(y_true=val_y, y_score=val_pred_gs))"
   ]
  },
  {
   "cell_type": "code",
   "execution_count": 117,
   "metadata": {},
   "outputs": [
    {
     "name": "stdout",
     "output_type": "stream",
     "text": [
      "test_score(AUC): 0.7127581176971116\n"
     ]
    }
   ],
   "source": [
    "# 推論実行\n",
    "test_pred_gs = gs_model.predict(test_x)\n",
    "\n",
    "print('test_score(AUC):', roc_auc_score(y_true=test_y, y_score=test_pred_gs))"
   ]
  },
  {
   "cell_type": "code",
   "execution_count": 89,
   "metadata": {},
   "outputs": [
    {
     "data": {
      "text/plain": [
       "{'ManuallySelected': {'model': 'LightGBM',\n",
       "  'validation_score(AUC)': 0.8311496770480271,\n",
       "  'test_score(AUC)': 0.848412674294339},\n",
       " 'GridSearch': {'model': 'LightGBM',\n",
       "  'validation_score(AUC)': 0.6989671931956257,\n",
       "  'test_score(AUC)': 0.7127581176971116}}"
      ]
     },
     "execution_count": 89,
     "metadata": {},
     "output_type": "execute_result"
    }
   ],
   "source": [
    "# 結果を格納しておく\n",
    "\n",
    "result = {\n",
    "    'model': 'LightGBM',\n",
    "    'validation_score(AUC)': roc_auc_score(y_true=val_y, y_score=val_pred_gs),\n",
    "    'test_score(AUC)': roc_auc_score(y_true=test_y, y_score=test_pred_gs)\n",
    "}\n",
    "results['GridSearch'] = result\n",
    "\n",
    "results"
   ]
  },
  {
   "cell_type": "markdown",
   "metadata": {
    "tags": []
   },
   "source": [
    "## RandomSearch"
   ]
  },
  {
   "cell_type": "markdown",
   "metadata": {},
   "source": [
    "RandomSearchでLightGBMのハイパーパラメータをチューニングする  \n",
    "チューニング対象は以下の通り  \n",
    "- num_leaves\n",
    "- bagging_fraction\n",
    "- feature_fraction\n",
    "- lambda_l1\n",
    "- lambda_l2"
   ]
  },
  {
   "cell_type": "code",
   "execution_count": 77,
   "metadata": {
    "tags": []
   },
   "outputs": [],
   "source": [
    "from sklearn.model_selection import RandomizedSearchCV\n",
    "import scipy as sp"
   ]
  },
  {
   "cell_type": "code",
   "execution_count": null,
   "metadata": {
    "tags": []
   },
   "outputs": [],
   "source": [
    "# RandomSearchで探索するハイパーパラメータ空間を定義\n",
    "search_params = {\n",
    "    'num_leaves': sp.stats.randint(6, 15),\n",
    "    'subsample': sp.stats.uniform(loc=0.4, scale=0.5), # bagging_fractionのエイリアス\n",
    "    'colsample_bytree': sp.stats.uniform(loc=0.4, scale=0.5), # feature_fractionのエイリアス\n",
    "    'reg_alpha': sp.stats.uniform(loc=0, scale=1), # lambda_l1のエイリアス\n",
    "    'reg_lambda': sp.stats.uniform(loc=0, scale=1) # lambda_l2のエイリアス\n",
    "}\n",
    "\n",
    "# scikit-learnを使ってRandomSearchを実施するため、LightGBMのオリジナルAPIではなく、sklearnのラッパーAPIを使用する\n",
    "clf = lgb.LGBMClassifier(max_depth=-1, random_state=777, n_estimators=2000, verbose=0,\n",
    "                        boosting_type='gbdt', importance_type='gain', learning_rate=0.02,\n",
    "                        min_child_samples=1, force_col_wise=True, subsample_freq=5)\n",
    "\n",
    "rs = RandomizedSearchCV(estimator=clf, param_distributions=search_params, n_iter=32, scoring='neg_log_loss', cv=3, verbose=0)\n",
    "\n",
    "rs.fit(train_x, train_y)"
   ]
  },
  {
   "cell_type": "code",
   "execution_count": 93,
   "metadata": {},
   "outputs": [
    {
     "data": {
      "text/plain": [
       "{'colsample_bytree': 0.5174751806969153,\n",
       " 'num_leaves': 7,\n",
       " 'reg_alpha': 0.920198479937528,\n",
       " 'reg_lambda': 0.4169366515580416,\n",
       " 'subsample': 0.7994821470272152}"
      ]
     },
     "execution_count": 93,
     "metadata": {},
     "output_type": "execute_result"
    }
   ],
   "source": [
    "# RandomSearchで探索した最良のハイパーパラメータの組み合わせ\n",
    "best_params = rs.best_params_\n",
    "best_params"
   ]
  },
  {
   "cell_type": "code",
   "execution_count": null,
   "metadata": {
    "tags": []
   },
   "outputs": [],
   "source": [
    "# RandomSearchの結果を使用してモデルをトレーニング\n",
    "rs_model = lgb.LGBMClassifier(max_depth=-1, random_state=777, n_estimators=9999, verbose=0,\n",
    "                        boosting_type='gbdt', importance_type='gain', learning_rate=0.02,\n",
    "                        min_child_samples=1, force_col_wise=True, subsample_freq=5, **best_params)\n",
    "\n",
    "rs_model.fit(train_x_, train_y_, early_stopping_rounds=200, eval_metric='logloss', eval_set=[(val_x, val_y)])"
   ]
  },
  {
   "cell_type": "code",
   "execution_count": 95,
   "metadata": {
    "tags": []
   },
   "outputs": [
    {
     "name": "stdout",
     "output_type": "stream",
     "text": [
      "validation_score(AUC): 0.7014712700645903\n"
     ]
    }
   ],
   "source": [
    "# バリデーションスコア\n",
    "from sklearn.metrics import roc_auc_score\n",
    "\n",
    "val_pred_rs = rs_model.predict(val_x)\n",
    "print('validation_score(AUC):', roc_auc_score(y_true=val_y, y_score=val_pred_rs))"
   ]
  },
  {
   "cell_type": "code",
   "execution_count": 96,
   "metadata": {},
   "outputs": [
    {
     "name": "stdout",
     "output_type": "stream",
     "text": [
      "test_score(AUC): 0.7104852638029974\n"
     ]
    }
   ],
   "source": [
    "# 推論実行\n",
    "test_pred_rs = rs_model.predict(test_x)\n",
    "\n",
    "print('test_score(AUC):', roc_auc_score(y_true=test_y, y_score=test_pred_rs))"
   ]
  },
  {
   "cell_type": "code",
   "execution_count": 97,
   "metadata": {},
   "outputs": [
    {
     "data": {
      "text/plain": [
       "{'ManuallySelected': {'model': 'LightGBM',\n",
       "  'validation_score(AUC)': 0.8311496770480271,\n",
       "  'test_score(AUC)': 0.848412674294339},\n",
       " 'GridSearch': {'model': 'LightGBM',\n",
       "  'validation_score(AUC)': 0.6989671931956257,\n",
       "  'test_score(AUC)': 0.7127581176971116},\n",
       " 'RandomSearch': {'model': 'LightGBM',\n",
       "  'validation_score(AUC)': 0.7014712700645903,\n",
       "  'test_score(AUC)': 0.7104852638029974}}"
      ]
     },
     "execution_count": 97,
     "metadata": {},
     "output_type": "execute_result"
    }
   ],
   "source": [
    "# 結果を格納しておく\n",
    "\n",
    "result = {\n",
    "    'model': 'LightGBM',\n",
    "    'validation_score(AUC)': roc_auc_score(y_true=val_y, y_score=val_pred_rs),\n",
    "    'test_score(AUC)': roc_auc_score(y_true=test_y, y_score=test_pred_rs)\n",
    "}\n",
    "results['RandomSearch'] = result\n",
    "\n",
    "results"
   ]
  },
  {
   "cell_type": "markdown",
   "metadata": {
    "tags": []
   },
   "source": [
    "## Optuna"
   ]
  },
  {
   "cell_type": "markdown",
   "metadata": {},
   "source": [
    "OptunaでLightGBMのハイパーパラメータをチューニングする  \n",
    "チューニング対象は以下の通り  \n",
    "- num_leaves\n",
    "- bagging_fraction\n",
    "- feature_fraction\n",
    "- lambda_l1\n",
    "- lambda_l2"
   ]
  },
  {
   "cell_type": "code",
   "execution_count": 98,
   "metadata": {},
   "outputs": [],
   "source": [
    "import optuna"
   ]
  },
  {
   "cell_type": "code",
   "execution_count": 99,
   "metadata": {},
   "outputs": [],
   "source": [
    "# 目的関数の定義\n",
    "def objective(trial):\n",
    "    train_x_, val_x, train_y_, val_y = train_test_split(train_x, train_y, train_size=0.8, random_state=888, shuffle=True)\n",
    "\n",
    "    dtrain = lgb.Dataset(data=train_x_, label=train_y_)\n",
    "    dval = lgb.Dataset(data=val_x, label=val_y, reference=dtrain)\n",
    "\n",
    "    params = {\n",
    "        'objective': 'binary',\n",
    "        'metric': 'binary_logloss',\n",
    "        'boosting_type': 'gbdt',\n",
    "        'max_depth': -1,\n",
    "        'learning_rate': 0.02,\n",
    "        'num_leaves': trial.suggest_int('num_leaves',6, 15),\n",
    "        'bagging_freq': 5,\n",
    "        'bagging_fraction': trial.suggest_loguniform('bagging_fraction', 0.4, 1.0),\n",
    "        'feature_fraction': trial.suggest_loguniform('feature_fraction', 0.4, 1.0),\n",
    "        'random_state': 777,\n",
    "        'min_data_in_leaf': 1,\n",
    "        'lambda_l1': trial.suggest_loguniform('lambda_l1', 1e-3, 1.0),\n",
    "        'lambda_l2': trial.suggest_loguniform('lambda_l2', 1e-3, 1.0),\n",
    "        'verbose': -1\n",
    "    }\n",
    "\n",
    "    model = lgb.train(\n",
    "        params, dtrain, num_boost_round=9999, valid_sets=dval, early_stopping_rounds=200\n",
    "    )\n",
    "    \n",
    "    val_pred = model.predict(val_x)\n",
    "    score = roc_auc_score(y_true=val_y, y_score=val_pred)\n",
    "    \n",
    "    return score"
   ]
  },
  {
   "cell_type": "code",
   "execution_count": null,
   "metadata": {
    "tags": []
   },
   "outputs": [],
   "source": [
    "# 最適化処理の実行\n",
    "study = optuna.create_study()\n",
    "study.optimize(func=objective, n_trials=32, timeout=None, n_jobs=-1)"
   ]
  },
  {
   "cell_type": "code",
   "execution_count": 101,
   "metadata": {},
   "outputs": [
    {
     "data": {
      "text/plain": [
       "{'num_leaves': 6,\n",
       " 'bagging_fraction': 0.9759474929453683,\n",
       " 'feature_fraction': 0.5382475486628867,\n",
       " 'lambda_l1': 0.08115986968807415,\n",
       " 'lambda_l2': 0.05554908434047863}"
      ]
     },
     "execution_count": 101,
     "metadata": {},
     "output_type": "execute_result"
    }
   ],
   "source": [
    "# Optunaで探索した最良のハイパーパラメータの組み合わせ\n",
    "best_params = study.best_params\n",
    "best_params"
   ]
  },
  {
   "cell_type": "code",
   "execution_count": null,
   "metadata": {
    "collapsed": true,
    "jupyter": {
     "outputs_hidden": true
    },
    "tags": []
   },
   "outputs": [],
   "source": [
    "# Optunaの探索結果を使って再トレーニング\n",
    "params = {\n",
    "    'objective': 'binary',\n",
    "    'metric': 'binary_logloss',\n",
    "    'boosting_type': 'gbdt',\n",
    "    'max_depth': -1,\n",
    "    'learning_rate': 0.02,\n",
    "    #'num_leaves': trial.suggest_int('num_leaves',6, 15),\n",
    "    'bagging_freq': 5,\n",
    "    #'bagging_fraction': trial.suggest_loguniform('bagging_fraction', 0.4, 1.0),\n",
    "    #'feature_fraction': trial.suggest_loguniform('feature_fraction', 0.4, 1.0),\n",
    "    'random_state': 777,\n",
    "    'min_data_in_leaf': 1,\n",
    "    #'lambda_l1': trial.suggest_loguniform('lambda_l1', 1e-3, 1.0),\n",
    "    #'lambda_l2': trial.suggest_loguniform('lambda_l2', 1e-3, 1.0),\n",
    "    'verbose': -1\n",
    "}\n",
    "params.update(best_params)\n",
    "\n",
    "# モデルの学習実行\n",
    "model = lgb.train(\n",
    "    params, dtrain, num_boost_round=9999, valid_sets=dval, early_stopping_rounds=200\n",
    ")"
   ]
  },
  {
   "cell_type": "code",
   "execution_count": 105,
   "metadata": {},
   "outputs": [
    {
     "name": "stdout",
     "output_type": "stream",
     "text": [
      "validation_score(AUC): 0.8272646607405513\n"
     ]
    }
   ],
   "source": [
    "# バリデーションスコア\n",
    "from sklearn.metrics import roc_auc_score\n",
    "\n",
    "val_pred_optuna = model.predict(val_x)\n",
    "print('validation_score(AUC):', roc_auc_score(y_true=val_y, y_score=val_pred_optuna))"
   ]
  },
  {
   "cell_type": "code",
   "execution_count": 106,
   "metadata": {},
   "outputs": [
    {
     "name": "stdout",
     "output_type": "stream",
     "text": [
      "test_score(AUC): 0.8492888942914014\n"
     ]
    }
   ],
   "source": [
    "# 推論実行\n",
    "test_pred_optuna = model.predict(test_x)\n",
    "\n",
    "print('test_score(AUC):', roc_auc_score(y_true=test_y, y_score=test_pred_optuna))"
   ]
  },
  {
   "cell_type": "code",
   "execution_count": 107,
   "metadata": {},
   "outputs": [
    {
     "data": {
      "text/plain": [
       "{'ManuallySelected': {'model': 'LightGBM',\n",
       "  'validation_score(AUC)': 0.8311496770480271,\n",
       "  'test_score(AUC)': 0.848412674294339},\n",
       " 'GridSearch': {'model': 'LightGBM',\n",
       "  'validation_score(AUC)': 0.6989671931956257,\n",
       "  'test_score(AUC)': 0.7127581176971116},\n",
       " 'RandomSearch': {'model': 'LightGBM',\n",
       "  'validation_score(AUC)': 0.7014712700645903,\n",
       "  'test_score(AUC)': 0.7104852638029974},\n",
       " 'Optuna': {'model': 'LightGBM',\n",
       "  'validation_score(AUC)': 0.8272646607405513,\n",
       "  'test_score(AUC)': 0.8492888942914014}}"
      ]
     },
     "execution_count": 107,
     "metadata": {},
     "output_type": "execute_result"
    }
   ],
   "source": [
    "# 結果を格納しておく\n",
    "\n",
    "result = {\n",
    "    'model': 'LightGBM',\n",
    "    'validation_score(AUC)': roc_auc_score(y_true=val_y, y_score=val_pred_optuna),\n",
    "    'test_score(AUC)': roc_auc_score(y_true=test_y, y_score=test_pred_optuna)\n",
    "}\n",
    "results['Optuna'] = result\n",
    "\n",
    "results"
   ]
  },
  {
   "cell_type": "code",
   "execution_count": null,
   "metadata": {},
   "outputs": [],
   "source": []
  }
 ],
 "metadata": {
  "interpreter": {
   "hash": "f6db6df122c4444d5337e1611ea3126c13bfd73b114ae6a69defa5d135b8fd60"
  },
  "kernelspec": {
   "display_name": "Python 3 (ipykernel)",
   "language": "python",
   "name": "python3"
  },
  "language_info": {
   "codemirror_mode": {
    "name": "ipython",
    "version": 3
   },
   "file_extension": ".py",
   "mimetype": "text/x-python",
   "name": "python",
   "nbconvert_exporter": "python",
   "pygments_lexer": "ipython3",
   "version": "3.8.11"
  }
 },
 "nbformat": 4,
 "nbformat_minor": 4
}
