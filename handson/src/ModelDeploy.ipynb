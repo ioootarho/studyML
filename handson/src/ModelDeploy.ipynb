{
 "cells": [
  {
   "cell_type": "markdown",
   "metadata": {},
   "source": [
    "# モデルデプロイ"
   ]
  },
  {
   "cell_type": "markdown",
   "metadata": {},
   "source": [
    "とりあえずデプロイ用のモデルを作る"
   ]
  },
  {
   "cell_type": "markdown",
   "metadata": {},
   "source": [
    "## Data Load"
   ]
  },
  {
   "cell_type": "code",
   "execution_count": 1,
   "metadata": {},
   "outputs": [],
   "source": [
    "import os\n",
    "import pandas as pd\n",
    "import matplotlib.pyplot as plt\n",
    "import matplotlib as mlp\n",
    "import seaborn as sns\n",
    "import numpy as np\n",
    "\n",
    "pd.set_option('display.max_columns', 200)\n",
    "plt.style.use('ggplot')"
   ]
  },
  {
   "cell_type": "markdown",
   "metadata": {},
   "source": [
    "電気通信事業者の解約データを読み込む  \n",
    "(https://www.kaggle.com/blastchar/telco-customer-churn)"
   ]
  },
  {
   "cell_type": "code",
   "execution_count": 2,
   "metadata": {},
   "outputs": [
    {
     "data": {
      "text/html": [
       "<div>\n",
       "<style scoped>\n",
       "    .dataframe tbody tr th:only-of-type {\n",
       "        vertical-align: middle;\n",
       "    }\n",
       "\n",
       "    .dataframe tbody tr th {\n",
       "        vertical-align: top;\n",
       "    }\n",
       "\n",
       "    .dataframe thead th {\n",
       "        text-align: right;\n",
       "    }\n",
       "</style>\n",
       "<table border=\"1\" class=\"dataframe\">\n",
       "  <thead>\n",
       "    <tr style=\"text-align: right;\">\n",
       "      <th></th>\n",
       "      <th>customerID</th>\n",
       "      <th>gender</th>\n",
       "      <th>SeniorCitizen</th>\n",
       "      <th>Partner</th>\n",
       "      <th>Dependents</th>\n",
       "      <th>tenure</th>\n",
       "      <th>PhoneService</th>\n",
       "      <th>MultipleLines</th>\n",
       "      <th>InternetService</th>\n",
       "      <th>OnlineSecurity</th>\n",
       "      <th>OnlineBackup</th>\n",
       "      <th>DeviceProtection</th>\n",
       "      <th>TechSupport</th>\n",
       "      <th>StreamingTV</th>\n",
       "      <th>StreamingMovies</th>\n",
       "      <th>Contract</th>\n",
       "      <th>PaperlessBilling</th>\n",
       "      <th>PaymentMethod</th>\n",
       "      <th>MonthlyCharges</th>\n",
       "      <th>TotalCharges</th>\n",
       "      <th>Churn</th>\n",
       "    </tr>\n",
       "  </thead>\n",
       "  <tbody>\n",
       "    <tr>\n",
       "      <th>0</th>\n",
       "      <td>7590-VHVEG</td>\n",
       "      <td>Female</td>\n",
       "      <td>0</td>\n",
       "      <td>Yes</td>\n",
       "      <td>No</td>\n",
       "      <td>1</td>\n",
       "      <td>No</td>\n",
       "      <td>No phone service</td>\n",
       "      <td>DSL</td>\n",
       "      <td>No</td>\n",
       "      <td>Yes</td>\n",
       "      <td>No</td>\n",
       "      <td>No</td>\n",
       "      <td>No</td>\n",
       "      <td>No</td>\n",
       "      <td>Month-to-month</td>\n",
       "      <td>Yes</td>\n",
       "      <td>Electronic check</td>\n",
       "      <td>29.85</td>\n",
       "      <td>29.85</td>\n",
       "      <td>No</td>\n",
       "    </tr>\n",
       "    <tr>\n",
       "      <th>1</th>\n",
       "      <td>5575-GNVDE</td>\n",
       "      <td>Male</td>\n",
       "      <td>0</td>\n",
       "      <td>No</td>\n",
       "      <td>No</td>\n",
       "      <td>34</td>\n",
       "      <td>Yes</td>\n",
       "      <td>No</td>\n",
       "      <td>DSL</td>\n",
       "      <td>Yes</td>\n",
       "      <td>No</td>\n",
       "      <td>Yes</td>\n",
       "      <td>No</td>\n",
       "      <td>No</td>\n",
       "      <td>No</td>\n",
       "      <td>One year</td>\n",
       "      <td>No</td>\n",
       "      <td>Mailed check</td>\n",
       "      <td>56.95</td>\n",
       "      <td>1889.50</td>\n",
       "      <td>No</td>\n",
       "    </tr>\n",
       "    <tr>\n",
       "      <th>2</th>\n",
       "      <td>3668-QPYBK</td>\n",
       "      <td>Male</td>\n",
       "      <td>0</td>\n",
       "      <td>No</td>\n",
       "      <td>No</td>\n",
       "      <td>2</td>\n",
       "      <td>Yes</td>\n",
       "      <td>No</td>\n",
       "      <td>DSL</td>\n",
       "      <td>Yes</td>\n",
       "      <td>Yes</td>\n",
       "      <td>No</td>\n",
       "      <td>No</td>\n",
       "      <td>No</td>\n",
       "      <td>No</td>\n",
       "      <td>Month-to-month</td>\n",
       "      <td>Yes</td>\n",
       "      <td>Mailed check</td>\n",
       "      <td>53.85</td>\n",
       "      <td>108.15</td>\n",
       "      <td>Yes</td>\n",
       "    </tr>\n",
       "    <tr>\n",
       "      <th>3</th>\n",
       "      <td>7795-CFOCW</td>\n",
       "      <td>Male</td>\n",
       "      <td>0</td>\n",
       "      <td>No</td>\n",
       "      <td>No</td>\n",
       "      <td>45</td>\n",
       "      <td>No</td>\n",
       "      <td>No phone service</td>\n",
       "      <td>DSL</td>\n",
       "      <td>Yes</td>\n",
       "      <td>No</td>\n",
       "      <td>Yes</td>\n",
       "      <td>Yes</td>\n",
       "      <td>No</td>\n",
       "      <td>No</td>\n",
       "      <td>One year</td>\n",
       "      <td>No</td>\n",
       "      <td>Bank transfer (automatic)</td>\n",
       "      <td>42.30</td>\n",
       "      <td>1840.75</td>\n",
       "      <td>No</td>\n",
       "    </tr>\n",
       "    <tr>\n",
       "      <th>4</th>\n",
       "      <td>9237-HQITU</td>\n",
       "      <td>Female</td>\n",
       "      <td>0</td>\n",
       "      <td>No</td>\n",
       "      <td>No</td>\n",
       "      <td>2</td>\n",
       "      <td>Yes</td>\n",
       "      <td>No</td>\n",
       "      <td>Fiber optic</td>\n",
       "      <td>No</td>\n",
       "      <td>No</td>\n",
       "      <td>No</td>\n",
       "      <td>No</td>\n",
       "      <td>No</td>\n",
       "      <td>No</td>\n",
       "      <td>Month-to-month</td>\n",
       "      <td>Yes</td>\n",
       "      <td>Electronic check</td>\n",
       "      <td>70.70</td>\n",
       "      <td>151.65</td>\n",
       "      <td>Yes</td>\n",
       "    </tr>\n",
       "  </tbody>\n",
       "</table>\n",
       "</div>"
      ],
      "text/plain": [
       "   customerID  gender  SeniorCitizen Partner Dependents  tenure PhoneService  \\\n",
       "0  7590-VHVEG  Female              0     Yes         No       1           No   \n",
       "1  5575-GNVDE    Male              0      No         No      34          Yes   \n",
       "2  3668-QPYBK    Male              0      No         No       2          Yes   \n",
       "3  7795-CFOCW    Male              0      No         No      45           No   \n",
       "4  9237-HQITU  Female              0      No         No       2          Yes   \n",
       "\n",
       "      MultipleLines InternetService OnlineSecurity OnlineBackup  \\\n",
       "0  No phone service             DSL             No          Yes   \n",
       "1                No             DSL            Yes           No   \n",
       "2                No             DSL            Yes          Yes   \n",
       "3  No phone service             DSL            Yes           No   \n",
       "4                No     Fiber optic             No           No   \n",
       "\n",
       "  DeviceProtection TechSupport StreamingTV StreamingMovies        Contract  \\\n",
       "0               No          No          No              No  Month-to-month   \n",
       "1              Yes          No          No              No        One year   \n",
       "2               No          No          No              No  Month-to-month   \n",
       "3              Yes         Yes          No              No        One year   \n",
       "4               No          No          No              No  Month-to-month   \n",
       "\n",
       "  PaperlessBilling              PaymentMethod  MonthlyCharges  TotalCharges  \\\n",
       "0              Yes           Electronic check           29.85         29.85   \n",
       "1               No               Mailed check           56.95       1889.50   \n",
       "2              Yes               Mailed check           53.85        108.15   \n",
       "3               No  Bank transfer (automatic)           42.30       1840.75   \n",
       "4              Yes           Electronic check           70.70        151.65   \n",
       "\n",
       "  Churn  \n",
       "0    No  \n",
       "1    No  \n",
       "2   Yes  \n",
       "3    No  \n",
       "4   Yes  "
      ]
     },
     "execution_count": 2,
     "metadata": {},
     "output_type": "execute_result"
    }
   ],
   "source": [
    "input_path = '../data'\n",
    "df = pd.read_csv(os.path.join(input_path, 'WA_Fn-UseC_-Telco-Customer-Churn.csv'))\n",
    "\n",
    "# TotalCharges列に空文字が存在して文字列型になっているので欠損値に置換して少数型にしておく\n",
    "col = 'TotalCharges'\n",
    "df[col] = df[col].replace({' ': np.nan}).astype(float)\n",
    "\n",
    "df.head()"
   ]
  },
  {
   "cell_type": "markdown",
   "metadata": {
    "tags": []
   },
   "source": [
    "## Data Partition"
   ]
  },
  {
   "cell_type": "code",
   "execution_count": 3,
   "metadata": {},
   "outputs": [
    {
     "name": "stdout",
     "output_type": "stream",
     "text": [
      "original_size: (7043, 21)\n",
      "train_size: (5634, 21)\n",
      "test_size: (1409, 21)\n"
     ]
    }
   ],
   "source": [
    "from sklearn.model_selection import train_test_split\n",
    "\n",
    "train_df, test_df = train_test_split(df, train_size=0.8, random_state=2021, shuffle=True)\n",
    "print('original_size:', df.shape)\n",
    "print('train_size:', train_df.shape)\n",
    "print('test_size:', test_df.shape)"
   ]
  },
  {
   "cell_type": "markdown",
   "metadata": {},
   "source": [
    "## Data Preparation"
   ]
  },
  {
   "cell_type": "code",
   "execution_count": 4,
   "metadata": {},
   "outputs": [],
   "source": [
    "from sklearn.preprocessing import StandardScaler\n",
    "from category_encoders import OrdinalEncoder"
   ]
  },
  {
   "cell_type": "code",
   "execution_count": 5,
   "metadata": {},
   "outputs": [
    {
     "name": "stderr",
     "output_type": "stream",
     "text": [
      "/var/folders/v6/1f2j3j154zj9g03clj2_yt_00000gn/T/ipykernel_7810/1495117370.py:23: FutureWarning: Dropping of nuisance columns in DataFrame reductions (with 'numeric_only=None') is deprecated; in a future version this will raise TypeError.  Select only valid columns before calling the reduction.\n",
      "  train_df.fillna(train_df.median(), inplace=True)\n",
      "/var/folders/v6/1f2j3j154zj9g03clj2_yt_00000gn/T/ipykernel_7810/1495117370.py:24: FutureWarning: Dropping of nuisance columns in DataFrame reductions (with 'numeric_only=None') is deprecated; in a future version this will raise TypeError.  Select only valid columns before calling the reduction.\n",
      "  test_df.fillna(train_df.median(), inplace=True)\n"
     ]
    },
    {
     "data": {
      "text/html": [
       "<div>\n",
       "<style scoped>\n",
       "    .dataframe tbody tr th:only-of-type {\n",
       "        vertical-align: middle;\n",
       "    }\n",
       "\n",
       "    .dataframe tbody tr th {\n",
       "        vertical-align: top;\n",
       "    }\n",
       "\n",
       "    .dataframe thead th {\n",
       "        text-align: right;\n",
       "    }\n",
       "</style>\n",
       "<table border=\"1\" class=\"dataframe\">\n",
       "  <thead>\n",
       "    <tr style=\"text-align: right;\">\n",
       "      <th></th>\n",
       "      <th>customerID</th>\n",
       "      <th>gender</th>\n",
       "      <th>SeniorCitizen</th>\n",
       "      <th>Partner</th>\n",
       "      <th>Dependents</th>\n",
       "      <th>tenure</th>\n",
       "      <th>PhoneService</th>\n",
       "      <th>MultipleLines</th>\n",
       "      <th>InternetService</th>\n",
       "      <th>OnlineSecurity</th>\n",
       "      <th>OnlineBackup</th>\n",
       "      <th>DeviceProtection</th>\n",
       "      <th>TechSupport</th>\n",
       "      <th>StreamingTV</th>\n",
       "      <th>StreamingMovies</th>\n",
       "      <th>Contract</th>\n",
       "      <th>PaperlessBilling</th>\n",
       "      <th>PaymentMethod</th>\n",
       "      <th>MonthlyCharges</th>\n",
       "      <th>TotalCharges</th>\n",
       "      <th>Churn</th>\n",
       "    </tr>\n",
       "  </thead>\n",
       "  <tbody>\n",
       "    <tr>\n",
       "      <th>6125</th>\n",
       "      <td>0871-URUWO</td>\n",
       "      <td>1</td>\n",
       "      <td>0</td>\n",
       "      <td>1</td>\n",
       "      <td>1</td>\n",
       "      <td>-0.791990</td>\n",
       "      <td>1</td>\n",
       "      <td>1</td>\n",
       "      <td>1</td>\n",
       "      <td>1</td>\n",
       "      <td>1</td>\n",
       "      <td>1</td>\n",
       "      <td>1</td>\n",
       "      <td>1</td>\n",
       "      <td>1</td>\n",
       "      <td>1</td>\n",
       "      <td>1</td>\n",
       "      <td>1</td>\n",
       "      <td>1.255598</td>\n",
       "      <td>-0.403651</td>\n",
       "      <td>1</td>\n",
       "    </tr>\n",
       "    <tr>\n",
       "      <th>6958</th>\n",
       "      <td>3078-ZKNTS</td>\n",
       "      <td>2</td>\n",
       "      <td>0</td>\n",
       "      <td>1</td>\n",
       "      <td>2</td>\n",
       "      <td>-0.791990</td>\n",
       "      <td>1</td>\n",
       "      <td>2</td>\n",
       "      <td>2</td>\n",
       "      <td>2</td>\n",
       "      <td>2</td>\n",
       "      <td>2</td>\n",
       "      <td>2</td>\n",
       "      <td>2</td>\n",
       "      <td>2</td>\n",
       "      <td>2</td>\n",
       "      <td>1</td>\n",
       "      <td>2</td>\n",
       "      <td>-1.485131</td>\n",
       "      <td>-0.894834</td>\n",
       "      <td>0</td>\n",
       "    </tr>\n",
       "    <tr>\n",
       "      <th>4062</th>\n",
       "      <td>1915-IOFGU</td>\n",
       "      <td>2</td>\n",
       "      <td>0</td>\n",
       "      <td>2</td>\n",
       "      <td>1</td>\n",
       "      <td>-1.280574</td>\n",
       "      <td>1</td>\n",
       "      <td>2</td>\n",
       "      <td>1</td>\n",
       "      <td>1</td>\n",
       "      <td>1</td>\n",
       "      <td>3</td>\n",
       "      <td>1</td>\n",
       "      <td>3</td>\n",
       "      <td>3</td>\n",
       "      <td>1</td>\n",
       "      <td>2</td>\n",
       "      <td>3</td>\n",
       "      <td>0.200833</td>\n",
       "      <td>-0.972643</td>\n",
       "      <td>1</td>\n",
       "    </tr>\n",
       "    <tr>\n",
       "      <th>5298</th>\n",
       "      <td>5647-FXOTP</td>\n",
       "      <td>2</td>\n",
       "      <td>1</td>\n",
       "      <td>1</td>\n",
       "      <td>1</td>\n",
       "      <td>1.121629</td>\n",
       "      <td>1</td>\n",
       "      <td>1</td>\n",
       "      <td>1</td>\n",
       "      <td>1</td>\n",
       "      <td>3</td>\n",
       "      <td>1</td>\n",
       "      <td>1</td>\n",
       "      <td>1</td>\n",
       "      <td>1</td>\n",
       "      <td>1</td>\n",
       "      <td>1</td>\n",
       "      <td>3</td>\n",
       "      <td>1.376855</td>\n",
       "      <td>1.822967</td>\n",
       "      <td>0</td>\n",
       "    </tr>\n",
       "    <tr>\n",
       "      <th>1214</th>\n",
       "      <td>9866-QEVEE</td>\n",
       "      <td>1</td>\n",
       "      <td>0</td>\n",
       "      <td>2</td>\n",
       "      <td>1</td>\n",
       "      <td>-0.547698</td>\n",
       "      <td>1</td>\n",
       "      <td>1</td>\n",
       "      <td>1</td>\n",
       "      <td>1</td>\n",
       "      <td>1</td>\n",
       "      <td>3</td>\n",
       "      <td>1</td>\n",
       "      <td>3</td>\n",
       "      <td>1</td>\n",
       "      <td>1</td>\n",
       "      <td>1</td>\n",
       "      <td>2</td>\n",
       "      <td>0.715758</td>\n",
       "      <td>-0.327057</td>\n",
       "      <td>1</td>\n",
       "    </tr>\n",
       "  </tbody>\n",
       "</table>\n",
       "</div>"
      ],
      "text/plain": [
       "      customerID  gender  SeniorCitizen  Partner  Dependents    tenure  \\\n",
       "6125  0871-URUWO       1              0        1           1 -0.791990   \n",
       "6958  3078-ZKNTS       2              0        1           2 -0.791990   \n",
       "4062  1915-IOFGU       2              0        2           1 -1.280574   \n",
       "5298  5647-FXOTP       2              1        1           1  1.121629   \n",
       "1214  9866-QEVEE       1              0        2           1 -0.547698   \n",
       "\n",
       "      PhoneService  MultipleLines  InternetService  OnlineSecurity  \\\n",
       "6125             1              1                1               1   \n",
       "6958             1              2                2               2   \n",
       "4062             1              2                1               1   \n",
       "5298             1              1                1               1   \n",
       "1214             1              1                1               1   \n",
       "\n",
       "      OnlineBackup  DeviceProtection  TechSupport  StreamingTV  \\\n",
       "6125             1                 1            1            1   \n",
       "6958             2                 2            2            2   \n",
       "4062             1                 3            1            3   \n",
       "5298             3                 1            1            1   \n",
       "1214             1                 3            1            3   \n",
       "\n",
       "      StreamingMovies  Contract  PaperlessBilling  PaymentMethod  \\\n",
       "6125                1         1                 1              1   \n",
       "6958                2         2                 1              2   \n",
       "4062                3         1                 2              3   \n",
       "5298                1         1                 1              3   \n",
       "1214                1         1                 1              2   \n",
       "\n",
       "      MonthlyCharges  TotalCharges  Churn  \n",
       "6125        1.255598     -0.403651      1  \n",
       "6958       -1.485131     -0.894834      0  \n",
       "4062        0.200833     -0.972643      1  \n",
       "5298        1.376855      1.822967      0  \n",
       "1214        0.715758     -0.327057      1  "
      ]
     },
     "execution_count": 5,
     "metadata": {},
     "output_type": "execute_result"
    }
   ],
   "source": [
    "# ターゲットを変換\n",
    "train_df['Churn'] = train_df['Churn'].map({'Yes':1, 'No':0})\n",
    "test_df['Churn'] = test_df['Churn'].map({'Yes':1, 'No':0})\n",
    "\n",
    "# 数値変数の標準化\n",
    "# 今回はツリー系アルゴリズムを使用する本来は不要だが、勉強のために実施しておく\n",
    "num_cols = ['tenure', 'MonthlyCharges', 'TotalCharges']\n",
    "scaler = StandardScaler()\n",
    "train_df[num_cols] = scaler.fit_transform(train_df[num_cols])\n",
    "test_df[num_cols] = scaler.transform(test_df[num_cols])\n",
    "\n",
    "# customerID以外のカテゴリ変数をOrdinalエンコーディング\n",
    "cat_cols = []\n",
    "for col in train_df.columns:\n",
    "    if train_df[col].dtype == 'object':\n",
    "        cat_cols.append(col)\n",
    "cat_cols.remove('customerID')\n",
    "encoder = OrdinalEncoder()\n",
    "train_df[cat_cols] = encoder.fit_transform(train_df[cat_cols])\n",
    "test_df[cat_cols] = encoder.transform(test_df[cat_cols])\n",
    "\n",
    "# 欠損値をトレーニングデータの中央値で保管\n",
    "train_df.fillna(train_df.median(), inplace=True)\n",
    "test_df.fillna(train_df.median(), inplace=True)\n",
    "\n",
    "# 前処理後のデータプレビュー\n",
    "train_df.head()"
   ]
  },
  {
   "cell_type": "code",
   "execution_count": 6,
   "metadata": {},
   "outputs": [
    {
     "name": "stdout",
     "output_type": "stream",
     "text": [
      "<class 'pandas.core.frame.DataFrame'>\n",
      "Int64Index: 5634 entries, 6125 to 1140\n",
      "Data columns (total 21 columns):\n",
      " #   Column            Non-Null Count  Dtype  \n",
      "---  ------            --------------  -----  \n",
      " 0   customerID        5634 non-null   object \n",
      " 1   gender            5634 non-null   int64  \n",
      " 2   SeniorCitizen     5634 non-null   int64  \n",
      " 3   Partner           5634 non-null   int64  \n",
      " 4   Dependents        5634 non-null   int64  \n",
      " 5   tenure            5634 non-null   float64\n",
      " 6   PhoneService      5634 non-null   int64  \n",
      " 7   MultipleLines     5634 non-null   int64  \n",
      " 8   InternetService   5634 non-null   int64  \n",
      " 9   OnlineSecurity    5634 non-null   int64  \n",
      " 10  OnlineBackup      5634 non-null   int64  \n",
      " 11  DeviceProtection  5634 non-null   int64  \n",
      " 12  TechSupport       5634 non-null   int64  \n",
      " 13  StreamingTV       5634 non-null   int64  \n",
      " 14  StreamingMovies   5634 non-null   int64  \n",
      " 15  Contract          5634 non-null   int64  \n",
      " 16  PaperlessBilling  5634 non-null   int64  \n",
      " 17  PaymentMethod     5634 non-null   int64  \n",
      " 18  MonthlyCharges    5634 non-null   float64\n",
      " 19  TotalCharges      5634 non-null   float64\n",
      " 20  Churn             5634 non-null   int64  \n",
      "dtypes: float64(3), int64(17), object(1)\n",
      "memory usage: 968.3+ KB\n"
     ]
    }
   ],
   "source": [
    "train_df.info()"
   ]
  },
  {
   "cell_type": "markdown",
   "metadata": {},
   "source": [
    "## Modeling"
   ]
  },
  {
   "cell_type": "markdown",
   "metadata": {},
   "source": [
    "LightGBMでモデルを作成する  \n",
    "バリデーションスキームはLeave One Outで、ランダムに8:2に分割する"
   ]
  },
  {
   "cell_type": "code",
   "execution_count": 6,
   "metadata": {},
   "outputs": [],
   "source": [
    "import lightgbm as lgb"
   ]
  },
  {
   "cell_type": "code",
   "execution_count": 8,
   "metadata": {
    "collapsed": true,
    "jupyter": {
     "outputs_hidden": true
    },
    "tags": []
   },
   "outputs": [
    {
     "name": "stdout",
     "output_type": "stream",
     "text": [
      "[1]\tvalid_0's binary_logloss: 0.577526\n",
      "Training until validation scores don't improve for 200 rounds\n",
      "[2]\tvalid_0's binary_logloss: 0.572274\n",
      "[3]\tvalid_0's binary_logloss: 0.567982\n",
      "[4]\tvalid_0's binary_logloss: 0.563359\n",
      "[5]\tvalid_0's binary_logloss: 0.558653\n",
      "[6]\tvalid_0's binary_logloss: 0.554153\n",
      "[7]\tvalid_0's binary_logloss: 0.550236\n",
      "[8]\tvalid_0's binary_logloss: 0.546518\n",
      "[9]\tvalid_0's binary_logloss: 0.542333\n",
      "[10]\tvalid_0's binary_logloss: 0.538431\n",
      "[11]\tvalid_0's binary_logloss: 0.534706\n",
      "[12]\tvalid_0's binary_logloss: 0.531111\n",
      "[13]\tvalid_0's binary_logloss: 0.528088\n",
      "[14]\tvalid_0's binary_logloss: 0.525296\n",
      "[15]\tvalid_0's binary_logloss: 0.522425\n",
      "[16]\tvalid_0's binary_logloss: 0.519348\n",
      "[17]\tvalid_0's binary_logloss: 0.516887\n",
      "[18]\tvalid_0's binary_logloss: 0.514061\n",
      "[19]\tvalid_0's binary_logloss: 0.511301\n",
      "[20]\tvalid_0's binary_logloss: 0.508807\n",
      "[21]\tvalid_0's binary_logloss: 0.506329\n",
      "[22]\tvalid_0's binary_logloss: 0.50411\n",
      "[23]\tvalid_0's binary_logloss: 0.501851\n",
      "[24]\tvalid_0's binary_logloss: 0.499716\n",
      "[25]\tvalid_0's binary_logloss: 0.497779\n",
      "[26]\tvalid_0's binary_logloss: 0.495922\n",
      "[27]\tvalid_0's binary_logloss: 0.493929\n",
      "[28]\tvalid_0's binary_logloss: 0.491998\n",
      "[29]\tvalid_0's binary_logloss: 0.490276\n",
      "[30]\tvalid_0's binary_logloss: 0.488587\n",
      "[31]\tvalid_0's binary_logloss: 0.486714\n",
      "[32]\tvalid_0's binary_logloss: 0.485158\n",
      "[33]\tvalid_0's binary_logloss: 0.483525\n",
      "[34]\tvalid_0's binary_logloss: 0.482124\n",
      "[35]\tvalid_0's binary_logloss: 0.480529\n",
      "[36]\tvalid_0's binary_logloss: 0.47897\n",
      "[37]\tvalid_0's binary_logloss: 0.477596\n",
      "[38]\tvalid_0's binary_logloss: 0.476114\n",
      "[39]\tvalid_0's binary_logloss: 0.475058\n",
      "[40]\tvalid_0's binary_logloss: 0.474079\n",
      "[41]\tvalid_0's binary_logloss: 0.472769\n",
      "[42]\tvalid_0's binary_logloss: 0.471606\n",
      "[43]\tvalid_0's binary_logloss: 0.470675\n",
      "[44]\tvalid_0's binary_logloss: 0.469493\n",
      "[45]\tvalid_0's binary_logloss: 0.468353\n",
      "[46]\tvalid_0's binary_logloss: 0.46738\n",
      "[47]\tvalid_0's binary_logloss: 0.466527\n",
      "[48]\tvalid_0's binary_logloss: 0.465471\n",
      "[49]\tvalid_0's binary_logloss: 0.464454\n",
      "[50]\tvalid_0's binary_logloss: 0.46356\n",
      "[51]\tvalid_0's binary_logloss: 0.462611\n",
      "[52]\tvalid_0's binary_logloss: 0.461748\n",
      "[53]\tvalid_0's binary_logloss: 0.46112\n",
      "[54]\tvalid_0's binary_logloss: 0.460316\n",
      "[55]\tvalid_0's binary_logloss: 0.459494\n",
      "[56]\tvalid_0's binary_logloss: 0.458465\n",
      "[57]\tvalid_0's binary_logloss: 0.457726\n",
      "[58]\tvalid_0's binary_logloss: 0.457024\n",
      "[59]\tvalid_0's binary_logloss: 0.456233\n",
      "[60]\tvalid_0's binary_logloss: 0.455543\n",
      "[61]\tvalid_0's binary_logloss: 0.454927\n",
      "[62]\tvalid_0's binary_logloss: 0.454379\n",
      "[63]\tvalid_0's binary_logloss: 0.45392\n",
      "[64]\tvalid_0's binary_logloss: 0.453455\n",
      "[65]\tvalid_0's binary_logloss: 0.452938\n",
      "[66]\tvalid_0's binary_logloss: 0.452361\n",
      "[67]\tvalid_0's binary_logloss: 0.451732\n",
      "[68]\tvalid_0's binary_logloss: 0.451315\n",
      "[69]\tvalid_0's binary_logloss: 0.450978\n",
      "[70]\tvalid_0's binary_logloss: 0.450674\n",
      "[71]\tvalid_0's binary_logloss: 0.450165\n",
      "[72]\tvalid_0's binary_logloss: 0.449878\n",
      "[73]\tvalid_0's binary_logloss: 0.449303\n",
      "[74]\tvalid_0's binary_logloss: 0.449\n",
      "[75]\tvalid_0's binary_logloss: 0.448693\n",
      "[76]\tvalid_0's binary_logloss: 0.448174\n",
      "[77]\tvalid_0's binary_logloss: 0.447649\n",
      "[78]\tvalid_0's binary_logloss: 0.447344\n",
      "[79]\tvalid_0's binary_logloss: 0.446832\n",
      "[80]\tvalid_0's binary_logloss: 0.446405\n",
      "[81]\tvalid_0's binary_logloss: 0.446118\n",
      "[82]\tvalid_0's binary_logloss: 0.445756\n",
      "[83]\tvalid_0's binary_logloss: 0.445417\n",
      "[84]\tvalid_0's binary_logloss: 0.445059\n",
      "[85]\tvalid_0's binary_logloss: 0.444641\n",
      "[86]\tvalid_0's binary_logloss: 0.44443\n",
      "[87]\tvalid_0's binary_logloss: 0.444163\n",
      "[88]\tvalid_0's binary_logloss: 0.443958\n",
      "[89]\tvalid_0's binary_logloss: 0.443681\n",
      "[90]\tvalid_0's binary_logloss: 0.443459\n",
      "[91]\tvalid_0's binary_logloss: 0.443288\n",
      "[92]\tvalid_0's binary_logloss: 0.443146\n",
      "[93]\tvalid_0's binary_logloss: 0.443045\n",
      "[94]\tvalid_0's binary_logloss: 0.44288\n",
      "[95]\tvalid_0's binary_logloss: 0.442513\n",
      "[96]\tvalid_0's binary_logloss: 0.442107\n",
      "[97]\tvalid_0's binary_logloss: 0.441867\n",
      "[98]\tvalid_0's binary_logloss: 0.441567\n",
      "[99]\tvalid_0's binary_logloss: 0.44137\n",
      "[100]\tvalid_0's binary_logloss: 0.441102\n",
      "[101]\tvalid_0's binary_logloss: 0.440808\n",
      "[102]\tvalid_0's binary_logloss: 0.440491\n",
      "[103]\tvalid_0's binary_logloss: 0.440253\n",
      "[104]\tvalid_0's binary_logloss: 0.440038\n",
      "[105]\tvalid_0's binary_logloss: 0.439791\n",
      "[106]\tvalid_0's binary_logloss: 0.439534\n",
      "[107]\tvalid_0's binary_logloss: 0.439376\n",
      "[108]\tvalid_0's binary_logloss: 0.439299\n",
      "[109]\tvalid_0's binary_logloss: 0.439123\n",
      "[110]\tvalid_0's binary_logloss: 0.43907\n",
      "[111]\tvalid_0's binary_logloss: 0.438831\n",
      "[112]\tvalid_0's binary_logloss: 0.438786\n",
      "[113]\tvalid_0's binary_logloss: 0.438692\n",
      "[114]\tvalid_0's binary_logloss: 0.438433\n",
      "[115]\tvalid_0's binary_logloss: 0.438411\n",
      "[116]\tvalid_0's binary_logloss: 0.438193\n",
      "[117]\tvalid_0's binary_logloss: 0.43796\n",
      "[118]\tvalid_0's binary_logloss: 0.437875\n",
      "[119]\tvalid_0's binary_logloss: 0.437685\n",
      "[120]\tvalid_0's binary_logloss: 0.437657\n",
      "[121]\tvalid_0's binary_logloss: 0.437424\n",
      "[122]\tvalid_0's binary_logloss: 0.437211\n",
      "[123]\tvalid_0's binary_logloss: 0.436957\n",
      "[124]\tvalid_0's binary_logloss: 0.436775\n",
      "[125]\tvalid_0's binary_logloss: 0.436714\n",
      "[126]\tvalid_0's binary_logloss: 0.436699\n",
      "[127]\tvalid_0's binary_logloss: 0.436641\n",
      "[128]\tvalid_0's binary_logloss: 0.436681\n",
      "[129]\tvalid_0's binary_logloss: 0.436639\n",
      "[130]\tvalid_0's binary_logloss: 0.436655\n",
      "[131]\tvalid_0's binary_logloss: 0.436561\n",
      "[132]\tvalid_0's binary_logloss: 0.436505\n",
      "[133]\tvalid_0's binary_logloss: 0.436462\n",
      "[134]\tvalid_0's binary_logloss: 0.436577\n",
      "[135]\tvalid_0's binary_logloss: 0.436604\n",
      "[136]\tvalid_0's binary_logloss: 0.436547\n",
      "[137]\tvalid_0's binary_logloss: 0.436512\n",
      "[138]\tvalid_0's binary_logloss: 0.436572\n",
      "[139]\tvalid_0's binary_logloss: 0.436575\n",
      "[140]\tvalid_0's binary_logloss: 0.436558\n",
      "[141]\tvalid_0's binary_logloss: 0.436572\n",
      "[142]\tvalid_0's binary_logloss: 0.436587\n",
      "[143]\tvalid_0's binary_logloss: 0.436579\n",
      "[144]\tvalid_0's binary_logloss: 0.436622\n",
      "[145]\tvalid_0's binary_logloss: 0.436631\n",
      "[146]\tvalid_0's binary_logloss: 0.436708\n",
      "[147]\tvalid_0's binary_logloss: 0.436746\n",
      "[148]\tvalid_0's binary_logloss: 0.436584\n",
      "[149]\tvalid_0's binary_logloss: 0.436556\n",
      "[150]\tvalid_0's binary_logloss: 0.436594\n",
      "[151]\tvalid_0's binary_logloss: 0.436502\n",
      "[152]\tvalid_0's binary_logloss: 0.436412\n",
      "[153]\tvalid_0's binary_logloss: 0.436476\n",
      "[154]\tvalid_0's binary_logloss: 0.436432\n",
      "[155]\tvalid_0's binary_logloss: 0.436255\n",
      "[156]\tvalid_0's binary_logloss: 0.436111\n",
      "[157]\tvalid_0's binary_logloss: 0.436207\n",
      "[158]\tvalid_0's binary_logloss: 0.436116\n",
      "[159]\tvalid_0's binary_logloss: 0.436122\n",
      "[160]\tvalid_0's binary_logloss: 0.435864\n",
      "[161]\tvalid_0's binary_logloss: 0.435819\n",
      "[162]\tvalid_0's binary_logloss: 0.435793\n",
      "[163]\tvalid_0's binary_logloss: 0.435763\n",
      "[164]\tvalid_0's binary_logloss: 0.435759\n",
      "[165]\tvalid_0's binary_logloss: 0.435732\n",
      "[166]\tvalid_0's binary_logloss: 0.435746\n",
      "[167]\tvalid_0's binary_logloss: 0.435753\n",
      "[168]\tvalid_0's binary_logloss: 0.43575\n",
      "[169]\tvalid_0's binary_logloss: 0.435814\n",
      "[170]\tvalid_0's binary_logloss: 0.435854\n",
      "[171]\tvalid_0's binary_logloss: 0.435847\n",
      "[172]\tvalid_0's binary_logloss: 0.435931\n",
      "[173]\tvalid_0's binary_logloss: 0.436002\n",
      "[174]\tvalid_0's binary_logloss: 0.435974\n",
      "[175]\tvalid_0's binary_logloss: 0.43606\n",
      "[176]\tvalid_0's binary_logloss: 0.436095\n",
      "[177]\tvalid_0's binary_logloss: 0.436053\n",
      "[178]\tvalid_0's binary_logloss: 0.436059\n",
      "[179]\tvalid_0's binary_logloss: 0.436037\n",
      "[180]\tvalid_0's binary_logloss: 0.435962\n",
      "[181]\tvalid_0's binary_logloss: 0.436007\n",
      "[182]\tvalid_0's binary_logloss: 0.436084\n",
      "[183]\tvalid_0's binary_logloss: 0.436098\n",
      "[184]\tvalid_0's binary_logloss: 0.436193\n",
      "[185]\tvalid_0's binary_logloss: 0.436179\n",
      "[186]\tvalid_0's binary_logloss: 0.436343\n",
      "[187]\tvalid_0's binary_logloss: 0.436428\n",
      "[188]\tvalid_0's binary_logloss: 0.436241\n",
      "[189]\tvalid_0's binary_logloss: 0.436209\n",
      "[190]\tvalid_0's binary_logloss: 0.436307\n",
      "[191]\tvalid_0's binary_logloss: 0.436335\n",
      "[192]\tvalid_0's binary_logloss: 0.436362\n",
      "[193]\tvalid_0's binary_logloss: 0.436417\n",
      "[194]\tvalid_0's binary_logloss: 0.436479\n",
      "[195]\tvalid_0's binary_logloss: 0.436552\n",
      "[196]\tvalid_0's binary_logloss: 0.436548\n",
      "[197]\tvalid_0's binary_logloss: 0.436503\n",
      "[198]\tvalid_0's binary_logloss: 0.436563\n",
      "[199]\tvalid_0's binary_logloss: 0.436603\n",
      "[200]\tvalid_0's binary_logloss: 0.436624\n",
      "[201]\tvalid_0's binary_logloss: 0.436603\n",
      "[202]\tvalid_0's binary_logloss: 0.436588\n",
      "[203]\tvalid_0's binary_logloss: 0.436668\n",
      "[204]\tvalid_0's binary_logloss: 0.436735\n",
      "[205]\tvalid_0's binary_logloss: 0.436753\n",
      "[206]\tvalid_0's binary_logloss: 0.436678\n",
      "[207]\tvalid_0's binary_logloss: 0.436573\n",
      "[208]\tvalid_0's binary_logloss: 0.436526\n",
      "[209]\tvalid_0's binary_logloss: 0.436476\n",
      "[210]\tvalid_0's binary_logloss: 0.436462\n",
      "[211]\tvalid_0's binary_logloss: 0.436341\n",
      "[212]\tvalid_0's binary_logloss: 0.436347\n",
      "[213]\tvalid_0's binary_logloss: 0.436317\n",
      "[214]\tvalid_0's binary_logloss: 0.436302\n",
      "[215]\tvalid_0's binary_logloss: 0.436307\n",
      "[216]\tvalid_0's binary_logloss: 0.436466\n",
      "[217]\tvalid_0's binary_logloss: 0.436483\n",
      "[218]\tvalid_0's binary_logloss: 0.436593\n",
      "[219]\tvalid_0's binary_logloss: 0.436623\n",
      "[220]\tvalid_0's binary_logloss: 0.436695\n",
      "[221]\tvalid_0's binary_logloss: 0.436689\n",
      "[222]\tvalid_0's binary_logloss: 0.436665\n",
      "[223]\tvalid_0's binary_logloss: 0.436676\n",
      "[224]\tvalid_0's binary_logloss: 0.436725\n",
      "[225]\tvalid_0's binary_logloss: 0.436715\n",
      "[226]\tvalid_0's binary_logloss: 0.436851\n",
      "[227]\tvalid_0's binary_logloss: 0.436901\n",
      "[228]\tvalid_0's binary_logloss: 0.436937\n",
      "[229]\tvalid_0's binary_logloss: 0.43698\n",
      "[230]\tvalid_0's binary_logloss: 0.436938\n",
      "[231]\tvalid_0's binary_logloss: 0.436993\n",
      "[232]\tvalid_0's binary_logloss: 0.437085\n",
      "[233]\tvalid_0's binary_logloss: 0.437147\n",
      "[234]\tvalid_0's binary_logloss: 0.437283\n",
      "[235]\tvalid_0's binary_logloss: 0.437253\n",
      "[236]\tvalid_0's binary_logloss: 0.437254\n",
      "[237]\tvalid_0's binary_logloss: 0.437211\n",
      "[238]\tvalid_0's binary_logloss: 0.437241\n",
      "[239]\tvalid_0's binary_logloss: 0.437252\n",
      "[240]\tvalid_0's binary_logloss: 0.437288\n",
      "[241]\tvalid_0's binary_logloss: 0.437314\n",
      "[242]\tvalid_0's binary_logloss: 0.437481\n",
      "[243]\tvalid_0's binary_logloss: 0.437572\n",
      "[244]\tvalid_0's binary_logloss: 0.437677\n",
      "[245]\tvalid_0's binary_logloss: 0.437815\n",
      "[246]\tvalid_0's binary_logloss: 0.437892\n",
      "[247]\tvalid_0's binary_logloss: 0.437816\n",
      "[248]\tvalid_0's binary_logloss: 0.437781\n",
      "[249]\tvalid_0's binary_logloss: 0.43773\n",
      "[250]\tvalid_0's binary_logloss: 0.437708\n",
      "[251]\tvalid_0's binary_logloss: 0.437897\n",
      "[252]\tvalid_0's binary_logloss: 0.438011\n",
      "[253]\tvalid_0's binary_logloss: 0.438133\n",
      "[254]\tvalid_0's binary_logloss: 0.438183\n",
      "[255]\tvalid_0's binary_logloss: 0.438201\n",
      "[256]\tvalid_0's binary_logloss: 0.438212\n",
      "[257]\tvalid_0's binary_logloss: 0.438318\n",
      "[258]\tvalid_0's binary_logloss: 0.438391\n",
      "[259]\tvalid_0's binary_logloss: 0.43841\n",
      "[260]\tvalid_0's binary_logloss: 0.438503\n",
      "[261]\tvalid_0's binary_logloss: 0.43847\n",
      "[262]\tvalid_0's binary_logloss: 0.438449\n",
      "[263]\tvalid_0's binary_logloss: 0.438417\n",
      "[264]\tvalid_0's binary_logloss: 0.438383\n",
      "[265]\tvalid_0's binary_logloss: 0.4384\n",
      "[266]\tvalid_0's binary_logloss: 0.438455\n",
      "[267]\tvalid_0's binary_logloss: 0.438541\n",
      "[268]\tvalid_0's binary_logloss: 0.438592\n",
      "[269]\tvalid_0's binary_logloss: 0.438566\n",
      "[270]\tvalid_0's binary_logloss: 0.43868\n",
      "[271]\tvalid_0's binary_logloss: 0.438816\n",
      "[272]\tvalid_0's binary_logloss: 0.438896\n",
      "[273]\tvalid_0's binary_logloss: 0.439062\n",
      "[274]\tvalid_0's binary_logloss: 0.439013\n",
      "[275]\tvalid_0's binary_logloss: 0.439192\n",
      "[276]\tvalid_0's binary_logloss: 0.439293\n",
      "[277]\tvalid_0's binary_logloss: 0.439382\n",
      "[278]\tvalid_0's binary_logloss: 0.439419\n",
      "[279]\tvalid_0's binary_logloss: 0.439547\n",
      "[280]\tvalid_0's binary_logloss: 0.439666\n",
      "[281]\tvalid_0's binary_logloss: 0.439677\n",
      "[282]\tvalid_0's binary_logloss: 0.439734\n",
      "[283]\tvalid_0's binary_logloss: 0.43975\n",
      "[284]\tvalid_0's binary_logloss: 0.439852\n",
      "[285]\tvalid_0's binary_logloss: 0.439959\n",
      "[286]\tvalid_0's binary_logloss: 0.440025\n",
      "[287]\tvalid_0's binary_logloss: 0.440101\n",
      "[288]\tvalid_0's binary_logloss: 0.440201\n",
      "[289]\tvalid_0's binary_logloss: 0.440276\n",
      "[290]\tvalid_0's binary_logloss: 0.440361\n",
      "[291]\tvalid_0's binary_logloss: 0.44039\n",
      "[292]\tvalid_0's binary_logloss: 0.440439\n",
      "[293]\tvalid_0's binary_logloss: 0.440381\n",
      "[294]\tvalid_0's binary_logloss: 0.440442\n",
      "[295]\tvalid_0's binary_logloss: 0.440426\n",
      "[296]\tvalid_0's binary_logloss: 0.440364\n",
      "[297]\tvalid_0's binary_logloss: 0.440357\n",
      "[298]\tvalid_0's binary_logloss: 0.440518\n",
      "[299]\tvalid_0's binary_logloss: 0.44055\n",
      "[300]\tvalid_0's binary_logloss: 0.440689\n",
      "[301]\tvalid_0's binary_logloss: 0.440729\n",
      "[302]\tvalid_0's binary_logloss: 0.44063\n",
      "[303]\tvalid_0's binary_logloss: 0.440597\n",
      "[304]\tvalid_0's binary_logloss: 0.44061\n",
      "[305]\tvalid_0's binary_logloss: 0.440613\n",
      "[306]\tvalid_0's binary_logloss: 0.440688\n",
      "[307]\tvalid_0's binary_logloss: 0.440764\n",
      "[308]\tvalid_0's binary_logloss: 0.440729\n",
      "[309]\tvalid_0's binary_logloss: 0.440787\n",
      "[310]\tvalid_0's binary_logloss: 0.440869\n",
      "[311]\tvalid_0's binary_logloss: 0.440893\n",
      "[312]\tvalid_0's binary_logloss: 0.440946\n",
      "[313]\tvalid_0's binary_logloss: 0.440942\n",
      "[314]\tvalid_0's binary_logloss: 0.44098\n",
      "[315]\tvalid_0's binary_logloss: 0.441029\n",
      "[316]\tvalid_0's binary_logloss: 0.441155\n",
      "[317]\tvalid_0's binary_logloss: 0.441139\n",
      "[318]\tvalid_0's binary_logloss: 0.44113\n",
      "[319]\tvalid_0's binary_logloss: 0.441205\n",
      "[320]\tvalid_0's binary_logloss: 0.441366\n",
      "[321]\tvalid_0's binary_logloss: 0.441273\n",
      "[322]\tvalid_0's binary_logloss: 0.441359\n",
      "[323]\tvalid_0's binary_logloss: 0.441337\n",
      "[324]\tvalid_0's binary_logloss: 0.441307\n",
      "[325]\tvalid_0's binary_logloss: 0.441286\n",
      "[326]\tvalid_0's binary_logloss: 0.441302\n",
      "[327]\tvalid_0's binary_logloss: 0.441183\n",
      "[328]\tvalid_0's binary_logloss: 0.441198\n",
      "[329]\tvalid_0's binary_logloss: 0.441218\n",
      "[330]\tvalid_0's binary_logloss: 0.441239\n",
      "[331]\tvalid_0's binary_logloss: 0.441189\n",
      "[332]\tvalid_0's binary_logloss: 0.441211\n",
      "[333]\tvalid_0's binary_logloss: 0.441177\n",
      "[334]\tvalid_0's binary_logloss: 0.441153\n",
      "[335]\tvalid_0's binary_logloss: 0.441205\n",
      "[336]\tvalid_0's binary_logloss: 0.441235\n",
      "[337]\tvalid_0's binary_logloss: 0.441351\n",
      "[338]\tvalid_0's binary_logloss: 0.441366\n",
      "[339]\tvalid_0's binary_logloss: 0.441497\n",
      "[340]\tvalid_0's binary_logloss: 0.441521\n",
      "[341]\tvalid_0's binary_logloss: 0.441542\n",
      "[342]\tvalid_0's binary_logloss: 0.441538\n",
      "[343]\tvalid_0's binary_logloss: 0.441526\n",
      "[344]\tvalid_0's binary_logloss: 0.441551\n",
      "[345]\tvalid_0's binary_logloss: 0.441589\n",
      "[346]\tvalid_0's binary_logloss: 0.441528\n",
      "[347]\tvalid_0's binary_logloss: 0.441594\n",
      "[348]\tvalid_0's binary_logloss: 0.441701\n",
      "[349]\tvalid_0's binary_logloss: 0.441742\n",
      "[350]\tvalid_0's binary_logloss: 0.441839\n",
      "[351]\tvalid_0's binary_logloss: 0.441971\n",
      "[352]\tvalid_0's binary_logloss: 0.441979\n",
      "[353]\tvalid_0's binary_logloss: 0.442014\n",
      "[354]\tvalid_0's binary_logloss: 0.442022\n",
      "[355]\tvalid_0's binary_logloss: 0.442021\n",
      "[356]\tvalid_0's binary_logloss: 0.442031\n",
      "[357]\tvalid_0's binary_logloss: 0.442117\n",
      "[358]\tvalid_0's binary_logloss: 0.442084\n",
      "[359]\tvalid_0's binary_logloss: 0.442146\n",
      "[360]\tvalid_0's binary_logloss: 0.442177\n",
      "[361]\tvalid_0's binary_logloss: 0.442242\n",
      "[362]\tvalid_0's binary_logloss: 0.442347\n",
      "[363]\tvalid_0's binary_logloss: 0.442418\n",
      "[364]\tvalid_0's binary_logloss: 0.442495\n",
      "[365]\tvalid_0's binary_logloss: 0.442575\n",
      "Early stopping, best iteration is:\n",
      "[165]\tvalid_0's binary_logloss: 0.435732\n"
     ]
    }
   ],
   "source": [
    "# ターゲットと特徴量に分離\n",
    "train_x = train_df.drop(['customerID','Churn'], axis=1)\n",
    "train_y = train_df['Churn']\n",
    "test_x = test_df.drop(['customerID','Churn'], axis=1)\n",
    "test_y = test_df['Churn']\n",
    "\n",
    "# EarlyStopping用にさらにデータを分割する\n",
    "train_x_, val_x, train_y_, val_y = train_test_split(train_x, train_y, train_size=0.8, random_state=888, shuffle=True)\n",
    "\n",
    "# 学習用のデータ\n",
    "dtrain = lgb.Dataset(data=train_x_, label=train_y_)\n",
    "# EarlyStoppingのためのデータ\n",
    "dval = lgb.Dataset(data=val_x, label=val_y, reference=dtrain)\n",
    "\n",
    "# ハイパーパラメータ設定\n",
    "params = {\n",
    "    'objective': 'binary',\n",
    "    'metric': 'binary_logloss',\n",
    "    'boosting_type': 'gbdt',\n",
    "    'learning_rate': 0.02,\n",
    "    'num_leaves': 15,\n",
    "    'bagging_freq': 5,\n",
    "    'bagging_fraction': 0.8,\n",
    "    'feature_fraction': 0.8,\n",
    "    'random_state': 777,\n",
    "    'min_data_in_leaf': 1,\n",
    "    'verbose': -1\n",
    "}\n",
    "\n",
    "# モデルの学習実行\n",
    "model = lgb.train(\n",
    "    params, dtrain, num_boost_round=9999, valid_sets=dval, early_stopping_rounds=200\n",
    ")"
   ]
  },
  {
   "cell_type": "code",
   "execution_count": 9,
   "metadata": {
    "scrolled": true,
    "tags": []
   },
   "outputs": [
    {
     "name": "stdout",
     "output_type": "stream",
     "text": [
      "validation_score(AUC): 0.8311496770480271\n"
     ]
    }
   ],
   "source": [
    "# EarlyStoppingでトレーニングを打ちとめた時点でのAUCを計算\n",
    "from sklearn.metrics import roc_auc_score\n",
    "\n",
    "val_pred = model.predict(val_x)\n",
    "print('validation_score(AUC):', roc_auc_score(y_true=val_y, y_score=val_pred))"
   ]
  },
  {
   "cell_type": "markdown",
   "metadata": {},
   "source": [
    "## LightGBMオリジナル形式でテスト用データの推論実行"
   ]
  },
  {
   "cell_type": "code",
   "execution_count": 10,
   "metadata": {},
   "outputs": [
    {
     "name": "stdout",
     "output_type": "stream",
     "text": [
      "test_score(AUC): 0.848412674294339\n"
     ]
    }
   ],
   "source": [
    "# テスト用データでのAUCを計算\n",
    "test_pred = model.predict(test_x)\n",
    "\n",
    "print('test_score(AUC):', roc_auc_score(y_true=test_y, y_score=test_pred))"
   ]
  },
  {
   "cell_type": "code",
   "execution_count": 11,
   "metadata": {},
   "outputs": [
    {
     "data": {
      "text/plain": [
       "{'Manually': {'model': 'LightGBM',\n",
       "  'validation_score(AUC)': 0.8311496770480271,\n",
       "  'test_score(AUC)': 0.848412674294339}}"
      ]
     },
     "execution_count": 11,
     "metadata": {},
     "output_type": "execute_result"
    }
   ],
   "source": [
    "# 結果を格納しておく\n",
    "results = {}\n",
    "\n",
    "result = {\n",
    "    'model': 'LightGBM',\n",
    "    'validation_score(AUC)': roc_auc_score(y_true=val_y, y_score=val_pred),\n",
    "    'test_score(AUC)': roc_auc_score(y_true=test_y, y_score=test_pred)\n",
    "}\n",
    "results['Manually'] = result\n",
    "\n",
    "results"
   ]
  },
  {
   "cell_type": "code",
   "execution_count": 20,
   "metadata": {},
   "outputs": [],
   "source": [
    "# テスト用のデータを出力しておく\n",
    "test_x.to_csv(os.path.join(input_path, 'test_x.csv'), encoding='utf-8', index=False)\n",
    "test_y.to_csv(os.path.join(input_path, 'test_y.csv'), encoding='utf-8', index=False)"
   ]
  },
  {
   "cell_type": "markdown",
   "metadata": {},
   "source": [
    "## デプロイ用にモデルをエクスポート"
   ]
  },
  {
   "cell_type": "markdown",
   "metadata": {},
   "source": [
    "作成したLightGBMのモデルをONNX形式でエクスポート  \n",
    "推論サーバで動かせるようにする"
   ]
  },
  {
   "cell_type": "code",
   "execution_count": 12,
   "metadata": {},
   "outputs": [],
   "source": [
    "# LightGBMのモデルをONNX形式でエクスポートするためのライブラリを読み込む\n",
    "import onnxmltools\n",
    "from onnxmltools.convert.common.data_types import FloatTensorType"
   ]
  },
  {
   "cell_type": "code",
   "execution_count": 13,
   "metadata": {},
   "outputs": [],
   "source": [
    "# ONNX形式でエクスポート\n",
    "initial_types = [['inputs', FloatTensorType([None, len(train_x.columns)])]]\n",
    "onnx_model = onnxmltools.convert_lightgbm(model, initial_types=initial_types, target_opset=9)\n",
    "\n",
    "# ノートブック実行ディレクトリの直下に出力したlgb.onnxを、後ほど推論サーバに配置します\n",
    "# 推論サーバ構築作業を行うディレクトリへ直接出力することもできますが、今回はデプロイ作業感を味わいたいので、あえて行っていません\n",
    "onnxmltools.utils.save_model(onnx_model, 'lgb.onnx')"
   ]
  },
  {
   "cell_type": "markdown",
   "metadata": {},
   "source": [
    "## エクスポートしたモデルの動作確認"
   ]
  },
  {
   "cell_type": "code",
   "execution_count": 15,
   "metadata": {
    "tags": []
   },
   "outputs": [
    {
     "name": "stdout",
     "output_type": "stream",
     "text": [
      "test_score(AUC): 0.848412674294339\n"
     ]
    }
   ],
   "source": [
    "# ONNX形式のモデルを動かすためのライブラリを読み込む\n",
    "import onnxruntime as rt\n",
    "\n",
    "# ONNX形式で推論\n",
    "session = rt.InferenceSession(\"lgb.onnx\")\n",
    "\n",
    "# 入力値の設定\n",
    "input_name = session.get_inputs()[0].name\n",
    "np_data = np.array(test_x.values).astype(np.float32)\n",
    "\n",
    "# テスト用データでのAUCを計算\n",
    "pred_list = []\n",
    "for i in range(len(test_x)):\n",
    "    onnx_pred = session.run(None, {input_name: np_data[i,:].reshape(1,-1)})\n",
    "    pred_list.append(onnx_pred[1][0][1])\n",
    "\n",
    "test_pred_onnx = np.array(pred_list)\n",
    "\n",
    "print('test_score(AUC):', roc_auc_score(y_true=test_y, y_score=test_pred_onnx))"
   ]
  },
  {
   "cell_type": "markdown",
   "metadata": {
    "tags": []
   },
   "source": [
    "## オリジナル形式とONNX形式で推論結果を比較"
   ]
  },
  {
   "cell_type": "code",
   "execution_count": 16,
   "metadata": {},
   "outputs": [
    {
     "data": {
      "text/plain": [
       "array([0.31988446, 0.05443292, 0.22777781, ..., 0.03101939, 0.62259999,\n",
       "       0.45430846])"
      ]
     },
     "execution_count": 16,
     "metadata": {},
     "output_type": "execute_result"
    }
   ],
   "source": [
    "test_pred"
   ]
  },
  {
   "cell_type": "code",
   "execution_count": 17,
   "metadata": {},
   "outputs": [
    {
     "data": {
      "text/plain": [
       "array([0.31988442, 0.05443287, 0.22777778, ..., 0.03101945, 0.62260008,\n",
       "       0.45430845])"
      ]
     },
     "execution_count": 17,
     "metadata": {},
     "output_type": "execute_result"
    }
   ],
   "source": [
    "test_pred_onnx"
   ]
  },
  {
   "cell_type": "markdown",
   "metadata": {},
   "source": [
    "ONNXランタイムは倍精度浮動小数点ではなく単精度浮動小数点を使用するため、わずかな誤差が生じることがある"
   ]
  },
  {
   "cell_type": "markdown",
   "metadata": {
    "tags": []
   },
   "source": [
    "## オリジナル形式とONNX形式の推論速度比較"
   ]
  },
  {
   "cell_type": "code",
   "execution_count": 104,
   "metadata": {},
   "outputs": [
    {
     "name": "stdout",
     "output_type": "stream",
     "text": [
      "190 µs ± 21.8 µs per loop (mean ± std. dev. of 7 runs, 1000 loops each)\n"
     ]
    }
   ],
   "source": [
    "%%timeit -r 7 -n 1000\n",
    "\n",
    "# LightGBMオリジナル形式の推論速度計測\n",
    "test_pred = model.predict(test_x.values[0,:].reshape(1,-1))"
   ]
  },
  {
   "cell_type": "code",
   "execution_count": 105,
   "metadata": {
    "tags": []
   },
   "outputs": [
    {
     "name": "stdout",
     "output_type": "stream",
     "text": [
      "36.8 µs ± 5.23 µs per loop (mean ± std. dev. of 7 runs, 1000 loops each)\n"
     ]
    }
   ],
   "source": [
    "%%timeit -r 7 -n 1000\n",
    "\n",
    "# ONNX形式の推論速度計測\n",
    "onnx_pred = session.run(None, {input_name: np_data[0,:].reshape(1,-1)})"
   ]
  },
  {
   "cell_type": "markdown",
   "metadata": {},
   "source": [
    "## 推論サーバのコンテナ起動"
   ]
  },
  {
   "cell_type": "markdown",
   "metadata": {},
   "source": [
    "ここまで来たらノートブック上での作業は一時停止  \n",
    "資料のハンズオンの進め方に戻って推論サーバのコンテナを起動する"
   ]
  },
  {
   "cell_type": "markdown",
   "metadata": {},
   "source": [
    "## web APIとしてデプロイしたモデルで推論実行"
   ]
  },
  {
   "cell_type": "markdown",
   "metadata": {},
   "source": [
    "推論サーバのコンテナが起動したら、再びこのノートブックに戻ってきてリクエストを投げる"
   ]
  },
  {
   "cell_type": "code",
   "execution_count": 19,
   "metadata": {},
   "outputs": [
    {
     "name": "stdout",
     "output_type": "stream",
     "text": [
      "{\"health\":\"ok\"}"
     ]
    },
    {
     "name": "stderr",
     "output_type": "stream",
     "text": [
      "  % Total    % Received % Xferd  Average Speed   Time    Time     Time  Current\n",
      "                                 Dload  Upload   Total   Spent    Left  Speed\n",
      "100    15  100    15    0     0    937      0 --:--:-- --:--:-- --:--:--   937\n"
     ]
    }
   ],
   "source": [
    "%%bash\n",
    "\n",
    "curl web_single_pattern:8000/health"
   ]
  },
  {
   "cell_type": "code",
   "execution_count": 20,
   "metadata": {},
   "outputs": [
    {
     "name": "stdout",
     "output_type": "stream",
     "text": [
      "{\"data_type\":\"float32\",\"data_structure\":\"(1,19)\",\"data_sample\":[[1.0,0.0,1.0,1.0,-0.79199,1.0,1.0,3.0,3.0,1.0,3.0,1.0,3.0,1.0,1.0,1.0,3.0,0.04635515,-0.60534847]],\"prediction_type\":\"float32\",\"prediction_structure\":\"(1,2)\",\"prediction_sample\":[0.6801156401634216,0.31988435983657837]}"
     ]
    },
    {
     "name": "stderr",
     "output_type": "stream",
     "text": [
      "  % Total    % Received % Xferd  Average Speed   Time    Time     Time  Current\n",
      "                                 Dload  Upload   Total   Spent    Left  Speed\n",
      "100   283  100   283    0     0  15722      0 --:--:-- --:--:-- --:--:-- 15722\n"
     ]
    }
   ],
   "source": [
    "%%bash\n",
    "\n",
    "curl web_single_pattern:8000/metadata"
   ]
  },
  {
   "cell_type": "code",
   "execution_count": 21,
   "metadata": {},
   "outputs": [
    {
     "name": "stdout",
     "output_type": "stream",
     "text": [
      "{\"0\":\"not churn\",\"1\":\"churn\"}"
     ]
    },
    {
     "name": "stderr",
     "output_type": "stream",
     "text": [
      "  % Total    % Received % Xferd  Average Speed   Time    Time     Time  Current\n",
      "                                 Dload  Upload   Total   Spent    Left  Speed\n",
      "100    29  100    29    0     0   2636      0 --:--:-- --:--:-- --:--:--  2636\n"
     ]
    }
   ],
   "source": [
    "%%bash\n",
    "\n",
    "curl web_single_pattern:8000/label"
   ]
  },
  {
   "cell_type": "code",
   "execution_count": 22,
   "metadata": {},
   "outputs": [
    {
     "name": "stdout",
     "output_type": "stream",
     "text": [
      "{\"prediction\":[0.6801156401634216,0.31988435983657837]}"
     ]
    },
    {
     "name": "stderr",
     "output_type": "stream",
     "text": [
      "  % Total    % Received % Xferd  Average Speed   Time    Time     Time  Current\n",
      "                                 Dload  Upload   Total   Spent    Left  Speed\n",
      "100    55  100    55    0     0   5000      0 --:--:-- --:--:-- --:--:--  5000\n"
     ]
    }
   ],
   "source": [
    "%%bash\n",
    "\n",
    "curl web_single_pattern:8000/predict/test"
   ]
  },
  {
   "cell_type": "markdown",
   "metadata": {},
   "source": [
    "推論結果として戻ってくるリストの1つ目の要素はラベル0の確率、2つ目の要素はラベル1の確率"
   ]
  },
  {
   "cell_type": "code",
   "execution_count": 18,
   "metadata": {},
   "outputs": [
    {
     "name": "stdout",
     "output_type": "stream",
     "text": [
      "{\"prediction\":[0.7722222208976746,0.22777777910232544]}"
     ]
    },
    {
     "name": "stderr",
     "output_type": "stream",
     "text": [
      "  % Total    % Received % Xferd  Average Speed   Time    Time     Time  Current\n",
      "                                 Dload  Upload   Total   Spent    Left  Speed\n",
      "100   159  100    55  100   104   3666   6933 --:--:-- --:--:-- --:--:-- 10600\n"
     ]
    }
   ],
   "source": [
    "%%bash\n",
    "\n",
    "curl \\\n",
    "    -X POST \\\n",
    "    -H \"Content-Type: application/json\" \\\n",
    "    -d '{\"data\": [[2,0,2,1,-1.199142974743425,2,3,3,3,1,3,3,3,3,1,2,4,-1.0034271946515967,-0.9422390569253819]]}' \\\n",
    "    web_single_pattern:8000/predict"
   ]
  },
  {
   "cell_type": "code",
   "execution_count": 109,
   "metadata": {},
   "outputs": [
    {
     "name": "stdout",
     "output_type": "stream",
     "text": [
      "test_score(AUC): 0.848412674294339\n"
     ]
    }
   ],
   "source": [
    "# テスト用データ全件について推論実行\n",
    "import requests\n",
    "\n",
    "headers = {\"Content-Type\": \"application/json\"}\n",
    "\n",
    "pred_list = []\n",
    "for i in range(len(test_x)):\n",
    "    request_data = np_data[i,:].reshape(1,-1)\n",
    "    data = {\"data\": request_data.tolist()}\n",
    "    try:\n",
    "        r = requests.post('http://web_single_pattern:8000/predict', json=data, headers=headers)\n",
    "        pred_list.append(list(r.json().values())[0][1])\n",
    "    except:\n",
    "        pred_list.append(0.5) # 通信の問題か入力の問題か、結果が返ってこないことがあったので補完\n",
    "\n",
    "test_pred_deploy = np.array(pred_list)\n",
    "\n",
    "# テスト用データのAUCを計算\n",
    "print('test_score(AUC):', roc_auc_score(y_true=test_y, y_score=test_pred_deploy))"
   ]
  },
  {
   "cell_type": "markdown",
   "metadata": {
    "tags": []
   },
   "source": [
    "## オリジナル形式とONNX形式（ノートブック）とONNX形式（web API）で推論結果を比較"
   ]
  },
  {
   "cell_type": "code",
   "execution_count": 16,
   "metadata": {},
   "outputs": [
    {
     "data": {
      "text/plain": [
       "array([0.31988446, 0.05443292, 0.22777781, ..., 0.03101939, 0.62259999,\n",
       "       0.45430846])"
      ]
     },
     "execution_count": 16,
     "metadata": {},
     "output_type": "execute_result"
    }
   ],
   "source": [
    "test_pred"
   ]
  },
  {
   "cell_type": "code",
   "execution_count": 17,
   "metadata": {},
   "outputs": [
    {
     "data": {
      "text/plain": [
       "array([0.31988442, 0.05443287, 0.22777778, ..., 0.03101945, 0.62260008,\n",
       "       0.45430845])"
      ]
     },
     "execution_count": 17,
     "metadata": {},
     "output_type": "execute_result"
    }
   ],
   "source": [
    "test_pred_onnx"
   ]
  },
  {
   "cell_type": "code",
   "execution_count": 108,
   "metadata": {},
   "outputs": [
    {
     "data": {
      "text/plain": [
       "array([0.31988436, 0.05443287, 0.22777778, ..., 0.03101945, 0.62260002,\n",
       "       0.45430845])"
      ]
     },
     "execution_count": 108,
     "metadata": {},
     "output_type": "execute_result"
    }
   ],
   "source": [
    "test_pred_deploy"
   ]
  },
  {
   "cell_type": "markdown",
   "metadata": {},
   "source": [
    "ONNXランタイムは倍精度浮動小数点ではなく単精度浮動小数点を使用するため、わずかな誤差が生じることがある"
   ]
  }
 ],
 "metadata": {
  "interpreter": {
   "hash": "f6db6df122c4444d5337e1611ea3126c13bfd73b114ae6a69defa5d135b8fd60"
  },
  "kernelspec": {
   "display_name": "Python 3 (ipykernel)",
   "language": "python",
   "name": "python3"
  },
  "language_info": {
   "codemirror_mode": {
    "name": "ipython",
    "version": 3
   },
   "file_extension": ".py",
   "mimetype": "text/x-python",
   "name": "python",
   "nbconvert_exporter": "python",
   "pygments_lexer": "ipython3",
   "version": "3.8.11"
  }
 },
 "nbformat": 4,
 "nbformat_minor": 4
}
